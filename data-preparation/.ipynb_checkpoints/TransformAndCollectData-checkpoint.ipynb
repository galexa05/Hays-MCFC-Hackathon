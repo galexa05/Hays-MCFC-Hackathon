{
 "cells": [
  {
   "cell_type": "markdown",
   "id": "b0c339e1-21c5-474d-bfe1-c5fbff1a336a",
   "metadata": {},
   "source": [
    "## Import libraries"
   ]
  },
  {
   "cell_type": "code",
   "execution_count": 50,
   "id": "de3e4cd9-5609-41f8-8416-c67a1cc4c230",
   "metadata": {
    "tags": []
   },
   "outputs": [],
   "source": [
    "import pandas as pd\n",
    "import numpy as np\n",
    "import json\n",
    "import glob"
   ]
  },
  {
   "cell_type": "markdown",
   "id": "3d0d6fc1-56f6-4935-b0e2-73eeb19b574b",
   "metadata": {
    "tags": []
   },
   "source": [
    "## Load files"
   ]
  },
  {
   "cell_type": "markdown",
   "id": "46153b47-9bb7-44ae-960b-3fffd376619a",
   "metadata": {
    "tags": []
   },
   "source": [
    "### Load all the meta data from every match as a dictionary object"
   ]
  },
  {
   "cell_type": "code",
   "execution_count": 71,
   "id": "37779580-295d-4546-9b7e-33df8037fd45",
   "metadata": {
    "tags": []
   },
   "outputs": [],
   "source": [
    "# Define the wildcard pattern to match the file names\n",
    "pattern = '../data/*_SecondSpectrum_meta.json'\n",
    "# Use glob to find all files that match the pattern\n",
    "file_list = glob.glob(pattern)"
   ]
  },
  {
   "cell_type": "code",
   "execution_count": 54,
   "id": "5b852fcf-c9ac-409d-8b3d-b5bcbae63cbe",
   "metadata": {
    "tags": []
   },
   "outputs": [],
   "source": [
    "# Create an empty dictionary to store the JSON data\n",
    "data_dict = {}\n",
    "# Loop through the files and store the data in the dictionary with indexes\n",
    "for i, file_path in enumerate(file_list):\n",
    "    with open(file_path, 'r') as f:\n",
    "        data = json.load(f)\n",
    "        data_dict[i] = data"
   ]
  },
  {
   "cell_type": "markdown",
   "id": "bd55eaf0-620a-46ec-a273-5a0c5bc63864",
   "metadata": {},
   "source": [
    "### Convert the json file into dataframe"
   ]
  },
  {
   "cell_type": "code",
   "execution_count": 59,
   "id": "582a12c7-123f-41e5-a388-50016d67afa0",
   "metadata": {
    "tags": []
   },
   "outputs": [],
   "source": [
    "meta_df = pd.DataFrame.from_dict(data_dict, orient='index')"
   ]
  },
  {
   "cell_type": "markdown",
   "id": "bc9b401b-0597-4d03-9497-f078a39507bc",
   "metadata": {
    "tags": []
   },
   "source": [
    "### Transform the columns related to dates in a interpretable format"
   ]
  },
  {
   "cell_type": "code",
   "execution_count": 60,
   "id": "06875061-00d0-49aa-8077-0a4bda8d1162",
   "metadata": {
    "tags": []
   },
   "outputs": [],
   "source": [
    "# Combine day, month, and year columns to create a date column\n",
    "meta_df['Date'] = pd.to_datetime(meta_df[['day', 'month', 'year']])\n",
    "\n",
    "# Convert the timestamp column to datetime\n",
    "meta_df['Datetime'] = pd.to_datetime(meta_df['startTime'], unit='ms')"
   ]
  },
  {
   "cell_type": "markdown",
   "id": "9a83abe5-b18d-438b-98cf-0168b08c14be",
   "metadata": {},
   "source": [
    "### Select the propest columns for the table named \"Match Review\""
   ]
  },
  {
   "cell_type": "code",
   "execution_count": 70,
   "id": "6b7ad85a-37a3-4ef5-95ae-851fb76aa128",
   "metadata": {
    "tags": []
   },
   "outputs": [
    {
     "data": {
      "text/html": [
       "<div>\n",
       "<style scoped>\n",
       "    .dataframe tbody tr th:only-of-type {\n",
       "        vertical-align: middle;\n",
       "    }\n",
       "\n",
       "    .dataframe tbody tr th {\n",
       "        vertical-align: top;\n",
       "    }\n",
       "\n",
       "    .dataframe thead th {\n",
       "        text-align: right;\n",
       "    }\n",
       "</style>\n",
       "<table border=\"1\" class=\"dataframe\">\n",
       "  <thead>\n",
       "    <tr style=\"text-align: right;\">\n",
       "      <th></th>\n",
       "      <th>optaId</th>\n",
       "      <th>Datetime</th>\n",
       "      <th>Date</th>\n",
       "      <th>description</th>\n",
       "      <th>pitchLength</th>\n",
       "      <th>pitchWidth</th>\n",
       "      <th>homeScore</th>\n",
       "      <th>awayScore</th>\n",
       "      <th>ssiId</th>\n",
       "      <th>homeSsiId</th>\n",
       "      <th>homeOptaId</th>\n",
       "      <th>homeOptaUuid</th>\n",
       "      <th>awaySsiId</th>\n",
       "      <th>awayOptaId</th>\n",
       "      <th>awayOptaUuid</th>\n",
       "    </tr>\n",
       "  </thead>\n",
       "  <tbody>\n",
       "    <tr>\n",
       "      <th>2</th>\n",
       "      <td>2312152</td>\n",
       "      <td>2022-10-16 13:02:33.480</td>\n",
       "      <td>2022-10-16</td>\n",
       "      <td>MCI-W - LEI-WFC : 2022-10-16</td>\n",
       "      <td>104.971596</td>\n",
       "      <td>68.113655</td>\n",
       "      <td>4</td>\n",
       "      <td>0</td>\n",
       "      <td>7473d88d-af29-4e6c-855a-5b57a7dca2ea</td>\n",
       "      <td>edfee15e-0dd7-42bc-be2a-289870187ddc</td>\n",
       "      <td>9660</td>\n",
       "      <td>36tr17foeaf9ejjmt2txuoy3y</td>\n",
       "      <td>e6cbf28a-7fc6-443a-9d14-c24fdde711d0</td>\n",
       "      <td>12162</td>\n",
       "      <td>None</td>\n",
       "    </tr>\n",
       "    <tr>\n",
       "      <th>4</th>\n",
       "      <td>2312166</td>\n",
       "      <td>2022-10-30 14:01:36.160</td>\n",
       "      <td>2022-10-30</td>\n",
       "      <td>MCI-W - LIV-W : 2022-10-30</td>\n",
       "      <td>105.460800</td>\n",
       "      <td>67.665604</td>\n",
       "      <td>2</td>\n",
       "      <td>1</td>\n",
       "      <td>d66b33c2-4e7a-4c55-85dd-858eac9b9c3c</td>\n",
       "      <td>edfee15e-0dd7-42bc-be2a-289870187ddc</td>\n",
       "      <td>9660</td>\n",
       "      <td>36tr17foeaf9ejjmt2txuoy3y</td>\n",
       "      <td>4ecd00b0-0b70-4db4-8c56-e402a8785424</td>\n",
       "      <td>None</td>\n",
       "      <td>None</td>\n",
       "    </tr>\n",
       "    <tr>\n",
       "      <th>3</th>\n",
       "      <td>2312183</td>\n",
       "      <td>2022-12-04 14:01:49.680</td>\n",
       "      <td>2022-12-04</td>\n",
       "      <td>MCI-W - BHA : 2022-12-4</td>\n",
       "      <td>104.673195</td>\n",
       "      <td>68.177361</td>\n",
       "      <td>3</td>\n",
       "      <td>1</td>\n",
       "      <td>c170ec77-16f3-4eef-a73a-dc1921c992d7</td>\n",
       "      <td>edfee15e-0dd7-42bc-be2a-289870187ddc</td>\n",
       "      <td>9660</td>\n",
       "      <td>36tr17foeaf9ejjmt2txuoy3y</td>\n",
       "      <td>36e9ec32-d3ef-429f-b1bf-4cf654f83e70</td>\n",
       "      <td>9165</td>\n",
       "      <td>None</td>\n",
       "    </tr>\n",
       "    <tr>\n",
       "      <th>1</th>\n",
       "      <td>2312135</td>\n",
       "      <td>2023-02-11 12:31:07.880</td>\n",
       "      <td>2023-02-11</td>\n",
       "      <td>MCI-W - ARS-W : 2023-2-11</td>\n",
       "      <td>105.072182</td>\n",
       "      <td>68.334023</td>\n",
       "      <td>2</td>\n",
       "      <td>1</td>\n",
       "      <td>135840a0-2f40-4bcc-b5d3-51f4a3df272d</td>\n",
       "      <td>edfee15e-0dd7-42bc-be2a-289870187ddc</td>\n",
       "      <td>9660</td>\n",
       "      <td>36tr17foeaf9ejjmt2txuoy3y</td>\n",
       "      <td>a11d34f3-da66-4219-9332-85421e44692f</td>\n",
       "      <td>6272</td>\n",
       "      <td>None</td>\n",
       "    </tr>\n",
       "    <tr>\n",
       "      <th>0</th>\n",
       "      <td>2312213</td>\n",
       "      <td>2023-03-05 14:01:31.160</td>\n",
       "      <td>2023-03-05</td>\n",
       "      <td>MCI-W - TOT-W : 2023-3-5</td>\n",
       "      <td>105.173683</td>\n",
       "      <td>68.159683</td>\n",
       "      <td>3</td>\n",
       "      <td>1</td>\n",
       "      <td>fa5c217b-33ed-42da-bbfa-ad2f680cca40</td>\n",
       "      <td>edfee15e-0dd7-42bc-be2a-289870187ddc</td>\n",
       "      <td>9660</td>\n",
       "      <td>36tr17foeaf9ejjmt2txuoy3y</td>\n",
       "      <td>cddcbcf6-0c84-435b-90bb-074e72537ad7</td>\n",
       "      <td>6924</td>\n",
       "      <td>9ijyncrxsejz505dbadwr1dir</td>\n",
       "    </tr>\n",
       "  </tbody>\n",
       "</table>\n",
       "</div>"
      ],
      "text/plain": [
       "    optaId                Datetime       Date                   description  \\\n",
       "2  2312152 2022-10-16 13:02:33.480 2022-10-16  MCI-W - LEI-WFC : 2022-10-16   \n",
       "4  2312166 2022-10-30 14:01:36.160 2022-10-30    MCI-W - LIV-W : 2022-10-30   \n",
       "3  2312183 2022-12-04 14:01:49.680 2022-12-04       MCI-W - BHA : 2022-12-4   \n",
       "1  2312135 2023-02-11 12:31:07.880 2023-02-11     MCI-W - ARS-W : 2023-2-11   \n",
       "0  2312213 2023-03-05 14:01:31.160 2023-03-05      MCI-W - TOT-W : 2023-3-5   \n",
       "\n",
       "   pitchLength  pitchWidth  homeScore  awayScore  \\\n",
       "2   104.971596   68.113655          4          0   \n",
       "4   105.460800   67.665604          2          1   \n",
       "3   104.673195   68.177361          3          1   \n",
       "1   105.072182   68.334023          2          1   \n",
       "0   105.173683   68.159683          3          1   \n",
       "\n",
       "                                  ssiId                             homeSsiId  \\\n",
       "2  7473d88d-af29-4e6c-855a-5b57a7dca2ea  edfee15e-0dd7-42bc-be2a-289870187ddc   \n",
       "4  d66b33c2-4e7a-4c55-85dd-858eac9b9c3c  edfee15e-0dd7-42bc-be2a-289870187ddc   \n",
       "3  c170ec77-16f3-4eef-a73a-dc1921c992d7  edfee15e-0dd7-42bc-be2a-289870187ddc   \n",
       "1  135840a0-2f40-4bcc-b5d3-51f4a3df272d  edfee15e-0dd7-42bc-be2a-289870187ddc   \n",
       "0  fa5c217b-33ed-42da-bbfa-ad2f680cca40  edfee15e-0dd7-42bc-be2a-289870187ddc   \n",
       "\n",
       "  homeOptaId               homeOptaUuid                             awaySsiId  \\\n",
       "2       9660  36tr17foeaf9ejjmt2txuoy3y  e6cbf28a-7fc6-443a-9d14-c24fdde711d0   \n",
       "4       9660  36tr17foeaf9ejjmt2txuoy3y  4ecd00b0-0b70-4db4-8c56-e402a8785424   \n",
       "3       9660  36tr17foeaf9ejjmt2txuoy3y  36e9ec32-d3ef-429f-b1bf-4cf654f83e70   \n",
       "1       9660  36tr17foeaf9ejjmt2txuoy3y  a11d34f3-da66-4219-9332-85421e44692f   \n",
       "0       9660  36tr17foeaf9ejjmt2txuoy3y  cddcbcf6-0c84-435b-90bb-074e72537ad7   \n",
       "\n",
       "  awayOptaId               awayOptaUuid  \n",
       "2      12162                       None  \n",
       "4       None                       None  \n",
       "3       9165                       None  \n",
       "1       6272                       None  \n",
       "0       6924  9ijyncrxsejz505dbadwr1dir  "
      ]
     },
     "execution_count": 70,
     "metadata": {},
     "output_type": "execute_result"
    }
   ],
   "source": [
    "meta_df[[\n",
    "    'optaId',\n",
    "    'Datetime',\n",
    "    'Date',\n",
    "    'description',\n",
    "    'pitchLength',\n",
    "    'pitchWidth',\n",
    "    'homeScore', \n",
    "    'awayScore',\n",
    "    'ssiId',\n",
    "    'homeSsiId',\n",
    "    'homeOptaId',\n",
    "    'homeOptaUuid',\n",
    "    'awaySsiId',\n",
    "    'awayOptaId',\n",
    "    'awayOptaUuid'\n",
    "]]\\\n",
    ".sort_values(by='Datetime')"
   ]
  }
 ],
 "metadata": {
  "kernelspec": {
   "display_name": "Python 3 (ipykernel)",
   "language": "python",
   "name": "python3"
  },
  "language_info": {
   "codemirror_mode": {
    "name": "ipython",
    "version": 3
   },
   "file_extension": ".py",
   "mimetype": "text/x-python",
   "name": "python",
   "nbconvert_exporter": "python",
   "pygments_lexer": "ipython3",
   "version": "3.11.1"
  }
 },
 "nbformat": 4,
 "nbformat_minor": 5
}
