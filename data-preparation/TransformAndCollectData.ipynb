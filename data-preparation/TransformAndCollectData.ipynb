{
 "cells": [
  {
   "cell_type": "markdown",
   "id": "b0c339e1-21c5-474d-bfe1-c5fbff1a336a",
   "metadata": {},
   "source": [
    "## Import libraries"
   ]
  },
  {
   "cell_type": "code",
   "execution_count": 1,
   "id": "de3e4cd9-5609-41f8-8416-c67a1cc4c230",
   "metadata": {
    "tags": []
   },
   "outputs": [],
   "source": [
    "import pandas as pd\n",
    "import numpy as np\n",
    "import json\n",
    "import glob"
   ]
  },
  {
   "cell_type": "markdown",
   "id": "3d0d6fc1-56f6-4935-b0e2-73eeb19b574b",
   "metadata": {
    "tags": []
   },
   "source": [
    "## Load files (meta data for every match)"
   ]
  },
  {
   "cell_type": "markdown",
   "id": "46153b47-9bb7-44ae-960b-3fffd376619a",
   "metadata": {
    "tags": []
   },
   "source": [
    "### Load all the meta data from every match as a dictionary object"
   ]
  },
  {
   "cell_type": "code",
   "execution_count": 2,
   "id": "37779580-295d-4546-9b7e-33df8037fd45",
   "metadata": {
    "tags": []
   },
   "outputs": [],
   "source": [
    "# Define the wildcard pattern to match the file names\n",
    "pattern = '../data/*_SecondSpectrum_meta.json'\n",
    "# Use glob to find all files that match the pattern\n",
    "file_list = glob.glob(pattern)"
   ]
  },
  {
   "cell_type": "code",
   "execution_count": 3,
   "id": "5b852fcf-c9ac-409d-8b3d-b5bcbae63cbe",
   "metadata": {
    "tags": []
   },
   "outputs": [],
   "source": [
    "# Create an empty dictionary to store the JSON data\n",
    "data_dict = {}\n",
    "# Loop through the files and store the data in the dictionary with indexes\n",
    "for i, file_path in enumerate(file_list):\n",
    "    with open(file_path, 'r') as f:\n",
    "        data = json.load(f)\n",
    "        data_dict[i] = data"
   ]
  },
  {
   "cell_type": "markdown",
   "id": "bd55eaf0-620a-46ec-a273-5a0c5bc63864",
   "metadata": {},
   "source": [
    "### Convert the json file into dataframe"
   ]
  },
  {
   "cell_type": "code",
   "execution_count": 4,
   "id": "582a12c7-123f-41e5-a388-50016d67afa0",
   "metadata": {
    "tags": []
   },
   "outputs": [],
   "source": [
    "meta_df = pd.DataFrame.from_dict(data_dict, orient='index')"
   ]
  },
  {
   "cell_type": "markdown",
   "id": "bc9b401b-0597-4d03-9497-f078a39507bc",
   "metadata": {
    "tags": []
   },
   "source": [
    "### Transform the columns related to dates in a interpretable format"
   ]
  },
  {
   "cell_type": "code",
   "execution_count": 5,
   "id": "06875061-00d0-49aa-8077-0a4bda8d1162",
   "metadata": {
    "tags": []
   },
   "outputs": [],
   "source": [
    "# Combine day, month, and year columns to create a date column\n",
    "meta_df['Date'] = pd.to_datetime(meta_df[['day', 'month', 'year']])\n",
    "\n",
    "# Convert the timestamp column to datetime\n",
    "meta_df['Datetime'] = pd.to_datetime(meta_df['startTime'], unit='ms')"
   ]
  },
  {
   "cell_type": "markdown",
   "id": "9a83abe5-b18d-438b-98cf-0168b08c14be",
   "metadata": {},
   "source": [
    "### Define the table named \"Match Review\" "
   ]
  },
  {
   "cell_type": "code",
   "execution_count": 6,
   "id": "6b7ad85a-37a3-4ef5-95ae-851fb76aa128",
   "metadata": {
    "tags": []
   },
   "outputs": [],
   "source": [
    "match_review_df = \\\n",
    "meta_df[[\n",
    "    'optaId',\n",
    "    'Datetime',\n",
    "    'Date',\n",
    "    'description',\n",
    "    'pitchLength',\n",
    "    'pitchWidth',\n",
    "    'homeScore', \n",
    "    'awayScore',\n",
    "    'ssiId',\n",
    "    'homeSsiId',\n",
    "    'homeOptaId',\n",
    "    'homeOptaUuid',\n",
    "    'awaySsiId',\n",
    "    'awayOptaId',\n",
    "    'awayOptaUuid'\n",
    "]]\\\n",
    ".sort_values(by='Datetime')"
   ]
  },
  {
   "cell_type": "markdown",
   "id": "8f32b0d4-4887-453f-91f3-91d0541cb472",
   "metadata": {
    "tags": []
   },
   "source": [
    "## Create tables based on every match review"
   ]
  },
  {
   "cell_type": "code",
   "execution_count": 8,
   "id": "2159ea4f-f76b-436c-8d31-77ec7549c5c5",
   "metadata": {
    "tags": []
   },
   "outputs": [],
   "source": [
    "# Load the profile attributes for every player in every match home/away\n",
    "homePlayers_list = []\n",
    "awayPlayers_list = []\n",
    "j = 0\n",
    "players_match_dict = {}\n",
    "for match_dict in data_dict.values():\n",
    "    homePlayers = match_dict['homePlayers']\n",
    "    for i in range(len(homePlayers)):\n",
    "        homePlayers[i]['teamOptaId'] = match_dict['homeOptaId']\n",
    "        homePlayers[i]['teamOptaUuid'] = match_dict['homeOptaUuid']\n",
    "        homePlayers[i]['teamSsiId'] = match_dict['homeSsiId']\n",
    "        homePlayers[i]['opta_game_id'] = match_dict['optaId']\n",
    "        homePlayers[i]['ss_game_id'] = match_dict['ssiId']\n",
    "        players_match_dict[j] = homePlayers[i]\n",
    "        j += 1\n",
    "    awayPlayers = match_dict['awayPlayers']\n",
    "    for i in range(len(awayPlayers)):\n",
    "        awayPlayers[i]['teamOptaId'] = match_dict['awayOptaId']\n",
    "        awayPlayers[i]['teamOptaUuid'] = match_dict['awayOptaUuid']\n",
    "        awayPlayers[i]['teamSsiId'] = match_dict['awaySsiId']\n",
    "        awayPlayers[i]['opta_game_id'] = match_dict['optaId']\n",
    "        awayPlayers[i]['ss_game_id'] = match_dict['ssiId']\n",
    "        players_match_dict[j] = awayPlayers[i]\n",
    "        j += 1\n",
    "        \n",
    "    homePlayers_list.append(homePlayers)\n",
    "    awayPlayers_list.append(awayPlayers)"
   ]
  },
  {
   "cell_type": "code",
   "execution_count": 9,
   "id": "1871d935-5ec1-4c46-b397-b8510c1ee1e2",
   "metadata": {
    "tags": []
   },
   "outputs": [],
   "source": [
    "players_match_df = pd.DataFrame.from_dict(players_match_dict, orient='index')"
   ]
  },
  {
   "cell_type": "markdown",
   "id": "e5ef2771-1292-4201-8f85-4a1510079951",
   "metadata": {},
   "source": [
    "### Table named \"Player\" "
   ]
  },
  {
   "cell_type": "code",
   "execution_count": 10,
   "id": "fc42c4dc-6c9b-48f9-8962-22c3de277390",
   "metadata": {
    "tags": []
   },
   "outputs": [],
   "source": [
    "players_df = \\\n",
    "players_match_df[[\n",
    "    # 'number',\n",
    "    'name',\n",
    "    'ssiId',\n",
    "    'teamSsiId',\n",
    "    'optaId',\n",
    "    'optaUuid'\n",
    "]].drop_duplicates(subset=['ssiId'],keep='last')"
   ]
  },
  {
   "cell_type": "markdown",
   "id": "7fcbb3db-942b-4704-b795-fb6c8dd0b159",
   "metadata": {},
   "source": [
    "### Table named \"Team\" "
   ]
  },
  {
   "cell_type": "code",
   "execution_count": 11,
   "id": "5e81f485-7b6f-424f-88d6-f58570d4054a",
   "metadata": {
    "tags": []
   },
   "outputs": [],
   "source": [
    "teams_df = \\\n",
    "players_match_df[[\n",
    "    'teamOptaId',\n",
    "    'teamOptaUuid',\n",
    "    'teamSsiId'\n",
    "]].drop_duplicates()"
   ]
  },
  {
   "cell_type": "markdown",
   "id": "fae1ac18-4cfc-4a3b-8eec-0cb2eaebcec6",
   "metadata": {},
   "source": [
    "### Table named \"Players_Match_Meta\" "
   ]
  },
  {
   "cell_type": "code",
   "execution_count": 12,
   "id": "ff789c36-5271-45f1-a189-03e903cc8b71",
   "metadata": {
    "tags": []
   },
   "outputs": [],
   "source": [
    "players_match_meta_df = \\\n",
    "players_match_df[[\n",
    "    'position',\n",
    "    'ssiId',\n",
    "    'teamSsiId',\n",
    "    'opta_game_id',\n",
    "    'ss_game_id'\n",
    "]]"
   ]
  },
  {
   "cell_type": "markdown",
   "id": "fffce60e-78bb-4c53-a7af-27b02c86eca0",
   "metadata": {
    "jp-MarkdownHeadingCollapsed": true,
    "tags": []
   },
   "source": [
    "## Event tracking for every player and the ball"
   ]
  },
  {
   "cell_type": "code",
   "execution_count": 14,
   "id": "1c072c14-0e93-40fb-8ad6-2de36cc9f118",
   "metadata": {
    "tags": []
   },
   "outputs": [],
   "source": [
    "import re\n",
    "import xml.etree.ElementTree as ET"
   ]
  },
  {
   "cell_type": "code",
   "execution_count": 15,
   "id": "a6ca5fbb-2085-44f9-9495-3fe91d895a66",
   "metadata": {
    "tags": []
   },
   "outputs": [],
   "source": [
    "def transform_tracking_data(xml_file):\n",
    "    # Get the opta id extracted from file     \n",
    "    game_opta_id = re.findall(r'\\d+',xml_file.split('/')[2].split('_')[0])[0]\n",
    "    \n",
    "    # Load XML file\n",
    "    tree = ET.parse(xml_file)\n",
    "    root = tree.getroot()\n",
    "    \n",
    "    tracking_players_dict = {}\n",
    "    tracking_ball_dict = {}\n",
    "    i = 0\n",
    "    j = 0\n",
    "    # Loop over periods\n",
    "    for period in root.findall('period'):\n",
    "        period_num = period.get('number')\n",
    "\n",
    "        # Loop over frames\n",
    "        for frame in period.findall('frame'):\n",
    "            time = frame.get('time')\n",
    "            possession = frame.get('possession')\n",
    "            wallclock = frame.get('wall_clock')\n",
    "            live = frame.get('live')\n",
    "\n",
    "            # Loop over players in the frame\n",
    "            for player in frame.findall('player'):\n",
    "                player_id = player.get('id')\n",
    "                player_num = player.get('num')\n",
    "                loc = player.get('loc')\n",
    "                loc_list = eval(loc)\n",
    "                loc_x = loc_list[0]\n",
    "                loc_y = loc_list[1]\n",
    "                loc_z = loc_list[2]\n",
    "                spd = player.get('spd')\n",
    "                dist = player.get('dist')\n",
    "                opta_id = player.get('opta_id')\n",
    "                tracking_players_dict[i] = {\n",
    "                    'game_id' : game_opta_id,\n",
    "                    'period' : period_num,\n",
    "                    'time' : time,\n",
    "                    'wallclock':wallclock,\n",
    "                    'live':live,\n",
    "                    'possession' : possession,\n",
    "                    'player_id' : player_id,\n",
    "                    'player_name': player_num,\n",
    "                    # 'loc' : loc_list,\n",
    "                    'loc_x':loc_x,\n",
    "                    'loc_y':loc_y,\n",
    "                    'loc_z':loc_z,\n",
    "                    'spd' : spd,\n",
    "                    'dist' : dist,\n",
    "                    'opta_id' : opta_id\n",
    "                }\n",
    "                i+=1\n",
    "\n",
    "            for ball in frame.findall('ball'):\n",
    "                loc = ball.get('loc')\n",
    "                loc_list = eval(loc)\n",
    "                loc_x = loc_list[0]\n",
    "                loc_y = loc_list[1]\n",
    "                loc_z = loc_list[2]\n",
    "                spd = ball.get('spd')\n",
    "                dist = ball.get('dist') \n",
    "                tracking_ball_dict[j] = {\n",
    "                    'game_id' : game_opta_id,\n",
    "                    'period' : period_num,\n",
    "                    'time' : time,\n",
    "                    'wallclock':wallclock,\n",
    "                    'live':live,\n",
    "                    'possession' : possession,\n",
    "                    # 'loc' : loc_list,\n",
    "                    'loc_x':loc_x,\n",
    "                    'loc_y':loc_y,\n",
    "                    'loc_z':loc_z,\n",
    "                    'spd' : spd,\n",
    "                    'dist' : dist\n",
    "                }\n",
    "                j+=1\n",
    "    tracking_players_df = pd.DataFrame.from_dict(tracking_players_dict, orient='index')  \n",
    "    tracking_ball_df = pd.DataFrame.from_dict(tracking_ball_dict, orient='index')   \n",
    "    return({\n",
    "        'tracking_players':tracking_players_dict,\n",
    "        'tracking_ball':tracking_ball_dict\n",
    "    })"
   ]
  },
  {
   "cell_type": "code",
   "execution_count": 16,
   "id": "e35b0e8d-5f45-48d4-88de-be374c7b6372",
   "metadata": {
    "tags": []
   },
   "outputs": [],
   "source": [
    "# Define the wildcard pattern to match the file names\n",
    "xml_pattern = '../data/*_SecondSpectrum_tracking-produced.xml'\n",
    "# Use glob to find all files that match the pattern\n",
    "xml_file_list = glob.glob(xml_pattern)"
   ]
  },
  {
   "cell_type": "code",
   "execution_count": 17,
   "id": "2f709462-bdde-4af7-ac07-90e67cc16ee6",
   "metadata": {
    "tags": []
   },
   "outputs": [],
   "source": [
    "tracking_data_dict = {}"
   ]
  },
  {
   "cell_type": "code",
   "execution_count": 18,
   "id": "4111d972-c19c-48b3-b4aa-7542f90ed65d",
   "metadata": {
    "tags": []
   },
   "outputs": [
    {
     "name": "stdout",
     "output_type": "stream",
     "text": [
      "Xml file ../data/g2312183_SecondSpectrum_tracking-produced.xml completed\n",
      "Xml file ../data/g2312166_SecondSpectrum_tracking-produced.xml completed\n",
      "Xml file ../data/g2312152_SecondSpectrum_tracking-produced.xml completed\n",
      "Xml file ../data/g2312135_SecondSpectrum_tracking-produced.xml completed\n",
      "Xml file ../data/g2312213_SecondSpectrum_tracking-produced.xml completed\n"
     ]
    }
   ],
   "source": [
    "# Load and extract data from the xml files\n",
    "for i,xml_file in enumerate(xml_file_list):\n",
    "    if i not in tracking_data_dict.keys():\n",
    "        tracking_data = transform_tracking_data(xml_file)\n",
    "        tracking_data_dict[i] = tracking_data\n",
    "        print(f'Xml file {xml_file} completed')"
   ]
  },
  {
   "cell_type": "code",
   "execution_count": 37,
   "id": "43f7f0d4-0854-4cc2-98eb-e6459bfc5e52",
   "metadata": {
    "tags": []
   },
   "outputs": [],
   "source": [
    "tracking_data_dict_str = {str(key):value for key,value in tracking_data_dict.items()}"
   ]
  },
  {
   "cell_type": "code",
   "execution_count": 52,
   "id": "16422cd8-fc94-472e-ab02-8cf67034c590",
   "metadata": {
    "tags": []
   },
   "outputs": [
    {
     "name": "stderr",
     "output_type": "stream",
     "text": [
      "IOStream.flush timed out\n"
     ]
    }
   ],
   "source": [
    "# Extract the tracking of the game into a list of dataframes per game\n",
    "players_list_df = [pd.DataFrame.from_dict(tracking_data_dict[i]['tracking_players'],orient='index') for i,data_dict in enumerate(tracking_data_dict)]\n",
    "ball_list_df = [pd.DataFrame.from_dict(tracking_data_dict[i]['tracking_ball'],orient='index') for i,data_dict in enumerate(tracking_data_dict)]"
   ]
  },
  {
   "cell_type": "code",
   "execution_count": 59,
   "id": "e1692dd1-dd98-4d80-b115-335061f0dda3",
   "metadata": {
    "tags": []
   },
   "outputs": [],
   "source": [
    "# Transform a list of dataframes extraced for each game to an overall dataframe regarding each player and ball tracking\n",
    "tracking_players_df = pd.concat(players_list_df)\n",
    "tracking_ball_df = pd.concat(ball_list_df)"
   ]
  },
  {
   "cell_type": "markdown",
   "id": "ec58559b-8040-435a-ba61-43fcb20021da",
   "metadata": {
    "tags": []
   },
   "source": [
    "## Physical summary for the team and player"
   ]
  },
  {
   "cell_type": "code",
   "execution_count": 72,
   "id": "9f19283c-2daf-436c-ab2d-2a4746affe35",
   "metadata": {
    "tags": []
   },
   "outputs": [],
   "source": [
    "def transform_physical_summary(csv_file):\n",
    "    game_opta_id = re.findall(r'\\d+',csv_file.split('/')[2].split('_')[0])[0]\n",
    "\n",
    "    data = []\n",
    "    with open(csv_file, \"r\") as f:\n",
    "        lines = f.readlines()\n",
    "        rows = []\n",
    "        for line in lines:\n",
    "            if line.strip() == \"\":\n",
    "                # Empty line indicates a new data source\n",
    "                if rows:\n",
    "                    # Create a new dataframe and append it to the list\n",
    "                    df = pd.DataFrame(rows[1:], columns=rows[0])\n",
    "                    data.append(df)\n",
    "                    rows = []\n",
    "            else:\n",
    "                rows.append([cell.strip() for cell in line.split(\",\")])\n",
    "\n",
    "        # Create the last dataframe and append it to the list\n",
    "        if rows:\n",
    "            df = pd.DataFrame(rows[1:], columns=rows[0])\n",
    "            data.append(df)\n",
    "            \n",
    "    ### Summary of events in a match (game_id)\n",
    "    df_event_summary = \\\n",
    "    pd.DataFrame(\n",
    "        data = [record[1:] for record in data[1].values],\n",
    "        columns= ['Event'] + list(data[1].columns[2:])\n",
    "    )\n",
    "    df_event_summary['Game_id'] = game_opta_id\n",
    "    \n",
    "    ### Summary of events for a every player(player_id) in a match(game_id)\n",
    "    # Clean the name of players\n",
    "    data[2]['Player'] = data[2]['Player'].str.replace('\"','') \n",
    "    data[3]['Player'] = data[3]['Player'].str.replace('\"','') \n",
    "    # Clean the column names\n",
    "    data[2].columns = [col.replace('\"','') for col in list(data[2].columns)]\n",
    "    data[3].columns = [col.replace('\"','') for col in list(data[3].columns)]\n",
    "    # Determine the Home and Away teams     \n",
    "    data[2]['Stadium'] = 'Home'\n",
    "    data[3]['Stadium'] = 'Away'\n",
    "\n",
    "    players_physical_summary_df = pd.concat([data[2],data[3]])\n",
    "    players_physical_summary_df['Game ID'] = game_opta_id\n",
    "    \n",
    "    return ({\n",
    "        'players_physical_summary':players_physical_summary_df,\n",
    "        'overall_physical_summary':df_event_summary\n",
    "    })"
   ]
  },
  {
   "cell_type": "markdown",
   "id": "11366b77-fc3f-40d6-bbb9-c3e7b2d7dba1",
   "metadata": {
    "tags": []
   },
   "source": [
    "### Load all the meta data from every match as a dictionary object"
   ]
  },
  {
   "cell_type": "code",
   "execution_count": 67,
   "id": "facae083-fd55-4d6e-832b-16c695bdf270",
   "metadata": {
    "tags": []
   },
   "outputs": [],
   "source": [
    "# Define the wildcard pattern to match the file names\n",
    "pattern = '../data/*_SecondSpectrum_physical-summary.csv'\n",
    "# Use glob to find all files that match the pattern\n",
    "file_list = glob.glob(pattern)"
   ]
  },
  {
   "cell_type": "code",
   "execution_count": 69,
   "id": "776c80b5-1bfc-48c8-bb1f-f4e1f3ba3dbe",
   "metadata": {
    "tags": []
   },
   "outputs": [
    {
     "data": {
      "text/plain": [
       "['../data/g2312135_SecondSpectrum_physical-summary.csv',\n",
       " '../data/g2312183_SecondSpectrum_physical-summary.csv',\n",
       " '../data/g2312166_SecondSpectrum_physical-summary.csv',\n",
       " '../data/g2312152_SecondSpectrum_physical-summary.csv',\n",
       " '../data/g2312213_SecondSpectrum_physical-summary.csv']"
      ]
     },
     "execution_count": 69,
     "metadata": {},
     "output_type": "execute_result"
    }
   ],
   "source": [
    "file_list"
   ]
  },
  {
   "cell_type": "code",
   "execution_count": 73,
   "id": "049bcba9-6344-4272-8edd-023dbf05892f",
   "metadata": {
    "tags": []
   },
   "outputs": [],
   "source": [
    "physical_summary = [transform_physical_summary(csv_file) for csv_file in file_list]"
   ]
  },
  {
   "cell_type": "code",
   "execution_count": 82,
   "id": "f33e583e-bce5-43b3-9e0c-0de54612fc96",
   "metadata": {
    "tags": []
   },
   "outputs": [],
   "source": [
    "players_physical_summary_df = pd.concat([summary['players_physical_summary'] for summary in physical_summary]).reset_index(drop=True)\n",
    "overall_physical_summary_df = pd.concat([summary['overall_physical_summary'] for summary in physical_summary]).reset_index(drop=True)"
   ]
  },
  {
   "cell_type": "markdown",
   "id": "0267584a-63d0-49d7-9544-edb28650dcfa",
   "metadata": {
    "tags": []
   },
   "source": [
    "## Physical Splits for Teams and Players"
   ]
  },
  {
   "cell_type": "markdown",
   "id": "952fb189-5e0d-41fe-abbb-1266026350f7",
   "metadata": {},
   "source": [
    "### Load all the requires csv files "
   ]
  },
  {
   "cell_type": "code",
   "execution_count": 91,
   "id": "83343be8-d3f6-4625-8e3e-1da066aa554b",
   "metadata": {
    "tags": []
   },
   "outputs": [],
   "source": [
    "# Define the wildcard pattern to match the file names\n",
    "pattern = '../data/*_SecondSpectrum_physical-splits.csv'\n",
    "# Use glob to find all files that match the pattern\n",
    "file_list = glob.glob(pattern)"
   ]
  },
  {
   "cell_type": "markdown",
   "id": "e19549a9-ea88-4b4e-b528-64783a935863",
   "metadata": {},
   "source": [
    "### Load physical splits details for each team in aggregate level per 5 minutes"
   ]
  },
  {
   "cell_type": "code",
   "execution_count": 92,
   "id": "2e755305-382d-4db4-8eed-bc0489d31acc",
   "metadata": {
    "tags": []
   },
   "outputs": [],
   "source": [
    "def load_physical_df(df,physical_attrs):\n",
    "    result_df = df.copy()\n",
    "    for values in physical_attrs:\n",
    "        result_df[values[0].replace('\"','')] = values[1:]\n",
    "    return result_df\n",
    "    return result_df[result_df['Minute Splits']!=0]"
   ]
  },
  {
   "cell_type": "code",
   "execution_count": 98,
   "id": "8f54e2b9-51da-40db-9752-88e63cefb196",
   "metadata": {
    "tags": []
   },
   "outputs": [],
   "source": [
    "def get_players_physical_splits(team_players,team_code,team_name,minutes_col,minutes_val,half_time,game_opta_id):    \n",
    "    player_df_list = []\n",
    "    for player in team_players:\n",
    "        # get the profile attributes of a player         \n",
    "        player_attr = player[0][0].split(\"(\")\n",
    "        player_name = player_attr[0].replace('\"','').strip()\n",
    "        try:\n",
    "            player_id =  re.findall(r'\\d+',player_attr[1])[0]\n",
    "        except:\n",
    "            player_id = None\n",
    "        home_players_attrs = player[1:]\n",
    "        home_players_attrs_df = pd.DataFrame()\n",
    "        \n",
    "        player_df = load_physical_df(home_players_attrs_df,home_players_attrs)\n",
    "        player_df[minutes_col] = minutes_val\n",
    "        player_df['player_name'] = player_name\n",
    "        player_df['player_id'] = player_id\n",
    "        player_df['game_opta_id'] = game_opta_id\n",
    "        player_df['team_id'] = team_code\n",
    "        player_df['team_name'] = team_name\n",
    "        player_df['half'] = half_time\n",
    "        player_df_list.append(player_df[player_df['Minute Splits']!=0])\n",
    "    return(pd.concat(player_df_list))"
   ]
  },
  {
   "cell_type": "code",
   "execution_count": 102,
   "id": "434d9923-4af5-4f32-9be3-8bad63e5b18e",
   "metadata": {
    "tags": []
   },
   "outputs": [],
   "source": [
    "def get_team_physical_splits(result_data,select_team=0,game_opta_id=None):\n",
    "    team_splits = np.array([1 if 'Minute Splits' in record[0][0] else 0 for record in result_data])\n",
    "    team_split_index = np.where(team_splits==1)[0][select_team]\n",
    "    team_split = np.where(team_splits==1)[0]\n",
    "    \n",
    "    minutes_split_col = result_data[team_split_index][0][0].replace('\"','')\n",
    "    minutes_split_val = np.array([int(num.replace('','0')) if num=='' else int(num) for num in result_data[team_split_index][0][1:]])\n",
    "    \n",
    "    # Identidy the values for the first and second half\n",
    "    idx = np.where(minutes_split_val == 0)[0][0]\n",
    "    # create a new array of the same shape as arr with all values set to 0\n",
    "    half = np.zeros(minutes_split_val.shape, dtype=int)\n",
    "    # set values before 0 to 1, and values after 0 to 2\n",
    "    half[:idx] = 1\n",
    "    half[idx+1:] = 2\n",
    "    \n",
    "    team_attr = result_data[team_split_index][1][0].split('(')\n",
    "    team_attr_name = team_attr[0].strip().replace('\"','')\n",
    "    try:\n",
    "        team_attr_code = re.findall(r'\\d+',team_attr[1])[0]\n",
    "    except:\n",
    "        team_attr_code = None\n",
    "    \n",
    "    physical_attrs = result_data[team_split_index][2:]\n",
    "    physical_attrs_df = pd.DataFrame()\n",
    "    physical_attrs_df[minutes_split_col] = minutes_split_val\n",
    "    physical_attrs_df['team_id'] = team_attr_code\n",
    "    physical_attrs_df['team_name'] = team_attr_name\n",
    "    physical_attrs_df['half'] = half\n",
    "    physical_attrs_df['game_opta_id'] = game_opta_id\n",
    "\n",
    "    # get the overall physical attribute of a team\n",
    "    team_physical_attrs_df = load_physical_df(physical_attrs_df,physical_attrs)\n",
    "    team_physical_attrs_df = team_physical_attrs_df[team_physical_attrs_df['Minute Splits']!=0]\n",
    "    \n",
    "    # get the attributes of the team's players\n",
    "    if select_team == 0:\n",
    "        # import pdb;pdb.set_trace()\n",
    "        team_players = result_data[team_split[0]+1:team_split[1]]\n",
    "    else:\n",
    "        team_players = result_data[team_split[1]+1:]\n",
    "        \n",
    "    players_physical_attrs_df = \\\n",
    "    get_players_physical_splits(\n",
    "        team_players=team_players,\n",
    "        team_code=team_attr_code,\n",
    "        team_name=team_attr_name,\n",
    "        minutes_col=minutes_split_col,\n",
    "        minutes_val=minutes_split_val,\n",
    "        half_time = half,\n",
    "        game_opta_id=game_opta_id\n",
    "    )\n",
    "    return (team_physical_attrs_df,players_physical_attrs_df)"
   ]
  },
  {
   "cell_type": "code",
   "execution_count": 103,
   "id": "f1371d60-68f9-4ec9-86b2-58835bd77ef2",
   "metadata": {
    "tags": []
   },
   "outputs": [],
   "source": [
    "def get_physical_dataframe(file_list):\n",
    "    total_team_physical_attrs_list = []\n",
    "    total_players_plhysical_attrs_list = []\n",
    "    for csv_file in file_list:\n",
    "        game_opta_id = re.findall(r'\\d+',csv_file.split('/')[2].split('_')[0])[0]\n",
    "        # print(game_opta_id)\n",
    "        result_data = []\n",
    "        with open(csv_file, \"r\") as f:\n",
    "            lines = f.readlines()\n",
    "            rows = []\n",
    "            for line in lines:\n",
    "                if line.strip() == \"\":\n",
    "                    # Empty line indicates a new data source\n",
    "                    if rows:\n",
    "                        result_data.append(rows)\n",
    "                        rows = []\n",
    "                else:\n",
    "                    rows.append([cell.strip() for cell in line.split(\",\")])\n",
    "\n",
    "        team_splits = np.array([1 if 'Minute Splits' in record[0][0] else 0 for record in result_data])\n",
    "        first_team_physical_attrs_df,first_players_plhysical_attrs_df = get_team_physical_splits(result_data,select_team=0,game_opta_id=game_opta_id)\n",
    "        second_team_physical_attrs_df,second_players_physical_attrs_df = get_team_physical_splits(result_data,select_team=1,game_opta_id=game_opta_id)\n",
    "\n",
    "        total_team_physical_attrs_df = pd.concat([first_team_physical_attrs_df,second_team_physical_attrs_df])\n",
    "        total_players_plhysical_attrs_df = pd.concat([first_players_plhysical_attrs_df,second_players_physical_attrs_df])\n",
    "\n",
    "        total_team_physical_attrs_list.append(total_team_physical_attrs_df)\n",
    "        total_players_plhysical_attrs_list.append(total_players_plhysical_attrs_df)\n",
    "    return(\n",
    "        {\n",
    "            'Team':pd.concat(total_team_physical_attrs_list),\n",
    "            'Players':pd.concat(total_players_plhysical_attrs_list)\n",
    "        }\n",
    "    )"
   ]
  },
  {
   "cell_type": "code",
   "execution_count": 104,
   "id": "15b63a2f-edda-4f42-8e37-5236c918a453",
   "metadata": {
    "tags": []
   },
   "outputs": [],
   "source": [
    "physical_data = get_physical_dataframe(file_list)"
   ]
  },
  {
   "cell_type": "markdown",
   "id": "56dddb46-e9b1-4a10-a116-94d5fd38a271",
   "metadata": {
    "tags": []
   },
   "source": [
    "## Export all the data into several dataframes"
   ]
  },
  {
   "cell_type": "code",
   "execution_count": 65,
   "id": "9eae7965-81a8-4569-a0c2-e157e1878c77",
   "metadata": {
    "tags": []
   },
   "outputs": [],
   "source": [
    "# directory of the exported data\n",
    "directory = '../final_data/'"
   ]
  },
  {
   "cell_type": "code",
   "execution_count": 66,
   "id": "3632acec-07f9-493a-82d6-4dae97541cb4",
   "metadata": {
    "tags": []
   },
   "outputs": [],
   "source": [
    "# match reviews\n",
    "match_review_df.to_csv(directory+'match_review.csv',index=False)\n",
    "\n",
    "# meta data for every player in every match\n",
    "players_match_meta_df.to_csv(directory+'players_match_meta.csv',index=False)\n",
    "\n",
    "# meta data for every team\n",
    "teams_df.to_csv(directory+'team.csv',index=False)\n",
    "\n",
    "# meta data for every player \n",
    "players_df.to_csv(directory+'player.csv',index=False)\n",
    "\n",
    "# tracking of players\n",
    "tracking_players_df.to_csv(directory+'tracking_player.csv',index=False)\n",
    "\n",
    "# tracking of ball\n",
    "tracking_ball_df.to_csv(directory+'tracking_ball.csv',index=False)"
   ]
  },
  {
   "cell_type": "code",
   "execution_count": 90,
   "id": "fbe5927a-24ec-4670-84d0-7956aea7571a",
   "metadata": {
    "tags": []
   },
   "outputs": [],
   "source": [
    "# Physical summary of players\n",
    "players_physical_summary_df.to_csv(directory+'players_physical_summary.csv',index=False)\n",
    "\n",
    "# Overall Physical summary\n",
    "overall_physical_summary_df.to_csv(directory+'overall_physical_summary.csv',index=False)"
   ]
  },
  {
   "cell_type": "code",
   "execution_count": 105,
   "id": "835a0012-a3a2-4224-8b5c-0bec46fe39c4",
   "metadata": {},
   "outputs": [],
   "source": [
    "# Physical splits of teams\n",
    "physical_data['Team'].to_csv(directory+'team_physical_splits.csv',index=False)\n",
    "\n",
    "# Physical splits of players\n",
    "physical_data['Players'].to_csv(directory+'player_physical_splits.csv',index=False)"
   ]
  }
 ],
 "metadata": {
  "kernelspec": {
   "display_name": "Python 3 (ipykernel)",
   "language": "python",
   "name": "python3"
  },
  "language_info": {
   "codemirror_mode": {
    "name": "ipython",
    "version": 3
   },
   "file_extension": ".py",
   "mimetype": "text/x-python",
   "name": "python",
   "nbconvert_exporter": "python",
   "pygments_lexer": "ipython3",
   "version": "3.11.1"
  }
 },
 "nbformat": 4,
 "nbformat_minor": 5
}
