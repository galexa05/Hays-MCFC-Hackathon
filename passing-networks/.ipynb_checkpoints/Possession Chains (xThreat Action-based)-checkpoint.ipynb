{
 "cells": [
  {
   "cell_type": "markdown",
   "id": "13374de5-8cae-4e22-b14c-0bf2a4210c51",
   "metadata": {
    "tags": []
   },
   "source": [
    "## Import required libraries"
   ]
  },
  {
   "cell_type": "code",
   "execution_count": 1,
   "id": "5d9d5888-c095-40a5-aea0-e10300dc48ee",
   "metadata": {
    "tags": []
   },
   "outputs": [],
   "source": [
    "import pandas as pd\n",
    "import numpy as np\n",
    "import json\n",
    "# plotting\n",
    "import os\n",
    "import pathlib\n",
    "import warnings\n",
    "import statsmodels.api as sm\n",
    "import statsmodels.formula.api as smf\n",
    "from mplsoccer import Pitch\n",
    "import matplotlib.pyplot as plt\n",
    "import glob\n",
    "import math\n",
    "from itertools import combinations_with_replacement\n",
    "from sklearn.model_selection import train_test_split\n",
    "from xgboost import XGBRegressor,XGBClassifier\n",
    "from sklearn.linear_model import LinearRegression\n",
    "\n",
    "pd.options.mode.chained_assignment = None\n",
    "warnings.filterwarnings('ignore')"
   ]
  },
  {
   "cell_type": "markdown",
   "id": "ba84d3c3-aeb2-4cfc-a6af-064e4ee1fb10",
   "metadata": {},
   "source": [
    "## Import all events per Man City's matches"
   ]
  },
  {
   "cell_type": "code",
   "execution_count": 2,
   "id": "15937d77-5ebd-4e0b-9971-14a348e3eff8",
   "metadata": {
    "tags": []
   },
   "outputs": [],
   "source": [
    "# Define the wildcard pattern to match the file names\n",
    "# pattern = '../data/StatsBomb/Data/*_events.json'\n",
    "# file_list = file_list[:80]\n",
    "pattern = '../../../statsbomb_open_data/open-data/data/events/*.json'\n",
    "# Use glob to find all files that match the pattern\n",
    "file_list = glob.glob(pattern)"
   ]
  },
  {
   "cell_type": "code",
   "execution_count": 4,
   "id": "52a2c2a5-e3fa-45d2-9371-adbc0534a3c3",
   "metadata": {
    "tags": []
   },
   "outputs": [],
   "source": [
    "match_game = '_'.join(file_list[0].split('/')[-1].split('_')[:2])\n",
    "\n",
    "df_list = []\n",
    "for file in file_list:\n",
    "    # Open the file and load its contents into a dictionary\n",
    "    with open(file, 'r') as f:\n",
    "        data = json.load(f)\n",
    "        match_game = '_'.join(file.split('/')[-1].split('_')[:2])\n",
    "        df_game = pd.json_normalize(data,sep='_')\n",
    "        df_game['match_game'] = match_game\n",
    "        # Convert the list of JSON values to a DataFrame\n",
    "        df_list.append(df_game)"
   ]
  },
  {
   "cell_type": "code",
   "execution_count": 5,
   "id": "75886a48-d180-457c-a215-c2ac9572d30a",
   "metadata": {
    "tags": []
   },
   "outputs": [],
   "source": [
    "df = pd.concat(df_list,ignore_index = True)\n",
    "\n",
    "match_games = df['match_game'].unique()\n",
    "df_games = {game:df[df['match_game']==game] for game in match_games}"
   ]
  },
  {
   "cell_type": "code",
   "execution_count": 6,
   "id": "878e1d6a-da6d-4b09-9b0b-32ebba973143",
   "metadata": {
    "tags": []
   },
   "outputs": [],
   "source": [
    "example_match = match_games[0]"
   ]
  },
  {
   "cell_type": "markdown",
   "id": "529ce279-87d8-4a89-975e-17d9b73b5fe8",
   "metadata": {
    "tags": []
   },
   "source": [
    "## Preparing data\n",
    "\n",
    "First we see create a new column with the next event. We create a column with 1 if the ball was kicked out - to mark when the chain should be stopped. We filter out Interruptions since there was an ball out of the pitch or foul before them. Then, we filter lost duels, since Wyscout duels are saved twice - for both team either defensive or offensive. We filter out events “Out of ball” since we can get this information from other column. Then, we filter out events by goalkeepers, since shots were made before.\n",
    "\n",
    "\n",
    "- Create a new column with the next event\n",
    "- Create a column with 1 if the ball was kicked out - to mark when the chain should be stopped\n",
    "- Filter out Interruptions since there was an ball out of the pitch or foul before them"
   ]
  },
  {
   "cell_type": "code",
   "execution_count": 7,
   "id": "80f2cf17-19e1-4277-96a5-64e7d938ce1e",
   "metadata": {
    "tags": []
   },
   "outputs": [],
   "source": [
    "next_event = {match_game:df_games[match_game].shift(-1, fill_value=0) for match_game in df_games.keys()}"
   ]
  },
  {
   "cell_type": "code",
   "execution_count": 8,
   "id": "bd7ace6a-7ac5-4fa0-8d7b-c165543ab9bc",
   "metadata": {
    "tags": []
   },
   "outputs": [],
   "source": [
    "for match_game in df_games.keys():\n",
    "    df_games[match_game]['nextEvent'] = next_event[match_game]['type_name']\n",
    "    df_games[match_game]['kickedOut'] = np.where(next_event[match_game]['out']==True,1,0)"
   ]
  },
  {
   "cell_type": "code",
   "execution_count": 9,
   "id": "6c44458d-8869-411b-aaaf-cc4b7764a5d3",
   "metadata": {
    "tags": []
   },
   "outputs": [],
   "source": [
    "keepEvents = \\\n",
    "[\n",
    "    'Carry',\n",
    "    'Pass',\n",
    "    'Duel',\n",
    "    'Dribble',\n",
    "    'Clearance',\n",
    "    'Shot',\n",
    "    'Foul',\n",
    "    'Foul Committed',\n",
    "    'Injury Stoppage',\n",
    "    'Foul',\n",
    "    'Substitution',\n",
    "    'Offside',\n",
    "    'Interception',\n",
    "    'Ball Recovery',\n",
    "    'Ball Receipt*'\n",
    "]"
   ]
  },
  {
   "cell_type": "code",
   "execution_count": 10,
   "id": "92581b90-d881-4622-a5ea-371c11e6cac8",
   "metadata": {
    "tags": []
   },
   "outputs": [],
   "source": [
    "cl_df = {match_game:df_games[match_game][df_games[match_game]['type_name'].isin(keepEvents)] for match_game in df_games.keys()}"
   ]
  },
  {
   "cell_type": "markdown",
   "id": "61d47679-8002-47c9-9b0c-07c125778213",
   "metadata": {},
   "source": [
    "## Isolating possession chain\n",
    "- Isolate possession chain with the rule that if the ball was touched once by a different team, it should not change the results.\n",
    "- If there was a foul, ball kicked out of the field the chain is stopped.\n",
    "- For others in the ball, if the ball was properly intercepted that is, the next team is the one that made the next event, we stop the chain.\n",
    "- Otherwise, if the ball was only touched, but did not change possession, we treat a pass as an accurate one.\n",
    "- This is an approximate of true possession chain."
   ]
  },
  {
   "cell_type": "code",
   "execution_count": 11,
   "id": "71d2500d-cf0a-41ea-8ba0-91df97292235",
   "metadata": {
    "collapsed": true,
    "jupyter": {
     "outputs_hidden": true
    },
    "tags": []
   },
   "outputs": [
    {
     "name": "stdout",
     "output_type": "stream",
     "text": [
      "Match Game: 2275050.json  Events: 2850\n",
      "Match Game: 19795.json  Events: 2411\n",
      "Match Game: 7298.json  Events: 3081\n",
      "Match Game: 265958.json  Events: 2889\n",
      "Match Game: 69182.json  Events: 3037\n",
      "Match Game: 18242.json  Events: 2970\n",
      "Match Game: 69301.json  Events: 2873\n",
      "Match Game: 3775631.json  Events: 2282\n",
      "Match Game: 303696.json  Events: 3354\n",
      "Match Game: 69244.json  Events: 3469\n",
      "Match Game: 3788742.json  Events: 2981\n",
      "Match Game: 3773474.json  Events: 3406\n",
      "Match Game: 2275142.json  Events: 2771\n",
      "Match Game: 266620.json  Events: 3318\n",
      "Match Game: 7559.json  Events: 3258\n",
      "Match Game: 3813271.json  Events: 2521\n",
      "Match Game: 69213.json  Events: 2844\n",
      "Match Game: 3869354.json  Events: 2871\n",
      "Match Game: 3775559.json  Events: 3327\n",
      "Match Game: 2275154.json  Events: 2602\n",
      "Match Game: 3813288.json  Events: 1933\n",
      "Match Game: 69340.json  Events: 3614\n",
      "Match Game: 69205.json  Events: 2524\n",
      "Match Game: 19804.json  Events: 2636\n",
      "Match Game: 8655.json  Events: 2908\n",
      "Match Game: 3813267.json  Events: 2794\n",
      "Match Game: 266724.json  Events: 3795\n",
      "Match Game: 3817859.json  Events: 2249\n",
      "Match Game: 19783.json  Events: 3163\n",
      "Match Game: 22980.json  Events: 2608\n",
      "Match Game: 2275103.json  Events: 2542\n",
      "Match Game: 303680.json  Events: 3542\n",
      "Match Game: 3775627.json  Events: 2678\n",
      "Match Game: 9855.json  Events: 3228\n",
      "Match Game: 3788754.json  Events: 3324\n",
      "Match Game: 69252.json  Events: 3093\n",
      "Match Game: 70264.json  Events: 3371\n",
      "Match Game: 19717.json  Events: 2974\n",
      "Match Game: 3775575.json  Events: 3273\n",
      "Match Game: 68341.json  Events: 3827\n",
      "Match Game: 9592.json  Events: 3040\n",
      "Match Game: 69229.json  Events: 3076\n",
      "Match Game: 16231.json  Events: 3316\n",
      "Match Game: 7563.json  Events: 3144\n",
      "Match Game: 19740.json  Events: 2524\n",
      "Match Game: 22943.json  Events: 3030\n",
      "Match Game: 2275085.json  Events: 3083\n",
      "Match Game: 3857292.json  Events: 3416\n",
      "Match Game: 69157.json  Events: 2517\n",
      "Match Game: 68316.json  Events: 3070\n",
      "Match Game: 3817875.json  Events: 2505\n",
      "Match Game: 16289.json  Events: 3220\n",
      "Match Game: 267660.json  Events: 3275\n",
      "Match Game: 7471.json  Events: 2775\n",
      "Match Game: 7534.json  Events: 2975\n",
      "Match Game: 69291.json  Events: 3547\n",
      "Match Game: 70225.json  Events: 3343\n",
      "Match Game: 2275093.json  Events: 3015\n",
      "Match Game: 22955.json  Events: 3013\n",
      "Match Game: 19756.json  Events: 2237\n",
      "Match Game: 2275139.json  Events: 2168\n",
      "Match Game: 3817863.json  Events: 2538\n",
      "Match Game: 69141.json  Events: 3517\n",
      "Match Game: 3857284.json  Events: 3252\n",
      "Match Game: 9880.json  Events: 3466\n",
      "Match Game: 3835338.json  Events: 2964\n",
      "Match Game: 69268.json  Events: 3620\n",
      "Match Game: 69287.json  Events: 3336\n",
      "Match Game: 7522.json  Events: 2844\n",
      "Match Game: 3775563.json  Events: 3046\n",
      "Match Game: 9642.json  Events: 3436\n",
      "Match Game: 70272.json  Events: 3334\n",
      "Match Game: 3764237.json  Events: 2874\n",
      "Match Game: 68357.json  Events: 3919\n",
      "Match Game: 265866.json  Events: 3375\n",
      "Match Game: 3844386.json  Events: 2766\n",
      "Match Game: 266933.json  Events: 2603\n",
      "Match Game: 7430.json  Events: 2952\n",
      "Match Game: 3869552.json  Events: 3051\n",
      "Match Game: 266525.json  Events: 3253\n"
     ]
    }
   ],
   "source": [
    "# cl_df['match_game'].value_counts()\n",
    "for match_game in cl_df.keys():\n",
    "    print(f'Match Game: {match_game}  Events: {len(cl_df[match_game])}')"
   ]
  },
  {
   "cell_type": "code",
   "execution_count": 12,
   "id": "e387bb43-4d77-4702-9fbb-64ed367ed425",
   "metadata": {
    "tags": []
   },
   "outputs": [],
   "source": [
    "def timestamp_to_seconds(timestamp):\n",
    "    parts = timestamp.split(':')\n",
    "    hours = int(parts[0])\n",
    "    minutes = int(parts[1])\n",
    "    seconds = float(parts[2])\n",
    "    total_seconds = (hours * 3600) + (minutes * 60) + seconds\n",
    "    return int(total_seconds)\n",
    "\n",
    "\n",
    "def isolateChains(df):\n",
    "    \"\"\"\n",
    "    Parameters\n",
    "    ----------\n",
    "    df : dataframe\n",
    "        dataframe with StatsBomb event data.\n",
    "\n",
    "    Returns\n",
    "    -------\n",
    "    df: dataframe\n",
    "        dataframe with isolated possession chains\n",
    "\n",
    "    \"\"\"\n",
    "    df['seconds'] = df['timestamp'].apply(lambda time: timestamp_to_seconds(time))\n",
    "    df[\"nextTeamName\"] = df.shift(-1, fill_value=0)[\"team_name\"]\n",
    "    #potential +0s\n",
    "    chain_team = df.iloc[0][\"team_name\"]\n",
    "    period = df.iloc[0][\"period\"]\n",
    "    stop_criterion = 0\n",
    "    chain = 0\n",
    "    df[\"possession_chain\"] = 0\n",
    "    df[\"possession_chain_team\"] = 0\n",
    "\n",
    "    for i, row in df.iterrows():\n",
    "        # if (row['index']==283):\n",
    "        #     import pdb;pdb.set_trace()\n",
    "        #add value\n",
    "        df.at[i, \"possession_chain\"] = chain\n",
    "        df.at[i, \"possession_chain_team\"] = chain_team\n",
    "\n",
    "        if row['team_name'] != chain_team:\n",
    "            stop_criterion+=1\n",
    "        if row[\"type_name\"] in [\"Shot\", \"Foul Committed\", \"Offside\",'Injury Stoppage','Substitution']:\n",
    "            stop_criterion += 2\n",
    "        if row['type_name'] == 'Ball Receipt*':\n",
    "            if row['ball_receipt_outcome_name'] == 'Incomplete':\n",
    "                stop_criterion +=2\n",
    "        #if ball out of field, add 2\n",
    "        if row[\"out\"]==True:\n",
    "            stop_criterion += 2\n",
    "        # if the ball was properly intercepted that is, the next team is the one that made the next event, we stop the chain.         \n",
    "        if row['type_name']=='Interception':\n",
    "            if row['team_name']!=row['nextTeamName']:\n",
    "                stop_criterion +=2\n",
    "            else:\n",
    "                # if the ball was only touched, but did not change possession, we treat a pass as an accurate one.\n",
    "                stop_criterion = 0\n",
    "  \n",
    "        if stop_criterion == 1 and row['team_name'] == chain_team:\n",
    "            stop_criterion = 0 \n",
    "        #criterion for stopping when half ended\n",
    "        \n",
    "        if row[\"period\"] != period:\n",
    "                chain += 1\n",
    "                stop_criterion = 0\n",
    "                chain_team = row['team_name']\n",
    "                period = row[\"period\"]\n",
    "                df.at[i, \"possession_chain\"] = chain\n",
    "                df.at[i, \"possession_chain_team\"] = chain_team\n",
    "        #possession chain ended\n",
    "        if stop_criterion >= 2:\n",
    "            chain += 1\n",
    "            stop_criterion = 0\n",
    "            chain_team = row['nextTeamName']\n",
    "    return df\n"
   ]
  },
  {
   "cell_type": "code",
   "execution_count": 13,
   "id": "9aba4e02-dbfc-4c41-9da2-23403bffbe3d",
   "metadata": {
    "tags": []
   },
   "outputs": [],
   "source": [
    "df_isolated = {match_game:isolateChains(cl_df[match_game]) for match_game in cl_df.keys()}"
   ]
  },
  {
   "cell_type": "code",
   "execution_count": 14,
   "id": "1c1f5346-0f1e-4214-8d14-63be11ddaacd",
   "metadata": {
    "tags": []
   },
   "outputs": [],
   "source": [
    "for match_game in match_games:\n",
    "    df_list = []\n",
    "    for possession in df_isolated[match_game]['possession_chain'].unique():\n",
    "        temp_df = df_isolated[match_game][df_isolated[match_game]['possession_chain']==possession]\n",
    "        temp_df = temp_df[temp_df['seconds']>= max(temp_df['seconds']-15)]\n",
    "        df_list.append(temp_df)\n",
    "    df_isolated[match_game] = pd.concat(df_list)"
   ]
  },
  {
   "cell_type": "markdown",
   "id": "e59e88b9-db52-4823-9666-58e8e867ee1c",
   "metadata": {},
   "source": [
    "## Retrieve all possession Chain that lead to a shot per game"
   ]
  },
  {
   "cell_type": "code",
   "execution_count": 15,
   "id": "4de6a512-1a6b-484a-885e-b2269b76885c",
   "metadata": {
    "tags": []
   },
   "outputs": [],
   "source": [
    "chains_index = {match_game:df_isolated[match_game][df_isolated[match_game]['type_name']=='Shot']['possession_chain'].unique() for match_game in df_isolated.keys()}\n",
    "\n",
    "\n",
    "shot = {match_game:df_isolated[match_game][df_isolated[match_game]['type_name']=='Shot'] for match_game in df_isolated.keys()}\n",
    "\n",
    "for match_game in df_isolated.keys():\n",
    "    df_isolated[match_game]['end_location'] = df_isolated[match_game]['carry_end_location'].fillna(df_isolated[match_game]['shot_end_location']).fillna(df_isolated[match_game]['pass_end_location'])\n",
    "\n",
    "\n",
    "shot_patterns = \\\n",
    "{\n",
    "    match_game : \n",
    "    df_isolated[match_game][\n",
    "        df_isolated[match_game]['possession_chain'].isin(chains_index[match_game])][\n",
    "        ['type_name','location','end_location','possession_chain','team_name','index','shot_statsbomb_xg','match_game','seconds','player_name','period']\n",
    "    ]\n",
    "for match_game in df_isolated.keys()\n",
    "}\n",
    "\n",
    "for match_game in df_isolated.keys():\n",
    "    shot_patterns[match_game]['shot_statsbomb_xg'] = shot_patterns[match_game]['shot_statsbomb_xg'].fillna(0.0)"
   ]
  },
  {
   "cell_type": "code",
   "execution_count": 16,
   "id": "d04f0ead-8b5f-4778-9afa-0344cb0a2978",
   "metadata": {
    "tags": []
   },
   "outputs": [],
   "source": [
    "shot_patterns_df = {}\n",
    "for match_game in shot_patterns.keys():\n",
    "    patterns_list = [] \n",
    "    for c_index in chains_index[match_game]:\n",
    "        temp_df = shot_patterns[match_game][shot_patterns[match_game]['possession_chain']==c_index]\n",
    "        temp_df['xGoal'] = max(temp_df['shot_statsbomb_xg'])\n",
    "        patterns_list.append(temp_df)\n",
    "    shot_patterns_df[match_game] = pd.concat(patterns_list)"
   ]
  },
  {
   "cell_type": "markdown",
   "id": "5c27b43d-48af-41ea-8929-4705ec562c69",
   "metadata": {
    "tags": []
   },
   "source": [
    "## Finding chains that ended with shot"
   ]
  },
  {
   "cell_type": "code",
   "execution_count": 17,
   "id": "577ced50-db02-4e62-a64d-c51231453809",
   "metadata": {
    "tags": []
   },
   "outputs": [],
   "source": [
    "def prepareChains(df):\n",
    "    \"\"\"\n",
    "    Parameters\n",
    "    ----------\n",
    "    df : dataframe\n",
    "        dataframe with Wyscout event data.\n",
    "\n",
    "    Returns\n",
    "    -------\n",
    "    xG_sum: dataframe\n",
    "        dataframe with assigned values for chains\n",
    "\n",
    "    \"\"\"\n",
    "    # import pdb;pdb.set_trace()\n",
    "    df[\"shot_end\"] = 0\n",
    "    df['xG'] = np.where(df['shot_statsbomb_xg'].isna(),0,df['shot_statsbomb_xg'])\n",
    "    #get number of chains\n",
    "    no_chains = max(df[\"possession_chain\"].unique())\n",
    "    indicies = []\n",
    "    for i in range(no_chains+1):\n",
    "        #all events get possession chain\n",
    "        possession_chain_df = df.loc[df[\"possession_chain\"] == i]\n",
    "        #check if the possession chain is not empty\n",
    "        if len(possession_chain_df) > 0:\n",
    "            #if ended with shot\n",
    "            if possession_chain_df.iloc[-1][\"type_name\"] == \"Shot\":\n",
    "                #assign values\n",
    "                df.loc[df[\"possession_chain\"] == i, \"shot_end\"] = 1\n",
    "                xG = possession_chain_df.iloc[-1][\"xG\"]\n",
    "                df.loc[df[\"possession_chain\"] == i, \"xG\"] = xG\n",
    "                #check if the previous ones did not end with foul\n",
    "                k = i-1\n",
    "                if k > 0:\n",
    "                    try:\n",
    "                        prev = df.loc[df[\"possession_chain\"] == k]\n",
    "                        #create a loop if e.g. 2 chains before and 1 chain before didn;t end with shot\n",
    "                        while prev.iloc[-1][\"type_name\"] == \"Foul\":\n",
    "                            #assign value for them\n",
    "                            df.loc[df[\"possession_chain\"] == k, \"xG\"] = xG\n",
    "                            df.loc[df[\"possession_chain\"] == k, \"shot_end\"] = 1\n",
    "                            k = k-1\n",
    "                            prev = df.loc[df[\"possession_chain\"] == k]\n",
    "                    except:\n",
    "                        k = k-1\n",
    "            #get indiices of events made by possession team\n",
    "            team_indicies = possession_chain_df.loc[possession_chain_df[\"team_id\"] == possession_chain_df['possession_team_id']].index.values.tolist()\n",
    "            indicies.extend(team_indicies)\n",
    "\n",
    "    df = df.loc[indicies]\n",
    "    return df"
   ]
  },
  {
   "cell_type": "code",
   "execution_count": 18,
   "id": "91605e84-12ec-4ae3-bf61-d51d7828bc50",
   "metadata": {
    "tags": []
   },
   "outputs": [],
   "source": [
    "df_isolated_chains = {}\n",
    "for match_game in match_games:\n",
    "    df_isolated_chains[match_game] = prepareChains(df_isolated[match_game])"
   ]
  },
  {
   "cell_type": "markdown",
   "id": "43016b83-2ca9-4493-8703-ac4a81989f43",
   "metadata": {
    "tags": []
   },
   "source": [
    "## Preparing data for modelling"
   ]
  },
  {
   "cell_type": "code",
   "execution_count": 19,
   "id": "94053f39-f86a-4dbd-8177-8e45565d7fa3",
   "metadata": {
    "tags": []
   },
   "outputs": [],
   "source": [
    "shot_patterns_df_copy= df_isolated_chains.copy()"
   ]
  },
  {
   "cell_type": "code",
   "execution_count": 20,
   "id": "5f6c74e8-145d-4f02-b1ad-dcbaf571acf1",
   "metadata": {
    "tags": []
   },
   "outputs": [],
   "source": [
    "def prepare_coordinates(shot_patterns_df):\n",
    "    #columns with coordinates\n",
    "    shot_patterns_df = shot_patterns_df[~shot_patterns_df['end_location'].isna()]\n",
    "    shot_patterns_df[\"x0\"] = shot_patterns_df.location.apply(lambda cell: (cell[0]))\n",
    "    shot_patterns_df[\"c0\"] = shot_patterns_df.location.apply(lambda cell: abs(60 - cell[1]))\n",
    "    shot_patterns_df[\"x1\"] = shot_patterns_df.end_location.apply(lambda cell: (cell[0]))\n",
    "    shot_patterns_df[\"c1\"] = shot_patterns_df.end_location.apply(lambda cell: abs(60 - cell[1]))\n",
    "    #assign (105, 0) to end of the shot\n",
    "    shot_patterns_df.loc[shot_patterns_df[\"type_name\"] == \"Shot\", \"x1\"] = 120\n",
    "    shot_patterns_df.loc[shot_patterns_df[\"type_name\"] == \"Shot\", \"c1\"] = 0\n",
    "\n",
    "    #for plotting\n",
    "    shot_patterns_df[\"y0\"] = shot_patterns_df.location.apply(lambda cell: (cell[1]))\n",
    "    shot_patterns_df[\"y1\"] = shot_patterns_df.end_location.apply(lambda cell: (cell[1]))\n",
    "    shot_patterns_df.loc[df[\"type_name\"] == \"Shot\", \"y1\"] = 40\n",
    "    shot_patterns_df['end_shot'] = 1\n",
    "    return shot_patterns_df"
   ]
  },
  {
   "cell_type": "code",
   "execution_count": 22,
   "id": "4bae9255-9cc9-4e68-bc32-3a41f88c5be1",
   "metadata": {
    "tags": []
   },
   "outputs": [],
   "source": [
    "shot_patterns_df = {match_game:prepare_coordinates(shot_patterns_df[match_game]) for match_game in shot_patterns_df.keys()}"
   ]
  },
  {
   "cell_type": "markdown",
   "id": "4171c80d-d697-45e0-b9ad-c1cb00dbc85e",
   "metadata": {
    "tags": []
   },
   "source": [
    "## possession chain that ended with a shot"
   ]
  },
  {
   "cell_type": "code",
   "execution_count": 23,
   "id": "c9941864-1492-4971-b4b0-b976e5981aeb",
   "metadata": {
    "tags": []
   },
   "outputs": [],
   "source": [
    "example_chain = shot_patterns[example_match]['possession_chain'].unique()[1]"
   ]
  },
  {
   "cell_type": "code",
   "execution_count": 24,
   "id": "a2c6048d-2d0f-4366-986b-6f8a7f79493a",
   "metadata": {
    "tags": []
   },
   "outputs": [
    {
     "data": {
      "image/png": "[encoded data removed]",
      "text/plain": [
       "<Figure size 1240.19x900 with 3 Axes>"
      ]
     },
     "metadata": {},
     "output_type": "display_data"
    }
   ],
   "source": [
    "#plot possession chain that ended with shot\n",
    "chain = shot_patterns_df[example_match].loc[shot_patterns_df[example_match][\"possession_chain\"] == example_chain]\n",
    "#get passes\n",
    "passes = chain.loc[chain[\"type_name\"].isin([\"Pass\"])]\n",
    "#get events different than pass\n",
    "not_pass = chain.loc[chain[\"type_name\"] != \"Pass\"].iloc[:-1]\n",
    "#shot is the last event of the chain (or should be)\n",
    "shot = chain.iloc[-1]\n",
    "#plot\n",
    "pitch = Pitch(line_color='black',pitch_type='custom', pitch_length=120, pitch_width=80, line_zorder = 2)\n",
    "fig, ax = pitch.grid(grid_height=0.9, title_height=0.06, axis=False,\n",
    "                     endnote_height=0.04, title_space=0, endnote_space=0)\n",
    "#passes\n",
    "pitch.arrows(passes.x0, passes.y0,\n",
    "            passes.x1, passes.y1, color = \"blue\", ax=ax['pitch'], zorder =  3)\n",
    "#shot\n",
    "pitch.arrows(shot.x0, shot.y0,\n",
    "            shot.x1, shot.y1, color = \"red\", ax=ax['pitch'], zorder =  3)\n",
    "#other passes like arrows\n",
    "pitch.lines(not_pass.x0, not_pass.y0, not_pass.x1, not_pass.y1, color = \"grey\", lw = 1.5, ls = 'dotted', ax=ax['pitch'])\n",
    "ax['title'].text(0.5, 0.5, 'Passes leading to a shot', ha='center', va='center', fontsize=30)\n",
    "plt.show()"
   ]
  },
  {
   "cell_type": "markdown",
   "id": "7e84efba-8074-4fb3-b1fc-5cf78f5ae12a",
   "metadata": {},
   "source": [
    "## possession chain that did not end with a shot"
   ]
  },
  {
   "cell_type": "code",
   "execution_count": 25,
   "id": "b4e3b828-e641-40c3-ab34-5f634560829e",
   "metadata": {
    "tags": []
   },
   "outputs": [],
   "source": [
    "not_pass_index = {match_game:np.setdiff1d(df_isolated_chains[match_game]['possession_chain'].unique(),chains_index[match_game]) for match_game in match_games}\n",
    "\n",
    "\n",
    "not_pass_patterns_df = \\\n",
    "{\n",
    "    match_game:\n",
    "    df_isolated_chains[match_game][df_isolated_chains[match_game]['possession_chain'].isin(not_pass_index[match_game])][\n",
    "        ['type_name','location','end_location','possession_chain','team_name','index','match_game']\n",
    "    ]\n",
    "    for match_game in match_games\n",
    "}\n",
    "\n",
    "def prepare_coordinates_not_pass(not_pass_patterns_df):\n",
    "    #columns with coordinates\n",
    "    not_pass_patterns_df = not_pass_patterns_df[~not_pass_patterns_df['end_location'].isna()]\n",
    "    not_pass_patterns_df[\"x0\"] = not_pass_patterns_df.location.apply(lambda cell: (cell[0]))\n",
    "    not_pass_patterns_df[\"c0\"] = not_pass_patterns_df.location.apply(lambda cell: abs(60 - cell[1]))\n",
    "    not_pass_patterns_df[\"x1\"] = not_pass_patterns_df.end_location.apply(lambda cell: (cell[0]))\n",
    "    not_pass_patterns_df[\"c1\"] = not_pass_patterns_df.end_location.apply(lambda cell: abs(60 - cell[1]))\n",
    "\n",
    "    not_pass_patterns_df[\"y0\"] = not_pass_patterns_df.location.apply(lambda cell: (cell[1]))\n",
    "    not_pass_patterns_df[\"y1\"] = not_pass_patterns_df.end_location.apply(lambda cell: (cell[1]))\n",
    "    not_pass_patterns_df['end_shot'] = 0 \n",
    "    return not_pass_patterns_df\n",
    "\n",
    "not_pass_patterns_df = \\\n",
    "{\n",
    "    match_game:\n",
    "    prepare_coordinates_not_pass(not_pass_patterns_df[match_game]) \n",
    "    for match_game in not_pass_patterns_df.keys()\n",
    "}"
   ]
  },
  {
   "cell_type": "code",
   "execution_count": 26,
   "id": "f1c78aa9-acb8-4c08-a9ff-f8df1d73141f",
   "metadata": {
    "tags": []
   },
   "outputs": [
    {
     "data": {
      "image/png": "[encoded data removed]",
      "text/plain": [
       "<Figure size 1240.19x900 with 3 Axes>"
      ]
     },
     "metadata": {},
     "output_type": "display_data"
    }
   ],
   "source": [
    "#plot possession chain that ended with shot\n",
    "chain = not_pass_patterns_df[example_match].loc[not_pass_patterns_df[example_match][\"possession_chain\"] == not_pass_index[example_match][0]]\n",
    "passes = chain.loc[chain[\"type_name\"].isin([\"Pass\", \"Foul Committed\"])].iloc[:-1]\n",
    "not_pass = chain.loc[(chain[\"type_name\"] != \"Pass\") & (chain[\"type_name\"] != \"Foul Committed\")].iloc[:-1]\n",
    "bad_pass = chain.iloc[-1]\n",
    "#we could have used better\n",
    "pitch = Pitch(line_color='black',pitch_type='custom', pitch_length=120, pitch_width=80, line_zorder = 2)\n",
    "fig, ax = pitch.grid(grid_height=0.9, title_height=0.06, axis=False,\n",
    "                     endnote_height=0.04, title_space=0, endnote_space=0)\n",
    "pitch.arrows(passes.x0, passes.y0,\n",
    "            passes.x1, passes.y1, color = \"blue\", ax=ax['pitch'], zorder =  3)\n",
    "pitch.arrows(bad_pass.x0, bad_pass.y0,\n",
    "            bad_pass.x1, bad_pass.y1, color = \"purple\", ax=ax['pitch'], zorder =  3)\n",
    "pitch.scatter(bad_pass.x1, bad_pass.y1, marker = 'x', color = \"red\", ax=ax['pitch'], zorder =  3, s= 200)\n",
    "pitch.lines(not_pass.x0, not_pass.y0, not_pass.x1, not_pass.y1, color = \"grey\", lw = 1.5, ls = 'dotted', ax=ax['pitch'])\n",
    "ax['title'].text(0.5, 0.5, 'Passes not ending in a shot', ha='center', va='center', fontsize=30)\n",
    "plt.show()\n"
   ]
  },
  {
   "cell_type": "markdown",
   "id": "2cb00d2a-fa15-4d6c-b56f-299e0d9d3617",
   "metadata": {
    "tags": []
   },
   "source": [
    "## Preparing variables for models"
   ]
  },
  {
   "cell_type": "code",
   "execution_count": 27,
   "id": "3279e7bf-1564-4f71-8bec-42db61810016",
   "metadata": {
    "tags": []
   },
   "outputs": [],
   "source": [
    "df_poss_chain = pd.concat([df_isolated_chains[match_game] for match_game in match_games])\n",
    "\n",
    "df_poss_chain_shot = prepare_coordinates(df_poss_chain[df_poss_chain['shot_end']==1])\n",
    "\n",
    "df_poss_chain_not_shot = prepare_coordinates_not_pass(df_poss_chain[df_poss_chain['shot_end']==0])\n",
    "\n",
    "df_coordinates = pd.concat([df_poss_chain_shot,df_poss_chain_not_shot])"
   ]
  },
  {
   "cell_type": "code",
   "execution_count": 28,
   "id": "3774e06a-cbb2-4c76-aca7-733f1c3d03fa",
   "metadata": {
    "tags": []
   },
   "outputs": [
    {
     "data": {
      "text/plain": [
       "(91670, 159)"
      ]
     },
     "execution_count": 28,
     "metadata": {},
     "output_type": "execute_result"
    }
   ],
   "source": [
    "df_coordinates.shape"
   ]
  },
  {
   "cell_type": "code",
   "execution_count": 29,
   "id": "ccca2a59-c5c7-43b4-a546-65b3588f20b8",
   "metadata": {
    "tags": []
   },
   "outputs": [
    {
     "data": {
      "text/html": [
       "<div>\n",
       "<style scoped>\n",
       "    .dataframe tbody tr th:only-of-type {\n",
       "        vertical-align: middle;\n",
       "    }\n",
       "\n",
       "    .dataframe tbody tr th {\n",
       "        vertical-align: top;\n",
       "    }\n",
       "\n",
       "    .dataframe thead th {\n",
       "        text-align: right;\n",
       "    }\n",
       "</style>\n",
       "<table border=\"1\" class=\"dataframe\">\n",
       "  <thead>\n",
       "    <tr style=\"text-align: right;\">\n",
       "      <th></th>\n",
       "      <th>c0c0c1</th>\n",
       "      <th>c0c1c1</th>\n",
       "      <th>c1c1c1</th>\n",
       "    </tr>\n",
       "  </thead>\n",
       "  <tbody>\n",
       "    <tr>\n",
       "      <th>184</th>\n",
       "      <td>104448.4</td>\n",
       "      <td>81760.0</td>\n",
       "      <td>64000.000</td>\n",
       "    </tr>\n",
       "    <tr>\n",
       "      <th>186</th>\n",
       "      <td>46080.0</td>\n",
       "      <td>33177.6</td>\n",
       "      <td>23887.872</td>\n",
       "    </tr>\n",
       "    <tr>\n",
       "      <th>187</th>\n",
       "      <td>0.0</td>\n",
       "      <td>0.0</td>\n",
       "      <td>0.000</td>\n",
       "    </tr>\n",
       "  </tbody>\n",
       "</table>\n",
       "</div>"
      ],
      "text/plain": [
       "       c0c0c1   c0c1c1     c1c1c1\n",
       "184  104448.4  81760.0  64000.000\n",
       "186   46080.0  33177.6  23887.872\n",
       "187       0.0      0.0      0.000"
      ]
     },
     "execution_count": 29,
     "metadata": {},
     "output_type": "execute_result"
    }
   ],
   "source": [
    "#model variables\n",
    "var = [\"x0\", \"x1\", \"c0\", \"c1\"]\n",
    "\n",
    "#combinations\n",
    "inputs = []\n",
    "#one variable combinations\n",
    "inputs.extend(combinations_with_replacement(var, 1))\n",
    "#2 variable combinations\n",
    "inputs.extend(combinations_with_replacement(var, 2))\n",
    "#3 variable combinations\n",
    "inputs.extend(combinations_with_replacement(var, 3))\n",
    "\n",
    "#make new columns\n",
    "for i in inputs:\n",
    "    #columns length 1 already exist\n",
    "    if len(i) > 1:\n",
    "        #column name\n",
    "        column = ''\n",
    "        x = 1\n",
    "        for c in i:\n",
    "            #add column name to be x0x1c0 for example\n",
    "            column += c\n",
    "            #multiply values in column\n",
    "            x = x*df_coordinates[c]\n",
    "        #create a new column in df\n",
    "        df_coordinates[column] = x\n",
    "        #add column to model variables\n",
    "        var.append(column)\n",
    "#investigate 3 columns\n",
    "df_coordinates[var[-3:]].head(3)"
   ]
  },
  {
   "cell_type": "markdown",
   "id": "f7ab35bb-07bd-4539-8cbc-4331503cf81c",
   "metadata": {
    "tags": []
   },
   "source": [
    "## Calculating action-based Expected Threat values for passes\n",
    "- XGB Classifier\n",
    "- Using it we predict probability of a chain ending with a shot.\n",
    "- Then, on chains that ended with a shot, we fit a linear regression to calculate the probability that a shot ended with a goal.\n",
    "- Product of these 2 values is our action-based Expected Threat statistic"
   ]
  },
  {
   "cell_type": "code",
   "execution_count": 35,
   "id": "3fa78af4-160b-4671-a885-257563b81629",
   "metadata": {
    "tags": []
   },
   "outputs": [],
   "source": [
    "### TRAINING, it's not perfect ML procedure, but results in AUC 0.2 higher than Logistic Regression ###\n",
    "passes = df_coordinates.loc[ df_coordinates[\"type_name\"].isin([\"Pass\"])]\n",
    "X = passes[var]\n",
    "y = passes[\"end_shot\"]"
   ]
  },
  {
   "cell_type": "code",
   "execution_count": 36,
   "id": "c029ea6b-8bd3-4dfd-9895-6a71ec5d7a92",
   "metadata": {
    "tags": []
   },
   "outputs": [
    {
     "data": {
      "text/plain": [
       "Counter({1: 4432, 0: 45646})"
      ]
     },
     "execution_count": 36,
     "metadata": {},
     "output_type": "execute_result"
    }
   ],
   "source": [
    "from collections import Counter\n",
    "Counter(y)"
   ]
  },
  {
   "cell_type": "code",
   "execution_count": 37,
   "id": "ac3a6519-dab0-4156-b76c-755a1019b137",
   "metadata": {
    "tags": []
   },
   "outputs": [
    {
     "data": {
      "text/html": [
       "<style>#sk-container-id-1 {color: black;background-color: white;}#sk-container-id-1 pre{padding: 0;}#sk-container-id-1 div.sk-toggleable {background-color: white;}#sk-container-id-1 label.sk-toggleable__label {cursor: pointer;display: block;width: 100%;margin-bottom: 0;padding: 0.3em;box-sizing: border-box;text-align: center;}#sk-container-id-1 label.sk-toggleable__label-arrow:before {content: \"▸\";float: left;margin-right: 0.25em;color: #696969;}#sk-container-id-1 label.sk-toggleable__label-arrow:hover:before {color: black;}#sk-container-id-1 div.sk-estimator:hover label.sk-toggleable__label-arrow:before {color: black;}#sk-container-id-1 div.sk-toggleable__content {max-height: 0;max-width: 0;overflow: hidden;text-align: left;background-color: #f0f8ff;}#sk-container-id-1 div.sk-toggleable__content pre {margin: 0.2em;color: black;border-radius: 0.25em;background-color: #f0f8ff;}#sk-container-id-1 input.sk-toggleable__control:checked~div.sk-toggleable__content {max-height: 200px;max-width: 100%;overflow: auto;}#sk-container-id-1 input.sk-toggleable__control:checked~label.sk-toggleable__label-arrow:before {content: \"▾\";}#sk-container-id-1 div.sk-estimator input.sk-toggleable__control:checked~label.sk-toggleable__label {background-color: #d4ebff;}#sk-container-id-1 div.sk-label input.sk-toggleable__control:checked~label.sk-toggleable__label {background-color: #d4ebff;}#sk-container-id-1 input.sk-hidden--visually {border: 0;clip: rect(1px 1px 1px 1px);clip: rect(1px, 1px, 1px, 1px);height: 1px;margin: -1px;overflow: hidden;padding: 0;position: absolute;width: 1px;}#sk-container-id-1 div.sk-estimator {font-family: monospace;background-color: #f0f8ff;border: 1px dotted black;border-radius: 0.25em;box-sizing: border-box;margin-bottom: 0.5em;}#sk-container-id-1 div.sk-estimator:hover {background-color: #d4ebff;}#sk-container-id-1 div.sk-parallel-item::after {content: \"\";width: 100%;border-bottom: 1px solid gray;flex-grow: 1;}#sk-container-id-1 div.sk-label:hover label.sk-toggleable__label {background-color: #d4ebff;}#sk-container-id-1 div.sk-serial::before {content: \"\";position: absolute;border-left: 1px solid gray;box-sizing: border-box;top: 0;bottom: 0;left: 50%;z-index: 0;}#sk-container-id-1 div.sk-serial {display: flex;flex-direction: column;align-items: center;background-color: white;padding-right: 0.2em;padding-left: 0.2em;position: relative;}#sk-container-id-1 div.sk-item {position: relative;z-index: 1;}#sk-container-id-1 div.sk-parallel {display: flex;align-items: stretch;justify-content: center;background-color: white;position: relative;}#sk-container-id-1 div.sk-item::before, #sk-container-id-1 div.sk-parallel-item::before {content: \"\";position: absolute;border-left: 1px solid gray;box-sizing: border-box;top: 0;bottom: 0;left: 50%;z-index: -1;}#sk-container-id-1 div.sk-parallel-item {display: flex;flex-direction: column;z-index: 1;position: relative;background-color: white;}#sk-container-id-1 div.sk-parallel-item:first-child::after {align-self: flex-end;width: 50%;}#sk-container-id-1 div.sk-parallel-item:last-child::after {align-self: flex-start;width: 50%;}#sk-container-id-1 div.sk-parallel-item:only-child::after {width: 0;}#sk-container-id-1 div.sk-dashed-wrapped {border: 1px dashed gray;margin: 0 0.4em 0.5em 0.4em;box-sizing: border-box;padding-bottom: 0.4em;background-color: white;}#sk-container-id-1 div.sk-label label {font-family: monospace;font-weight: bold;display: inline-block;line-height: 1.2em;}#sk-container-id-1 div.sk-label-container {text-align: center;}#sk-container-id-1 div.sk-container {/* jupyter's `normalize.less` sets `[hidden] { display: none; }` but bootstrap.min.css set `[hidden] { display: none !important; }` so we also need the `!important` here to be able to override the default hidden behavior on the sphinx rendered scikit-learn.org. See: https://github.com/scikit-learn/scikit-learn/issues/21755 */display: inline-block !important;position: relative;}#sk-container-id-1 div.sk-text-repr-fallback {display: none;}</style><div id=\"sk-container-id-1\" class=\"sk-top-container\"><div class=\"sk-text-repr-fallback\"><pre>XGBClassifier(base_score=None, booster=None, callbacks=None, ccp_alpha=0,\n",
       "              colsample_bylevel=None, colsample_bynode=None,\n",
       "              colsample_bytree=None, early_stopping_rounds=None,\n",
       "              enable_categorical=False, eval_metric=None, feature_types=None,\n",
       "              gamma=None, gpu_id=None, grow_policy=None, importance_type=None,\n",
       "              interaction_constraints=None, learning_rate=None, max_bin=None,\n",
       "              max_cat_threshold=None, max_cat_to_onehot=None,\n",
       "              max_delta_step=None, max_depth=4, max_leaves=None,\n",
       "              min_child_weight=None, min_samples_leaf=10, missing=nan,\n",
       "              monotone_constraints=None, n_estimators=100, n_jobs=None,\n",
       "              num_parallel_tree=None, ...)</pre><b>In a Jupyter environment, please rerun this cell to show the HTML representation or trust the notebook. <br />On GitHub, the HTML representation is unable to render, please try loading this page with nbviewer.org.</b></div><div class=\"sk-container\" hidden><div class=\"sk-item\"><div class=\"sk-estimator sk-toggleable\"><input class=\"sk-toggleable__control sk-hidden--visually\" id=\"sk-estimator-id-1\" type=\"checkbox\" checked><label for=\"sk-estimator-id-1\" class=\"sk-toggleable__label sk-toggleable__label-arrow\">XGBClassifier</label><div class=\"sk-toggleable__content\"><pre>XGBClassifier(base_score=None, booster=None, callbacks=None, ccp_alpha=0,\n",
       "              colsample_bylevel=None, colsample_bynode=None,\n",
       "              colsample_bytree=None, early_stopping_rounds=None,\n",
       "              enable_categorical=False, eval_metric=None, feature_types=None,\n",
       "              gamma=None, gpu_id=None, grow_policy=None, importance_type=None,\n",
       "              interaction_constraints=None, learning_rate=None, max_bin=None,\n",
       "              max_cat_threshold=None, max_cat_to_onehot=None,\n",
       "              max_delta_step=None, max_depth=4, max_leaves=None,\n",
       "              min_child_weight=None, min_samples_leaf=10, missing=nan,\n",
       "              monotone_constraints=None, n_estimators=100, n_jobs=None,\n",
       "              num_parallel_tree=None, ...)</pre></div></div></div></div></div>"
      ],
      "text/plain": [
       "XGBClassifier(base_score=None, booster=None, callbacks=None, ccp_alpha=0,\n",
       "              colsample_bylevel=None, colsample_bynode=None,\n",
       "              colsample_bytree=None, early_stopping_rounds=None,\n",
       "              enable_categorical=False, eval_metric=None, feature_types=None,\n",
       "              gamma=None, gpu_id=None, grow_policy=None, importance_type=None,\n",
       "              interaction_constraints=None, learning_rate=None, max_bin=None,\n",
       "              max_cat_threshold=None, max_cat_to_onehot=None,\n",
       "              max_delta_step=None, max_depth=4, max_leaves=None,\n",
       "              min_child_weight=None, min_samples_leaf=10, missing=nan,\n",
       "              monotone_constraints=None, n_estimators=100, n_jobs=None,\n",
       "              num_parallel_tree=None, ...)"
      ]
     },
     "execution_count": 37,
     "metadata": {},
     "output_type": "execute_result"
    }
   ],
   "source": [
    "X_train, X_test, y_train, y_test = train_test_split(X, y, test_size = 0.1, random_state = 123, stratify = y)\n",
    "xgb = XGBClassifier(n_estimators = 100, ccp_alpha=0, max_depth=4, min_samples_leaf=10,\n",
    "                      random_state=123)\n",
    "\n",
    "# Set the scale_pos_weight parameter to handle class imbalance\n",
    "scale_pos_weight = sum(y_train == 0) / sum(y_train == 1)\n",
    "xgb.set_params(scale_pos_weight=scale_pos_weight)"
   ]
  },
  {
   "cell_type": "code",
   "execution_count": 38,
   "id": "21449b75-4397-480e-a1e1-9d08ae020f93",
   "metadata": {
    "tags": []
   },
   "outputs": [
    {
     "name": "stdout",
     "output_type": "stream",
     "text": [
      "0.7168182826714 0.006938086006133273\n",
      "[23:02:26] WARNING: /Users/runner/work/xgboost/xgboost/python-package/build/temp.macosx-11.0-arm64-cpython-38/xgboost/src/learner.cc:767: \n",
      "Parameters: { \"ccp_alpha\", \"min_samples_leaf\" } are not used.\n",
      "\n",
      "0.7447747947637009\n",
      "0.7146565495207667\n"
     ]
    }
   ],
   "source": [
    "from sklearn.model_selection import cross_val_score\n",
    "scores = cross_val_score(estimator = xgb, X = X_train, y = y_train, cv = 10, n_jobs = -1)\n",
    "print(np.mean(scores), np.std(scores))\n",
    "xgb.fit(X_train, y_train)\n",
    "print(xgb.score(X_train, y_train))\n",
    "y_pred = xgb.predict(X_test)\n",
    "print(xgb.score(X_test, y_test))"
   ]
  },
  {
   "cell_type": "code",
   "execution_count": 39,
   "id": "c307afad-d0b7-4826-bd7f-0882c9a62b7d",
   "metadata": {
    "tags": []
   },
   "outputs": [],
   "source": [
    "y_pr = xgb.predict(X_test)"
   ]
  },
  {
   "cell_type": "code",
   "execution_count": 40,
   "id": "e52b058d-add0-4e2f-99cc-520514a33db7",
   "metadata": {
    "tags": []
   },
   "outputs": [
    {
     "name": "stdout",
     "output_type": "stream",
     "text": [
      "              precision    recall  f1-score   support\n",
      "\n",
      "           0       0.95      0.72      0.82      4565\n",
      "           1       0.18      0.62      0.28       443\n",
      "\n",
      "    accuracy                           0.71      5008\n",
      "   macro avg       0.56      0.67      0.55      5008\n",
      "weighted avg       0.88      0.71      0.77      5008\n",
      "\n",
      "\n",
      "\n",
      "[[3305 1260]\n",
      " [ 169  274]]\n"
     ]
    }
   ],
   "source": [
    "from sklearn.metrics import classification_report,confusion_matrix\n",
    "print(classification_report(y_pred=y_pr,y_true=y_test))\n",
    "print('\\n')\n",
    "print(confusion_matrix(y_pred=y_pr,y_true=y_test))"
   ]
  },
  {
   "cell_type": "code",
   "execution_count": 41,
   "id": "c6673ca7-3cc3-4b1a-9f98-bd8d4a140256",
   "metadata": {
    "tags": []
   },
   "outputs": [],
   "source": [
    "model = xgb\n",
    "#predict probability of shot ended\n",
    "y_pred_proba = model.predict_proba(X)[::,1]"
   ]
  },
  {
   "cell_type": "code",
   "execution_count": 42,
   "id": "691c161a-776b-4c9e-bc40-7d44bf50c754",
   "metadata": {
    "tags": []
   },
   "outputs": [],
   "source": [
    "passes[\"shot_prob\"] = y_pred_proba\n",
    "#OLS\n",
    "shot_ended = passes.loc[passes[\"end_shot\"] == 1]\n",
    "X2 = shot_ended[var].values\n",
    "y2 = shot_ended[\"xG\"].values\n",
    "lr = LinearRegression()\n",
    "lr.fit(X2, y2)\n",
    "y_pred = lr.predict(X)\n",
    "passes[\"xG_pred\"] = y_pred\n",
    "#calculate xGchain\n",
    "passes[\"xT\"] = passes[\"xG_pred\"]*passes[\"shot_prob\"]"
   ]
  },
  {
   "cell_type": "code",
   "execution_count": 65,
   "id": "a45b10c4-cacb-41d7-b6e2-940128ef4f05",
   "metadata": {
    "tags": []
   },
   "outputs": [],
   "source": [
    "# import pickle\n",
    "# ml_models = \\\n",
    "# {\n",
    "#     'xgb_model' : xgb,\n",
    "#     'lr_model' : lr\n",
    "# }\n",
    "\n",
    "# # Open a .pkl file in binary write mode\n",
    "# with open('ml_models.pkl', 'wb') as f:\n",
    "#     # Serialize the dictionary variable and write it to the file\n",
    "#     pickle.dump(ml_models, f)"
   ]
  },
  {
   "cell_type": "markdown",
   "id": "021d905a-3ab2-4021-a7d4-db4f3cc374e1",
   "metadata": {},
   "source": [
    "## Making a plot of pass values"
   ]
  },
  {
   "cell_type": "code",
   "execution_count": 51,
   "id": "79f054d6-4071-41f1-8373-45763d917d63",
   "metadata": {
    "tags": []
   },
   "outputs": [
    {
     "data": {
      "text/plain": [
       "0.15168976251724767"
      ]
     },
     "execution_count": 51,
     "metadata": {},
     "output_type": "execute_result"
    }
   ],
   "source": [
    "max(passes[(passes['match_game']=='69205.json') & (passes['end_shot']==1)]['xT'])"
   ]
  },
  {
   "cell_type": "code",
   "execution_count": 55,
   "id": "e6fccd3e-5eea-4a95-a52f-d3928271fc3e",
   "metadata": {
    "tags": []
   },
   "outputs": [
    {
     "data": {
      "text/plain": [
       "array([ 64, 112, 145, 178, 205, 229, 242, 249, 251])"
      ]
     },
     "execution_count": 55,
     "metadata": {},
     "output_type": "execute_result"
    }
   ],
   "source": [
    "passes[(passes['match_game']=='69205.json') & (passes['end_shot']==1) & (passes['xT']>=0.10)]['possession_chain'].unique()"
   ]
  },
  {
   "cell_type": "code",
   "execution_count": 58,
   "id": "96618654-ce50-43be-900b-13ecf38e6be1",
   "metadata": {
    "tags": []
   },
   "outputs": [
    {
     "data": {
      "image/png": "[encoded data removed]",
      "text/plain": [
       "<Figure size 1240.19x900 with 3 Axes>"
      ]
     },
     "metadata": {},
     "output_type": "display_data"
    }
   ],
   "source": [
    "# possession_example = chains_index['ManCity_Tottenham'][9]\n",
    "# possession_example = 16\n",
    "# match_game_example = 'ManCity_Arsenal'\n",
    "# chain = df_coordinates.loc[ (df_coordinates[\"possession_chain\"] == possession_example) & (df_coordinates['match_game']==match_game_example)]\n",
    "chain = df_coordinates[(df_coordinates['match_game']=='69205.json')  & (df_coordinates['possession_chain']==145)]\n",
    "\n",
    "#get passes\n",
    "passes_in = passes.loc[ \n",
    "    (passes[\"possession_chain\"] == 145) & (passes['match_game']=='69205.json')\n",
    "]\n",
    "\n",
    "max_value = passes_in[\"xT\"].max()\n",
    "#get events different than pass\n",
    "not_pass = chain.loc[chain[\"type_name\"] != \"Pass\"].iloc[:-1]\n",
    "#shot is the last event of the chain (or should be)\n",
    "shot = chain.iloc[-1]\n",
    "\n",
    "#plot\n",
    "pitch = Pitch(line_color='black',pitch_type='custom', pitch_length=120, pitch_width=80, line_zorder = 2)\n",
    "fig, ax = pitch.grid(grid_height=0.9, title_height=0.06, axis=False,\n",
    "                     endnote_height=0.04, title_space=0, endnote_space=0)\n",
    "#add size adjusted arrows\n",
    "for i, row in passes_in.iterrows():\n",
    "    value = row[\"xT\"]\n",
    "    #adjust the line width so that the more passes, the wider the line\n",
    "    line_width = (value / max_value * 10)\n",
    "    #get angle\n",
    "    angle = np.arctan((row.y1-row.y0)/(row.x1-row.x0))*180/np.pi\n",
    "    #plot lines on the pitch\n",
    "    pitch.arrows(row.x0, row.y0, row.x1, row.y1,\n",
    "                        alpha=0.6, width=line_width, zorder=2, color=\"blue\", ax = ax[\"pitch\"])\n",
    "    #annotate text\n",
    "    ax[\"pitch\"].text((row.x0+row.x1-8)/2, (row.y0+row.y1-4)/2, str(value)[:5], fontweight = \"bold\", color = \"blue\", zorder = 4, fontsize = 20, rotation = int(angle))\n",
    "\n",
    "#shot\n",
    "pitch.arrows(shot.x0, shot.y0,\n",
    "            shot.x1, shot.y1, width=line_width, color = \"red\", ax=ax['pitch'], zorder =  3)\n",
    "#other passes like arrows\n",
    "pitch.lines(not_pass.x0, not_pass.y0, not_pass.x1, not_pass.y1, color = \"grey\", lw = 1.5, ls = 'dotted', ax=ax['pitch'])\n",
    "ax['title'].text(0.5, 0.5, 'Passes leading to a shot', ha='center', va='center', fontsize=30)\n",
    "plt.show()"
   ]
  },
  {
   "cell_type": "markdown",
   "id": "6490e7b2-a262-4790-a879-b399a1ae1176",
   "metadata": {
    "tags": []
   },
   "source": [
    "## Finding out players with highest action-based Expected Threat"
   ]
  },
  {
   "cell_type": "code",
   "execution_count": 73,
   "id": "304d396e-fb2d-44a8-b0e6-920000b1a98d",
   "metadata": {
    "tags": []
   },
   "outputs": [],
   "source": [
    "summary = passes[[\"player_id\", \"player_name\" , \"xT\", \"possession_chain\"]].groupby([\"player_id\", \"player_name\"]).sum().reset_index()"
   ]
  },
  {
   "cell_type": "code",
   "execution_count": 74,
   "id": "f937853e-2451-42cd-8a53-b0e359a529ea",
   "metadata": {
    "tags": []
   },
   "outputs": [],
   "source": [
    "summary = passes.groupby([\"player_id\", \"player_name\"]).agg({\n",
    "    \"xT\": [\"sum\"],\n",
    "    \"possession_chain\" : [\"nunique\"]\n",
    "})"
   ]
  },
  {
   "cell_type": "code",
   "execution_count": 75,
   "id": "6995c5a7-0323-46e9-b151-bb47dceac270",
   "metadata": {
    "tags": []
   },
   "outputs": [],
   "source": [
    "# Rename columns for clarity\n",
    "summary.columns = [\"xT\",\"pass_count\"]\n",
    "summary.reset_index(inplace=True)"
   ]
  },
  {
   "cell_type": "code",
   "execution_count": 76,
   "id": "c69ebbca-70ef-4ac2-8869-60cb49adb003",
   "metadata": {
    "tags": []
   },
   "outputs": [],
   "source": [
    "summary['player_name'] = summary['player_name'].apply(lambda fullname: fullname.title())"
   ]
  },
  {
   "cell_type": "code",
   "execution_count": 77,
   "id": "8177f23c-08b8-4ec8-aac6-3444de92cbcd",
   "metadata": {
    "tags": []
   },
   "outputs": [
    {
     "data": {
      "text/html": [
       "<div>\n",
       "<style scoped>\n",
       "    .dataframe tbody tr th:only-of-type {\n",
       "        vertical-align: middle;\n",
       "    }\n",
       "\n",
       "    .dataframe tbody tr th {\n",
       "        vertical-align: top;\n",
       "    }\n",
       "\n",
       "    .dataframe thead th {\n",
       "        text-align: right;\n",
       "    }\n",
       "</style>\n",
       "<table border=\"1\" class=\"dataframe\">\n",
       "  <thead>\n",
       "    <tr style=\"text-align: right;\">\n",
       "      <th></th>\n",
       "      <th>player_id</th>\n",
       "      <th>player_name</th>\n",
       "      <th>xT</th>\n",
       "      <th>pass_count</th>\n",
       "    </tr>\n",
       "  </thead>\n",
       "  <tbody>\n",
       "    <tr>\n",
       "      <th>0</th>\n",
       "      <td>2948.0</td>\n",
       "      <td>Nabil Fekir</td>\n",
       "      <td>0.291645</td>\n",
       "      <td>5</td>\n",
       "    </tr>\n",
       "    <tr>\n",
       "      <th>1</th>\n",
       "      <td>2972.0</td>\n",
       "      <td>Marcus Thuram</td>\n",
       "      <td>0.404241</td>\n",
       "      <td>6</td>\n",
       "    </tr>\n",
       "    <tr>\n",
       "      <th>2</th>\n",
       "      <td>2999.0</td>\n",
       "      <td>Presnel Kimpembe</td>\n",
       "      <td>1.140413</td>\n",
       "      <td>28</td>\n",
       "    </tr>\n",
       "    <tr>\n",
       "      <th>3</th>\n",
       "      <td>3009.0</td>\n",
       "      <td>Kylian Mbappé Lottin</td>\n",
       "      <td>3.526636</td>\n",
       "      <td>49</td>\n",
       "    </tr>\n",
       "    <tr>\n",
       "      <th>4</th>\n",
       "      <td>3026.0</td>\n",
       "      <td>Adrien Rabiot</td>\n",
       "      <td>0.900551</td>\n",
       "      <td>20</td>\n",
       "    </tr>\n",
       "    <tr>\n",
       "      <th>...</th>\n",
       "      <td>...</td>\n",
       "      <td>...</td>\n",
       "      <td>...</td>\n",
       "      <td>...</td>\n",
       "    </tr>\n",
       "    <tr>\n",
       "      <th>1274</th>\n",
       "      <td>276896.0</td>\n",
       "      <td>Nicky Evrard</td>\n",
       "      <td>0.180474</td>\n",
       "      <td>36</td>\n",
       "    </tr>\n",
       "    <tr>\n",
       "      <th>1275</th>\n",
       "      <td>276897.0</td>\n",
       "      <td>Laura De Neve</td>\n",
       "      <td>0.819718</td>\n",
       "      <td>35</td>\n",
       "    </tr>\n",
       "    <tr>\n",
       "      <th>1276</th>\n",
       "      <td>276903.0</td>\n",
       "      <td>Marie Minnaert</td>\n",
       "      <td>0.669307</td>\n",
       "      <td>15</td>\n",
       "    </tr>\n",
       "    <tr>\n",
       "      <th>1277</th>\n",
       "      <td>276904.0</td>\n",
       "      <td>Kassandra Ndoutou Eboa Missipo</td>\n",
       "      <td>0.019932</td>\n",
       "      <td>1</td>\n",
       "    </tr>\n",
       "    <tr>\n",
       "      <th>1278</th>\n",
       "      <td>276906.0</td>\n",
       "      <td>Sari Kees</td>\n",
       "      <td>0.263606</td>\n",
       "      <td>20</td>\n",
       "    </tr>\n",
       "  </tbody>\n",
       "</table>\n",
       "<p>1279 rows × 4 columns</p>\n",
       "</div>"
      ],
      "text/plain": [
       "      player_id                     player_name        xT  pass_count\n",
       "0        2948.0                     Nabil Fekir  0.291645           5\n",
       "1        2972.0                   Marcus Thuram  0.404241           6\n",
       "2        2999.0                Presnel Kimpembe  1.140413          28\n",
       "3        3009.0            Kylian Mbappé Lottin  3.526636          49\n",
       "4        3026.0                   Adrien Rabiot  0.900551          20\n",
       "...         ...                             ...       ...         ...\n",
       "1274   276896.0                    Nicky Evrard  0.180474          36\n",
       "1275   276897.0                   Laura De Neve  0.819718          35\n",
       "1276   276903.0                  Marie Minnaert  0.669307          15\n",
       "1277   276904.0  Kassandra Ndoutou Eboa Missipo  0.019932           1\n",
       "1278   276906.0                       Sari Kees  0.263606          20\n",
       "\n",
       "[1279 rows x 4 columns]"
      ]
     },
     "execution_count": 77,
     "metadata": {},
     "output_type": "execute_result"
    }
   ],
   "source": [
    "summary"
   ]
  },
  {
   "cell_type": "markdown",
   "id": "89a85242-b8d1-4001-a523-28e3b863b5d6",
   "metadata": {
    "tags": []
   },
   "source": [
    "### Retrieve the minutes played by each player for each match"
   ]
  },
  {
   "cell_type": "code",
   "execution_count": 78,
   "id": "4d738827-7ee5-4df1-a9db-c0bfa4fa187e",
   "metadata": {
    "tags": []
   },
   "outputs": [],
   "source": [
    "def collect_json(pattern):\n",
    "    # Use glob to find all files that match the pattern\n",
    "    file_list = glob.glob(pattern)\n",
    "\n",
    "    match_game = '_'.join(file_list[0].split('/')[-1].split('_')[:2])\n",
    "\n",
    "    json_dic = {}\n",
    "    for file in file_list:\n",
    "        # Open the file and load its contents into a dictionary\n",
    "        with open(file, 'r') as f:\n",
    "            data = json.load(f)\n",
    "            match_game = '_'.join(file.split('/')[-1].split('_')[:2])\n",
    "            json_dic[match_game] = {\n",
    "                data[0]['team_name'] : data[0],\n",
    "                data[1]['team_name'] : data[1]\n",
    "            }\n",
    "    return json_dic"
   ]
  },
  {
   "cell_type": "code",
   "execution_count": null,
   "id": "bb687850-dafe-4aba-a802-fc1bf970f1e7",
   "metadata": {
    "tags": []
   },
   "outputs": [],
   "source": [
    "lineups_dic = collect_json(pattern='../data/StatsBomb/Data/*_lineups.json')"
   ]
  },
  {
   "cell_type": "code",
   "execution_count": null,
   "id": "ca219108-eb06-4abc-87bc-63e6da1b5dff",
   "metadata": {
    "tags": []
   },
   "outputs": [],
   "source": [
    "players_dic_list = []\n",
    "for match in lineups_dic.keys():\n",
    "    for team in lineups_dic[match].keys():\n",
    "        for player in lineups_dic[match][team]['lineup']:\n",
    "            for position in player['positions']:\n",
    "                # print(f\"{match} {team} {player['player_name']} {position['position']} {position['from']} {position['to'] if position['to'] is not None else '01:35:00.000'}\")\n",
    "                players_dic_list.append(\n",
    "                    {\n",
    "                        'match' : match,\n",
    "                        'team' : team,\n",
    "                        'player_name' : player['player_name'],\n",
    "                        'position' : position['position'],\n",
    "                        'from' : position['from'],\n",
    "                        'to' : position['to'] if position['to'] is not None else '01:35:00.000'\n",
    "                    }\n",
    "                )\n",
    "            "
   ]
  },
  {
   "cell_type": "code",
   "execution_count": null,
   "id": "d1aa3e9a-12b4-41f6-9021-94db19b00c4d",
   "metadata": {
    "tags": []
   },
   "outputs": [],
   "source": [
    "# convert list of dictionaries to DataFrame\n",
    "players_df = pd.DataFrame(players_dic_list)\n",
    "\n",
    "# convert timestamp column to timedelta format\n",
    "players_df['from_timedelta'] = pd.to_timedelta(players_df['from'])\n",
    "players_df['to_timedelta'] = pd.to_timedelta(players_df['to'])\n",
    "\n",
    "# calculate total seconds elapsed since midnight\n",
    "players_df['from_seconds'] = players_df['from_timedelta'].dt.total_seconds()\n",
    "players_df['to_seconds'] = players_df['to_timedelta'].dt.total_seconds()\n",
    "\n",
    "# convert seconds to minutes\n",
    "players_df['from_minutes'] = players_df['from_seconds'] / 60\n",
    "players_df['to_minutes'] = players_df['to_seconds'] / 60\n",
    "\n",
    "players_df['minutes_played'] = players_df['to_minutes'].astype(int) - players_df['from_minutes'].astype(int)\n",
    "players_df['player_name'] = players_df['player_name'].apply(lambda name: name.title())"
   ]
  },
  {
   "cell_type": "code",
   "execution_count": null,
   "id": "15c81bc9-4f61-4afa-b339-e96e0e626207",
   "metadata": {
    "tags": []
   },
   "outputs": [],
   "source": [
    "players_df_minutes = players_df[['match','team','player_name','position','minutes_played']]"
   ]
  },
  {
   "cell_type": "code",
   "execution_count": null,
   "id": "ecc63d0e-f842-46f2-8759-10c69383e271",
   "metadata": {
    "tags": []
   },
   "outputs": [],
   "source": [
    "minutes_player = players_df_minutes.groupby(['team','player_name']).sum(['minutes_played']).reset_index()"
   ]
  },
  {
   "cell_type": "code",
   "execution_count": null,
   "id": "a36bb36f-cfc8-4cdc-86e5-7be33f1b55f5",
   "metadata": {
    "tags": []
   },
   "outputs": [],
   "source": [
    "summary_players_minutes = \\\n",
    "pd.merge(\n",
    "    summary,\n",
    "    minutes_player,\n",
    "    left_on='player_name',\n",
    "    right_on='player_name',\n",
    "    how='left'\n",
    ")"
   ]
  },
  {
   "cell_type": "code",
   "execution_count": null,
   "id": "dc52dd57-80da-4b6e-b7d7-ec8db77d604a",
   "metadata": {
    "tags": []
   },
   "outputs": [],
   "source": [
    "summary_players_minutes"
   ]
  }
 ],
 "metadata": {
  "kernelspec": {
   "display_name": "Python 3 (ipykernel)",
   "language": "python",
   "name": "python3"
  },
  "language_info": {
   "codemirror_mode": {
    "name": "ipython",
    "version": 3
   },
   "file_extension": ".py",
   "mimetype": "text/x-python",
   "name": "python",
   "nbconvert_exporter": "python",
   "pygments_lexer": "ipython3",
   "version": "3.11.1"
  }
 },
 "nbformat": 4,
 "nbformat_minor": 5
}
