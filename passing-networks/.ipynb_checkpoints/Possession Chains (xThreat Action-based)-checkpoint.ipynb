{
 "cells": [
  {
   "cell_type": "markdown",
   "id": "13374de5-8cae-4e22-b14c-0bf2a4210c51",
   "metadata": {
    "tags": []
   },
   "source": [
    "## Import required libraries"
   ]
  },
  {
   "cell_type": "code",
   "execution_count": 1,
   "id": "5d9d5888-c095-40a5-aea0-e10300dc48ee",
   "metadata": {
    "tags": []
   },
   "outputs": [],
   "source": [
    "import pandas as pd\n",
    "import numpy as np\n",
    "import json\n",
    "# plotting\n",
    "import os\n",
    "import pathlib\n",
    "import warnings\n",
    "import statsmodels.api as sm\n",
    "import statsmodels.formula.api as smf\n",
    "from mplsoccer import Pitch\n",
    "import matplotlib.pyplot as plt\n",
    "import glob\n",
    "import math\n",
    "from itertools import combinations_with_replacement\n",
    "from sklearn.model_selection import train_test_split\n",
    "from xgboost import XGBRegressor,XGBClassifier\n",
    "from sklearn.linear_model import LinearRegression\n",
    "\n",
    "pd.options.mode.chained_assignment = None\n",
    "warnings.filterwarnings('ignore')"
   ]
  },
  {
   "cell_type": "markdown",
   "id": "ba84d3c3-aeb2-4cfc-a6af-064e4ee1fb10",
   "metadata": {},
   "source": [
    "## Import all events per Man City's matches"
   ]
  },
  {
   "cell_type": "code",
   "execution_count": 2,
   "id": "52a2c2a5-e3fa-45d2-9371-adbc0534a3c3",
   "metadata": {
    "tags": []
   },
   "outputs": [],
   "source": [
    "# Define the wildcard pattern to match the file names\n",
    "pattern = '../data/StatsBomb/Data/*_events.json'\n",
    "# Use glob to find all files that match the pattern\n",
    "file_list = glob.glob(pattern)\n",
    "\n",
    "match_game = '_'.join(file_list[0].split('/')[-1].split('_')[:2])\n",
    "\n",
    "df_list = []\n",
    "for file in file_list:\n",
    "    # Open the file and load its contents into a dictionary\n",
    "    with open(file, 'r') as f:\n",
    "        data = json.load(f)\n",
    "        match_game = '_'.join(file.split('/')[-1].split('_')[:2])\n",
    "        df_game = pd.json_normalize(data)\n",
    "        df_game['match_game'] = match_game\n",
    "        # Convert the list of JSON values to a DataFrame\n",
    "        df_list.append(df_game)"
   ]
  },
  {
   "cell_type": "code",
   "execution_count": 3,
   "id": "75886a48-d180-457c-a215-c2ac9572d30a",
   "metadata": {
    "tags": []
   },
   "outputs": [],
   "source": [
    "df = pd.concat(df_list,ignore_index = True)\n",
    "\n",
    "match_games = df['match_game'].unique()\n",
    "df_games = {game:df[df['match_game']==game] for game in match_games}"
   ]
  },
  {
   "cell_type": "code",
   "execution_count": 4,
   "id": "878e1d6a-da6d-4b09-9b0b-32ebba973143",
   "metadata": {
    "tags": []
   },
   "outputs": [],
   "source": [
    "example_match = match_games[0]"
   ]
  },
  {
   "cell_type": "markdown",
   "id": "529ce279-87d8-4a89-975e-17d9b73b5fe8",
   "metadata": {
    "jp-MarkdownHeadingCollapsed": true,
    "tags": []
   },
   "source": [
    "## Preparing data\n",
    "\n",
    "First we see create a new column with the next event. We create a column with 1 if the ball was kicked out - to mark when the chain should be stopped. We filter out Interruptions since there was an ball out of the pitch or foul before them. Then, we filter lost duels, since Wyscout duels are saved twice - for both team either defensive or offensive. We filter out events “Out of ball” since we can get this information from other column. Then, we filter out events by goalkeepers, since shots were made before.\n",
    "\n",
    "\n",
    "- Create a new column with the next event\n",
    "- Create a column with 1 if the ball was kicked out - to mark when the chain should be stopped\n",
    "- Filter out Interruptions since there was an ball out of the pitch or foul before them"
   ]
  },
  {
   "cell_type": "code",
   "execution_count": 5,
   "id": "80f2cf17-19e1-4277-96a5-64e7d938ce1e",
   "metadata": {
    "tags": []
   },
   "outputs": [],
   "source": [
    "next_event = {match_game:df_games[match_game].shift(-1, fill_value=0) for match_game in df_games.keys()}"
   ]
  },
  {
   "cell_type": "code",
   "execution_count": 6,
   "id": "bd7ace6a-7ac5-4fa0-8d7b-c165543ab9bc",
   "metadata": {
    "tags": []
   },
   "outputs": [],
   "source": [
    "for match_game in df_games.keys():\n",
    "    df_games[match_game]['nextEvent'] = next_event[match_game]['type.name']\n",
    "    df_games[match_game]['kickedOut'] = np.where(next_event[match_game]['out']==True,1,0)"
   ]
  },
  {
   "cell_type": "code",
   "execution_count": 7,
   "id": "b866d2dd-d686-4c2b-8e6a-cf3fdae73a93",
   "metadata": {
    "tags": []
   },
   "outputs": [],
   "source": [
    "# df[\"nextEvent\"] = next_event[\"type.name\"]\n",
    "# df['kickedOut'] = np.where(next_event['out']==True,1,0)"
   ]
  },
  {
   "cell_type": "code",
   "execution_count": 8,
   "id": "6c44458d-8869-411b-aaaf-cc4b7764a5d3",
   "metadata": {
    "tags": []
   },
   "outputs": [],
   "source": [
    "keepEvents = \\\n",
    "[\n",
    "    'Carry',\n",
    "    'Pass',\n",
    "    'Duel',\n",
    "    'Dribble',\n",
    "    'Clearance',\n",
    "    'Shot',\n",
    "    'Foul',\n",
    "    'Foul Committed',\n",
    "    'Injury Stoppage',\n",
    "    'Foul',\n",
    "    'Substitution',\n",
    "    'Offside',\n",
    "    'Interception',\n",
    "    'Ball Recovery',\n",
    "    'Ball Receipt*'\n",
    "]"
   ]
  },
  {
   "cell_type": "code",
   "execution_count": 9,
   "id": "92581b90-d881-4622-a5ea-371c11e6cac8",
   "metadata": {
    "tags": []
   },
   "outputs": [],
   "source": [
    "cl_df = {match_game:df_games[match_game][df_games[match_game]['type.name'].isin(keepEvents)] for match_game in df_games.keys()}"
   ]
  },
  {
   "cell_type": "markdown",
   "id": "61d47679-8002-47c9-9b0c-07c125778213",
   "metadata": {},
   "source": [
    "## Isolating possesion chain\n",
    "- Isolate possesion chain with the rule that if the ball was touched once by a different team, it should not change the results.\n",
    "- If there was a foul, ball kicked out of the field the chain is stopped.\n",
    "- For others in the ball, if the ball was properly intercepted that is, the next team is the one that made the next event, we stop the chain.\n",
    "- Otherwise, if the ball was only touched, but did not change possesion, we treat a pass as an accurate one.\n",
    "- This is an approximate of true possesion chain."
   ]
  },
  {
   "cell_type": "code",
   "execution_count": 10,
   "id": "71d2500d-cf0a-41ea-8ba0-91df97292235",
   "metadata": {
    "tags": []
   },
   "outputs": [
    {
     "name": "stdout",
     "output_type": "stream",
     "text": [
      "Match Game: ManCity_Tottenham  Events: 3219\n",
      "Match Game: ManCity_AstonVilla  Events: 2833\n",
      "Match Game: ManCity_Liverpool  Events: 2642\n",
      "Match Game: ManCity_Brighton  Events: 3425\n",
      "Match Game: ManCity_Arsenal  Events: 3060\n",
      "Match Game: ManCity_LeicesterCity  Events: 3004\n"
     ]
    }
   ],
   "source": [
    "# cl_df['match_game'].value_counts()\n",
    "for match_game in cl_df.keys():\n",
    "    print(f'Match Game: {match_game}  Events: {len(cl_df[match_game])}')"
   ]
  },
  {
   "cell_type": "code",
   "execution_count": 11,
   "id": "569d1a0c-0f3f-44fa-a6d8-2029ac95ff9b",
   "metadata": {
    "tags": []
   },
   "outputs": [],
   "source": [
    "def timestamp_to_seconds(timestamp):\n",
    "    parts = timestamp.split(':')\n",
    "    hours = int(parts[0])\n",
    "    minutes = int(parts[1])\n",
    "    seconds = float(parts[2])\n",
    "    total_seconds = (hours * 3600) + (minutes * 60) + seconds\n",
    "    return int(total_seconds)\n"
   ]
  },
  {
   "cell_type": "code",
   "execution_count": 12,
   "id": "c704eb27-fac7-4753-a477-454e32498d8c",
   "metadata": {
    "tags": []
   },
   "outputs": [],
   "source": [
    "def isolateChains(df):\n",
    "    \"\"\"\n",
    "    Parameters\n",
    "    ----------\n",
    "    df : dataframe\n",
    "        dataframe with StatsBomb event data.\n",
    "\n",
    "    Returns\n",
    "    -------\n",
    "    df: dataframe\n",
    "        dataframe with isolated possesion chains\n",
    "\n",
    "    \"\"\"\n",
    "    df['seconds'] = df['timestamp'].apply(lambda time: timestamp_to_seconds(time))\n",
    "    df[\"nextTeamName\"] = df.shift(-1, fill_value=0)[\"team.name\"]\n",
    "    #potential +0s\n",
    "    chain_team = df.iloc[0][\"team.name\"]\n",
    "    period = df.iloc[0][\"period\"]\n",
    "    stop_criterion = 0\n",
    "    chain = 0\n",
    "    df[\"possesion_chain\"] = 0\n",
    "    df[\"possesion_chain_team\"] = 0\n",
    "\n",
    "    for i, row in df.iterrows():\n",
    "        # if (row['index']==283):\n",
    "        #     import pdb;pdb.set_trace()\n",
    "        #add value\n",
    "        df.at[i, \"possesion_chain\"] = chain\n",
    "        df.at[i, \"possesion_chain_team\"] = chain_team\n",
    "\n",
    "        if row['team.name'] != chain_team:\n",
    "            stop_criterion+=1\n",
    "        if row[\"type.name\"] in [\"Shot\", \"Foul Committed\", \"Offside\",'Injury Stoppage','Substitution']:\n",
    "            stop_criterion += 2\n",
    "        if row['type.name'] == 'Ball Receipt*':\n",
    "            if row['ball_receipt.outcome.name'] == 'Incomplete':\n",
    "                stop_criterion +=2\n",
    "        #if ball out of field, add 2\n",
    "        if row[\"out\"]==True:\n",
    "            stop_criterion += 2\n",
    "        # if the ball was properly intercepted that is, the next team is the one that made the next event, we stop the chain.         \n",
    "        if row['type.name']=='Interception':\n",
    "            if row['team.name']!=row['nextTeamName']:\n",
    "                stop_criterion +=2\n",
    "            else:\n",
    "                # if the ball was only touched, but did not change possesion, we treat a pass as an accurate one.\n",
    "                stop_criterion = 0\n",
    "  \n",
    "        if stop_criterion == 1 and row['team.name'] == chain_team:\n",
    "            stop_criterion = 0 \n",
    "        #criterion for stopping when half ended\n",
    "        \n",
    "        if row[\"period\"] != period:\n",
    "                chain += 1\n",
    "                stop_criterion = 0\n",
    "                chain_team = row['team.name']\n",
    "                period = row[\"period\"]\n",
    "                df.at[i, \"possesion_chain\"] = chain\n",
    "                df.at[i, \"possesion_chain_team\"] = chain_team\n",
    "        #possesion chain ended\n",
    "        if stop_criterion >= 2:\n",
    "            chain += 1\n",
    "            stop_criterion = 0\n",
    "            chain_team = row['nextTeamName']\n",
    "    return df\n"
   ]
  },
  {
   "cell_type": "code",
   "execution_count": 13,
   "id": "9aba4e02-dbfc-4c41-9da2-23403bffbe3d",
   "metadata": {
    "tags": []
   },
   "outputs": [],
   "source": [
    "df_isolated = {match_game:isolateChains(cl_df[match_game]) for match_game in cl_df.keys()}"
   ]
  },
  {
   "cell_type": "code",
   "execution_count": 14,
   "id": "1c1f5346-0f1e-4214-8d14-63be11ddaacd",
   "metadata": {
    "tags": []
   },
   "outputs": [],
   "source": [
    "for match_game in match_games:\n",
    "    df_list = []\n",
    "    for possession in df_isolated[match_game]['possesion_chain'].unique():\n",
    "        temp_df = df_isolated[match_game][df_isolated[match_game]['possesion_chain']==possession]\n",
    "        temp_df = temp_df[temp_df['seconds']>= max(temp_df['seconds']-15)]\n",
    "        df_list.append(temp_df)\n",
    "    df_isolated[match_game] = pd.concat(df_list)"
   ]
  },
  {
   "cell_type": "markdown",
   "id": "e59e88b9-db52-4823-9666-58e8e867ee1c",
   "metadata": {},
   "source": [
    "## Retrieve all Possesion Chain that lead to a shot per game"
   ]
  },
  {
   "cell_type": "code",
   "execution_count": 15,
   "id": "571d8b42-6dd9-4790-8ef6-a800d7b32e0e",
   "metadata": {
    "tags": []
   },
   "outputs": [],
   "source": [
    "chains_index = {match_game:df_isolated[match_game][df_isolated[match_game]['type.name']=='Shot']['possesion_chain'].unique() for match_game in df_isolated.keys()}\n"
   ]
  },
  {
   "cell_type": "code",
   "execution_count": 16,
   "id": "1ebea87b-e33c-4b20-8cfe-36ac72aa1d57",
   "metadata": {
    "tags": []
   },
   "outputs": [],
   "source": [
    "shot = {match_game:df_isolated[match_game][df_isolated[match_game]['type.name']=='Shot'] for match_game in df_isolated.keys()}\n"
   ]
  },
  {
   "cell_type": "code",
   "execution_count": 17,
   "id": "46a63a3f-06aa-44d8-9db5-cdb2b6c48de0",
   "metadata": {
    "tags": []
   },
   "outputs": [],
   "source": [
    "for match_game in df_isolated.keys():\n",
    "    df_isolated[match_game]['end_location'] = df_isolated[match_game]['carry.end_location'].fillna(df_isolated[match_game]['shot.end_location']).fillna(df_isolated[match_game]['pass.end_location'])\n"
   ]
  },
  {
   "cell_type": "code",
   "execution_count": 18,
   "id": "4c762c53-c0b8-48e7-861b-2fc631e3d559",
   "metadata": {
    "tags": []
   },
   "outputs": [],
   "source": [
    "shot_patterns = \\\n",
    "{\n",
    "    match_game : \n",
    "    df_isolated[match_game][\n",
    "        df_isolated[match_game]['possesion_chain'].isin(chains_index[match_game])][\n",
    "        ['type.name','location','end_location','possesion_chain','team.name','index','shot.statsbomb_xg','match_game','seconds']\n",
    "    ]\n",
    "for match_game in df_isolated.keys()\n",
    "}"
   ]
  },
  {
   "cell_type": "code",
   "execution_count": 19,
   "id": "e862fa2a-7a33-4c40-b4d6-dd34f879fcfe",
   "metadata": {
    "tags": []
   },
   "outputs": [],
   "source": [
    "for match_game in df_isolated.keys():\n",
    "    shot_patterns[match_game]['shot.statsbomb_xg'] = shot_patterns[match_game]['shot.statsbomb_xg'].fillna(0.0)"
   ]
  },
  {
   "cell_type": "code",
   "execution_count": 20,
   "id": "d8d56b71-9994-4666-b5f8-2f028be6663e",
   "metadata": {
    "tags": []
   },
   "outputs": [
    {
     "data": {
      "text/plain": [
       "array([  1,  10,  17,  19,  21,  27,  33,  43,  44,  45,  47,  55,  57,\n",
       "        73,  84,  96, 117, 121, 134, 140, 145, 150, 209, 210, 230, 239,\n",
       "       279, 280, 282, 283, 284, 293, 297, 305, 318, 323])"
      ]
     },
     "execution_count": 20,
     "metadata": {},
     "output_type": "execute_result"
    }
   ],
   "source": [
    "shot_patterns[match_games[0]]['possesion_chain'].unique()"
   ]
  },
  {
   "cell_type": "code",
   "execution_count": 21,
   "id": "7e12e9a6-456a-4140-8ae2-87c0971a3906",
   "metadata": {
    "tags": []
   },
   "outputs": [
    {
     "data": {
      "text/html": [
       "<div>\n",
       "<style scoped>\n",
       "    .dataframe tbody tr th:only-of-type {\n",
       "        vertical-align: middle;\n",
       "    }\n",
       "\n",
       "    .dataframe tbody tr th {\n",
       "        vertical-align: top;\n",
       "    }\n",
       "\n",
       "    .dataframe thead th {\n",
       "        text-align: right;\n",
       "    }\n",
       "</style>\n",
       "<table border=\"1\" class=\"dataframe\">\n",
       "  <thead>\n",
       "    <tr style=\"text-align: right;\">\n",
       "      <th></th>\n",
       "      <th>type.name</th>\n",
       "      <th>location</th>\n",
       "      <th>end_location</th>\n",
       "      <th>possesion_chain</th>\n",
       "      <th>team.name</th>\n",
       "      <th>index</th>\n",
       "      <th>shot.statsbomb_xg</th>\n",
       "      <th>match_game</th>\n",
       "      <th>seconds</th>\n",
       "    </tr>\n",
       "  </thead>\n",
       "  <tbody>\n",
       "    <tr>\n",
       "      <th>196</th>\n",
       "      <td>Ball Receipt*</td>\n",
       "      <td>[104.8, 21.0]</td>\n",
       "      <td>NaN</td>\n",
       "      <td>17</td>\n",
       "      <td>Manchester City WFC</td>\n",
       "      <td>197</td>\n",
       "      <td>0.00000</td>\n",
       "      <td>ManCity_Tottenham</td>\n",
       "      <td>253</td>\n",
       "    </tr>\n",
       "    <tr>\n",
       "      <th>197</th>\n",
       "      <td>Carry</td>\n",
       "      <td>[104.8, 21.0]</td>\n",
       "      <td>[100.7, 18.7]</td>\n",
       "      <td>17</td>\n",
       "      <td>Manchester City WFC</td>\n",
       "      <td>198</td>\n",
       "      <td>0.00000</td>\n",
       "      <td>ManCity_Tottenham</td>\n",
       "      <td>253</td>\n",
       "    </tr>\n",
       "    <tr>\n",
       "      <th>200</th>\n",
       "      <td>Pass</td>\n",
       "      <td>[100.7, 18.7]</td>\n",
       "      <td>[104.3, 5.2]</td>\n",
       "      <td>17</td>\n",
       "      <td>Manchester City WFC</td>\n",
       "      <td>201</td>\n",
       "      <td>0.00000</td>\n",
       "      <td>ManCity_Tottenham</td>\n",
       "      <td>258</td>\n",
       "    </tr>\n",
       "    <tr>\n",
       "      <th>201</th>\n",
       "      <td>Ball Receipt*</td>\n",
       "      <td>[104.3, 5.2]</td>\n",
       "      <td>NaN</td>\n",
       "      <td>17</td>\n",
       "      <td>Manchester City WFC</td>\n",
       "      <td>202</td>\n",
       "      <td>0.00000</td>\n",
       "      <td>ManCity_Tottenham</td>\n",
       "      <td>259</td>\n",
       "    </tr>\n",
       "    <tr>\n",
       "      <th>202</th>\n",
       "      <td>Carry</td>\n",
       "      <td>[104.3, 5.2]</td>\n",
       "      <td>[102.8, 12.3]</td>\n",
       "      <td>17</td>\n",
       "      <td>Manchester City WFC</td>\n",
       "      <td>203</td>\n",
       "      <td>0.00000</td>\n",
       "      <td>ManCity_Tottenham</td>\n",
       "      <td>259</td>\n",
       "    </tr>\n",
       "    <tr>\n",
       "      <th>205</th>\n",
       "      <td>Duel</td>\n",
       "      <td>[17.3, 67.8]</td>\n",
       "      <td>NaN</td>\n",
       "      <td>17</td>\n",
       "      <td>Tottenham Hotspur Women</td>\n",
       "      <td>206</td>\n",
       "      <td>0.00000</td>\n",
       "      <td>ManCity_Tottenham</td>\n",
       "      <td>261</td>\n",
       "    </tr>\n",
       "    <tr>\n",
       "      <th>206</th>\n",
       "      <td>Ball Recovery</td>\n",
       "      <td>[99.5, 13.0]</td>\n",
       "      <td>NaN</td>\n",
       "      <td>17</td>\n",
       "      <td>Manchester City WFC</td>\n",
       "      <td>207</td>\n",
       "      <td>0.00000</td>\n",
       "      <td>ManCity_Tottenham</td>\n",
       "      <td>262</td>\n",
       "    </tr>\n",
       "    <tr>\n",
       "      <th>207</th>\n",
       "      <td>Carry</td>\n",
       "      <td>[99.5, 13.0]</td>\n",
       "      <td>[103.8, 19.1]</td>\n",
       "      <td>17</td>\n",
       "      <td>Manchester City WFC</td>\n",
       "      <td>208</td>\n",
       "      <td>0.00000</td>\n",
       "      <td>ManCity_Tottenham</td>\n",
       "      <td>262</td>\n",
       "    </tr>\n",
       "    <tr>\n",
       "      <th>209</th>\n",
       "      <td>Dribble</td>\n",
       "      <td>[103.8, 19.1]</td>\n",
       "      <td>NaN</td>\n",
       "      <td>17</td>\n",
       "      <td>Manchester City WFC</td>\n",
       "      <td>210</td>\n",
       "      <td>0.00000</td>\n",
       "      <td>ManCity_Tottenham</td>\n",
       "      <td>264</td>\n",
       "    </tr>\n",
       "    <tr>\n",
       "      <th>210</th>\n",
       "      <td>Duel</td>\n",
       "      <td>[16.3, 61.0]</td>\n",
       "      <td>NaN</td>\n",
       "      <td>17</td>\n",
       "      <td>Tottenham Hotspur Women</td>\n",
       "      <td>211</td>\n",
       "      <td>0.00000</td>\n",
       "      <td>ManCity_Tottenham</td>\n",
       "      <td>264</td>\n",
       "    </tr>\n",
       "    <tr>\n",
       "      <th>211</th>\n",
       "      <td>Pass</td>\n",
       "      <td>[102.8, 16.5]</td>\n",
       "      <td>[97.7, 11.4]</td>\n",
       "      <td>17</td>\n",
       "      <td>Manchester City WFC</td>\n",
       "      <td>212</td>\n",
       "      <td>0.00000</td>\n",
       "      <td>ManCity_Tottenham</td>\n",
       "      <td>265</td>\n",
       "    </tr>\n",
       "    <tr>\n",
       "      <th>212</th>\n",
       "      <td>Ball Receipt*</td>\n",
       "      <td>[97.7, 11.4]</td>\n",
       "      <td>NaN</td>\n",
       "      <td>17</td>\n",
       "      <td>Manchester City WFC</td>\n",
       "      <td>213</td>\n",
       "      <td>0.00000</td>\n",
       "      <td>ManCity_Tottenham</td>\n",
       "      <td>266</td>\n",
       "    </tr>\n",
       "    <tr>\n",
       "      <th>213</th>\n",
       "      <td>Carry</td>\n",
       "      <td>[97.7, 11.4]</td>\n",
       "      <td>[97.7, 11.3]</td>\n",
       "      <td>17</td>\n",
       "      <td>Manchester City WFC</td>\n",
       "      <td>214</td>\n",
       "      <td>0.00000</td>\n",
       "      <td>ManCity_Tottenham</td>\n",
       "      <td>266</td>\n",
       "    </tr>\n",
       "    <tr>\n",
       "      <th>215</th>\n",
       "      <td>Pass</td>\n",
       "      <td>[97.7, 11.3]</td>\n",
       "      <td>[97.9, 18.2]</td>\n",
       "      <td>17</td>\n",
       "      <td>Manchester City WFC</td>\n",
       "      <td>216</td>\n",
       "      <td>0.00000</td>\n",
       "      <td>ManCity_Tottenham</td>\n",
       "      <td>266</td>\n",
       "    </tr>\n",
       "    <tr>\n",
       "      <th>216</th>\n",
       "      <td>Ball Receipt*</td>\n",
       "      <td>[97.9, 18.2]</td>\n",
       "      <td>NaN</td>\n",
       "      <td>17</td>\n",
       "      <td>Manchester City WFC</td>\n",
       "      <td>217</td>\n",
       "      <td>0.00000</td>\n",
       "      <td>ManCity_Tottenham</td>\n",
       "      <td>267</td>\n",
       "    </tr>\n",
       "    <tr>\n",
       "      <th>217</th>\n",
       "      <td>Carry</td>\n",
       "      <td>[97.9, 18.2]</td>\n",
       "      <td>[97.3, 27.1]</td>\n",
       "      <td>17</td>\n",
       "      <td>Manchester City WFC</td>\n",
       "      <td>218</td>\n",
       "      <td>0.00000</td>\n",
       "      <td>ManCity_Tottenham</td>\n",
       "      <td>267</td>\n",
       "    </tr>\n",
       "    <tr>\n",
       "      <th>219</th>\n",
       "      <td>Shot</td>\n",
       "      <td>[97.3, 27.1, 0.0]</td>\n",
       "      <td>[98.0, 27.4]</td>\n",
       "      <td>17</td>\n",
       "      <td>Manchester City WFC</td>\n",
       "      <td>220</td>\n",
       "      <td>0.00985</td>\n",
       "      <td>ManCity_Tottenham</td>\n",
       "      <td>268</td>\n",
       "    </tr>\n",
       "  </tbody>\n",
       "</table>\n",
       "</div>"
      ],
      "text/plain": [
       "         type.name           location   end_location  possesion_chain  \\\n",
       "196  Ball Receipt*      [104.8, 21.0]            NaN               17   \n",
       "197          Carry      [104.8, 21.0]  [100.7, 18.7]               17   \n",
       "200           Pass      [100.7, 18.7]   [104.3, 5.2]               17   \n",
       "201  Ball Receipt*       [104.3, 5.2]            NaN               17   \n",
       "202          Carry       [104.3, 5.2]  [102.8, 12.3]               17   \n",
       "205           Duel       [17.3, 67.8]            NaN               17   \n",
       "206  Ball Recovery       [99.5, 13.0]            NaN               17   \n",
       "207          Carry       [99.5, 13.0]  [103.8, 19.1]               17   \n",
       "209        Dribble      [103.8, 19.1]            NaN               17   \n",
       "210           Duel       [16.3, 61.0]            NaN               17   \n",
       "211           Pass      [102.8, 16.5]   [97.7, 11.4]               17   \n",
       "212  Ball Receipt*       [97.7, 11.4]            NaN               17   \n",
       "213          Carry       [97.7, 11.4]   [97.7, 11.3]               17   \n",
       "215           Pass       [97.7, 11.3]   [97.9, 18.2]               17   \n",
       "216  Ball Receipt*       [97.9, 18.2]            NaN               17   \n",
       "217          Carry       [97.9, 18.2]   [97.3, 27.1]               17   \n",
       "219           Shot  [97.3, 27.1, 0.0]   [98.0, 27.4]               17   \n",
       "\n",
       "                   team.name  index  shot.statsbomb_xg         match_game  \\\n",
       "196      Manchester City WFC    197            0.00000  ManCity_Tottenham   \n",
       "197      Manchester City WFC    198            0.00000  ManCity_Tottenham   \n",
       "200      Manchester City WFC    201            0.00000  ManCity_Tottenham   \n",
       "201      Manchester City WFC    202            0.00000  ManCity_Tottenham   \n",
       "202      Manchester City WFC    203            0.00000  ManCity_Tottenham   \n",
       "205  Tottenham Hotspur Women    206            0.00000  ManCity_Tottenham   \n",
       "206      Manchester City WFC    207            0.00000  ManCity_Tottenham   \n",
       "207      Manchester City WFC    208            0.00000  ManCity_Tottenham   \n",
       "209      Manchester City WFC    210            0.00000  ManCity_Tottenham   \n",
       "210  Tottenham Hotspur Women    211            0.00000  ManCity_Tottenham   \n",
       "211      Manchester City WFC    212            0.00000  ManCity_Tottenham   \n",
       "212      Manchester City WFC    213            0.00000  ManCity_Tottenham   \n",
       "213      Manchester City WFC    214            0.00000  ManCity_Tottenham   \n",
       "215      Manchester City WFC    216            0.00000  ManCity_Tottenham   \n",
       "216      Manchester City WFC    217            0.00000  ManCity_Tottenham   \n",
       "217      Manchester City WFC    218            0.00000  ManCity_Tottenham   \n",
       "219      Manchester City WFC    220            0.00985  ManCity_Tottenham   \n",
       "\n",
       "     seconds  \n",
       "196      253  \n",
       "197      253  \n",
       "200      258  \n",
       "201      259  \n",
       "202      259  \n",
       "205      261  \n",
       "206      262  \n",
       "207      262  \n",
       "209      264  \n",
       "210      264  \n",
       "211      265  \n",
       "212      266  \n",
       "213      266  \n",
       "215      266  \n",
       "216      267  \n",
       "217      267  \n",
       "219      268  "
      ]
     },
     "execution_count": 21,
     "metadata": {},
     "output_type": "execute_result"
    }
   ],
   "source": [
    "shot_patterns[match_games[0]][shot_patterns[match_games[0]]['possesion_chain']==17]"
   ]
  },
  {
   "cell_type": "code",
   "execution_count": 22,
   "id": "d04f0ead-8b5f-4778-9afa-0344cb0a2978",
   "metadata": {
    "tags": []
   },
   "outputs": [],
   "source": [
    "shot_patterns_df = {}\n",
    "for match_game in shot_patterns.keys():\n",
    "    patterns_list = [] \n",
    "    for c_index in chains_index[match_game]:\n",
    "        temp_df = shot_patterns[match_game][shot_patterns[match_game]['possesion_chain']==c_index]\n",
    "        temp_df['xGoal'] = max(temp_df['shot.statsbomb_xg'])\n",
    "        patterns_list.append(temp_df)\n",
    "    shot_patterns_df[match_game] = pd.concat(patterns_list)"
   ]
  },
  {
   "cell_type": "markdown",
   "id": "5c27b43d-48af-41ea-8929-4705ec562c69",
   "metadata": {
    "tags": []
   },
   "source": [
    "## Finding chains that ended with shot"
   ]
  },
  {
   "cell_type": "code",
   "execution_count": 23,
   "id": "577ced50-db02-4e62-a64d-c51231453809",
   "metadata": {
    "tags": []
   },
   "outputs": [],
   "source": [
    "def prepareChains(df):\n",
    "    \"\"\"\n",
    "    Parameters\n",
    "    ----------\n",
    "    df : dataframe\n",
    "        dataframe with Wyscout event data.\n",
    "\n",
    "    Returns\n",
    "    -------\n",
    "    xG_sum: dataframe\n",
    "        dataframe with assigned values for chains\n",
    "\n",
    "    \"\"\"\n",
    "    # import pdb;pdb.set_trace()\n",
    "    df[\"shot_end\"] = 0\n",
    "    df['xG'] = np.where(df['shot.statsbomb_xg'].isna(),0,df['shot.statsbomb_xg'])\n",
    "    #get number of chains\n",
    "    no_chains = max(df[\"possesion_chain\"].unique())\n",
    "    indicies = []\n",
    "    for i in range(no_chains+1):\n",
    "        #all events get possesion chain\n",
    "        possesion_chain_df = df.loc[df[\"possesion_chain\"] == i]\n",
    "        #check if the possesion chain is not empty\n",
    "        if len(possesion_chain_df) > 0:\n",
    "            #if ended with shot\n",
    "            if possesion_chain_df.iloc[-1][\"type.name\"] == \"Shot\":\n",
    "                #assign values\n",
    "                df.loc[df[\"possesion_chain\"] == i, \"shot_end\"] = 1\n",
    "                xG = possesion_chain_df.iloc[-1][\"xG\"]\n",
    "                df.loc[df[\"possesion_chain\"] == i, \"xG\"] = xG\n",
    "                #check if the previous ones did not end with foul\n",
    "                k = i-1\n",
    "                if k > 0:\n",
    "                    try:\n",
    "                        prev = df.loc[df[\"possesion_chain\"] == k]\n",
    "                        #create a loop if e.g. 2 chains before and 1 chain before didn;t end with shot\n",
    "                        while prev.iloc[-1][\"type.name\"] == \"Foul\":\n",
    "                            #assign value for them\n",
    "                            df.loc[df[\"possesion_chain\"] == k, \"xG\"] = xG\n",
    "                            df.loc[df[\"possesion_chain\"] == k, \"shot_end\"] = 1\n",
    "                            k = k-1\n",
    "                            prev = df.loc[df[\"possesion_chain\"] == k]\n",
    "                    except:\n",
    "                        k = k-1\n",
    "            #get indiices of events made by possesion team\n",
    "            team_indicies = possesion_chain_df.loc[possesion_chain_df[\"team.id\"] == possesion_chain_df['possession_team.id']].index.values.tolist()\n",
    "            indicies.extend(team_indicies)\n",
    "\n",
    "    df = df.loc[indicies]\n",
    "    return df"
   ]
  },
  {
   "cell_type": "code",
   "execution_count": 24,
   "id": "91605e84-12ec-4ae3-bf61-d51d7828bc50",
   "metadata": {
    "tags": []
   },
   "outputs": [],
   "source": [
    "df_isolated_chains = {}\n",
    "for match_game in match_games:\n",
    "    df_isolated_chains[match_game] = prepareChains(df_isolated[match_game])"
   ]
  },
  {
   "cell_type": "code",
   "execution_count": 25,
   "id": "a76bde54-04af-46b3-90e8-0e5a0687c40e",
   "metadata": {
    "tags": []
   },
   "outputs": [
    {
     "data": {
      "text/plain": [
       "array([  1,  10,  17,  19,  21,  27,  33,  43,  44,  45,  47,  55,  57,\n",
       "        73,  84,  96, 117, 121, 134, 140, 145, 150, 209, 210, 230, 239,\n",
       "       279, 280, 282, 283, 284, 293, 297, 305, 318, 323])"
      ]
     },
     "execution_count": 25,
     "metadata": {},
     "output_type": "execute_result"
    }
   ],
   "source": [
    "shot_patterns['ManCity_Tottenham']['possesion_chain'].unique()"
   ]
  },
  {
   "cell_type": "markdown",
   "id": "43016b83-2ca9-4493-8703-ac4a81989f43",
   "metadata": {
    "tags": []
   },
   "source": [
    "## Preparing data for modelling"
   ]
  },
  {
   "cell_type": "code",
   "execution_count": 26,
   "id": "94053f39-f86a-4dbd-8177-8e45565d7fa3",
   "metadata": {
    "tags": []
   },
   "outputs": [],
   "source": [
    "shot_patterns_df_copy = df_isolated_chains.copy()"
   ]
  },
  {
   "cell_type": "code",
   "execution_count": 27,
   "id": "5f6c74e8-145d-4f02-b1ad-dcbaf571acf1",
   "metadata": {
    "tags": []
   },
   "outputs": [],
   "source": [
    "def prepare_coordinates(shot_patterns_df):\n",
    "    #columns with coordinates\n",
    "    shot_patterns_df = shot_patterns_df[~shot_patterns_df['end_location'].isna()]\n",
    "    shot_patterns_df[\"x0\"] = shot_patterns_df.location.apply(lambda cell: (cell[0]))\n",
    "    shot_patterns_df[\"c0\"] = shot_patterns_df.location.apply(lambda cell: abs(60 - cell[1]))\n",
    "    shot_patterns_df[\"x1\"] = shot_patterns_df.end_location.apply(lambda cell: (cell[0]))\n",
    "    shot_patterns_df[\"c1\"] = shot_patterns_df.end_location.apply(lambda cell: abs(60 - cell[1]))\n",
    "    #assign (105, 0) to end of the shot\n",
    "    shot_patterns_df.loc[df[\"type.name\"] == \"Shot\", \"x1\"] = 120\n",
    "    shot_patterns_df.loc[df[\"type.name\"] == \"Shot\", \"c1\"] = 0\n",
    "\n",
    "    #for plotting\n",
    "    shot_patterns_df[\"y0\"] = shot_patterns_df.location.apply(lambda cell: (cell[1]))\n",
    "    shot_patterns_df[\"y1\"] = shot_patterns_df.end_location.apply(lambda cell: (cell[1]))\n",
    "    shot_patterns_df.loc[df[\"type.name\"] == \"Shot\", \"y1\"] = 40\n",
    "    shot_patterns_df['end_shot'] = 1\n",
    "    return shot_patterns_df"
   ]
  },
  {
   "cell_type": "code",
   "execution_count": 28,
   "id": "a9ed14c7-745f-457f-933f-685bb284745a",
   "metadata": {
    "tags": []
   },
   "outputs": [
    {
     "data": {
      "text/plain": [
       "dict_keys(['ManCity_Tottenham', 'ManCity_AstonVilla', 'ManCity_Liverpool', 'ManCity_Brighton', 'ManCity_Arsenal', 'ManCity_LeicesterCity'])"
      ]
     },
     "execution_count": 28,
     "metadata": {},
     "output_type": "execute_result"
    }
   ],
   "source": [
    "shot_patterns_df_copy.keys()"
   ]
  },
  {
   "cell_type": "code",
   "execution_count": 29,
   "id": "4bae9255-9cc9-4e68-bc32-3a41f88c5be1",
   "metadata": {
    "tags": []
   },
   "outputs": [],
   "source": [
    "shot_patterns_df = {match_game:prepare_coordinates(shot_patterns_df[match_game]) for match_game in shot_patterns_df.keys()}"
   ]
  },
  {
   "cell_type": "markdown",
   "id": "4171c80d-d697-45e0-b9ad-c1cb00dbc85e",
   "metadata": {
    "tags": []
   },
   "source": [
    "## Possesion chain that ended with a shot"
   ]
  },
  {
   "cell_type": "code",
   "execution_count": 129,
   "id": "93adaea1-0a27-4801-a6db-672e742f65fe",
   "metadata": {
    "tags": []
   },
   "outputs": [
    {
     "data": {
      "text/html": [
       "<div>\n",
       "<style scoped>\n",
       "    .dataframe tbody tr th:only-of-type {\n",
       "        vertical-align: middle;\n",
       "    }\n",
       "\n",
       "    .dataframe tbody tr th {\n",
       "        vertical-align: top;\n",
       "    }\n",
       "\n",
       "    .dataframe thead th {\n",
       "        text-align: right;\n",
       "    }\n",
       "</style>\n",
       "<table border=\"1\" class=\"dataframe\">\n",
       "  <thead>\n",
       "    <tr style=\"text-align: right;\">\n",
       "      <th></th>\n",
       "      <th>type.name</th>\n",
       "      <th>location</th>\n",
       "      <th>end_location</th>\n",
       "      <th>possesion_chain</th>\n",
       "      <th>team.name</th>\n",
       "      <th>index</th>\n",
       "      <th>shot.statsbomb_xg</th>\n",
       "      <th>match_game</th>\n",
       "      <th>seconds</th>\n",
       "      <th>xGoal</th>\n",
       "      <th>x0</th>\n",
       "      <th>c0</th>\n",
       "      <th>x1</th>\n",
       "      <th>c1</th>\n",
       "      <th>y0</th>\n",
       "      <th>y1</th>\n",
       "      <th>end_shot</th>\n",
       "    </tr>\n",
       "  </thead>\n",
       "  <tbody>\n",
       "    <tr>\n",
       "      <th>127</th>\n",
       "      <td>Pass</td>\n",
       "      <td>[96.5, 43.5]</td>\n",
       "      <td>[92.4, 49.7]</td>\n",
       "      <td>10</td>\n",
       "      <td>Manchester City WFC</td>\n",
       "      <td>128</td>\n",
       "      <td>0.000000</td>\n",
       "      <td>ManCity_Tottenham</td>\n",
       "      <td>141</td>\n",
       "      <td>0.089495</td>\n",
       "      <td>96.5</td>\n",
       "      <td>16.5</td>\n",
       "      <td>92.4</td>\n",
       "      <td>10.3</td>\n",
       "      <td>43.5</td>\n",
       "      <td>49.7</td>\n",
       "      <td>1</td>\n",
       "    </tr>\n",
       "    <tr>\n",
       "      <th>129</th>\n",
       "      <td>Carry</td>\n",
       "      <td>[92.4, 49.7]</td>\n",
       "      <td>[92.4, 49.7]</td>\n",
       "      <td>10</td>\n",
       "      <td>Manchester City WFC</td>\n",
       "      <td>130</td>\n",
       "      <td>0.000000</td>\n",
       "      <td>ManCity_Tottenham</td>\n",
       "      <td>141</td>\n",
       "      <td>0.089495</td>\n",
       "      <td>92.4</td>\n",
       "      <td>10.3</td>\n",
       "      <td>92.4</td>\n",
       "      <td>10.3</td>\n",
       "      <td>49.7</td>\n",
       "      <td>49.7</td>\n",
       "      <td>1</td>\n",
       "    </tr>\n",
       "    <tr>\n",
       "      <th>130</th>\n",
       "      <td>Pass</td>\n",
       "      <td>[92.4, 49.7]</td>\n",
       "      <td>[85.1, 54.9]</td>\n",
       "      <td>10</td>\n",
       "      <td>Manchester City WFC</td>\n",
       "      <td>131</td>\n",
       "      <td>0.000000</td>\n",
       "      <td>ManCity_Tottenham</td>\n",
       "      <td>142</td>\n",
       "      <td>0.089495</td>\n",
       "      <td>92.4</td>\n",
       "      <td>10.3</td>\n",
       "      <td>85.1</td>\n",
       "      <td>5.1</td>\n",
       "      <td>49.7</td>\n",
       "      <td>54.9</td>\n",
       "      <td>1</td>\n",
       "    </tr>\n",
       "    <tr>\n",
       "      <th>132</th>\n",
       "      <td>Carry</td>\n",
       "      <td>[85.1, 54.9]</td>\n",
       "      <td>[85.1, 54.9]</td>\n",
       "      <td>10</td>\n",
       "      <td>Manchester City WFC</td>\n",
       "      <td>133</td>\n",
       "      <td>0.000000</td>\n",
       "      <td>ManCity_Tottenham</td>\n",
       "      <td>143</td>\n",
       "      <td>0.089495</td>\n",
       "      <td>85.1</td>\n",
       "      <td>5.1</td>\n",
       "      <td>85.1</td>\n",
       "      <td>5.1</td>\n",
       "      <td>54.9</td>\n",
       "      <td>54.9</td>\n",
       "      <td>1</td>\n",
       "    </tr>\n",
       "    <tr>\n",
       "      <th>133</th>\n",
       "      <td>Pass</td>\n",
       "      <td>[85.1, 54.9]</td>\n",
       "      <td>[78.7, 20.6]</td>\n",
       "      <td>10</td>\n",
       "      <td>Manchester City WFC</td>\n",
       "      <td>134</td>\n",
       "      <td>0.000000</td>\n",
       "      <td>ManCity_Tottenham</td>\n",
       "      <td>144</td>\n",
       "      <td>0.089495</td>\n",
       "      <td>85.1</td>\n",
       "      <td>5.1</td>\n",
       "      <td>78.7</td>\n",
       "      <td>39.4</td>\n",
       "      <td>54.9</td>\n",
       "      <td>20.6</td>\n",
       "      <td>1</td>\n",
       "    </tr>\n",
       "    <tr>\n",
       "      <th>135</th>\n",
       "      <td>Carry</td>\n",
       "      <td>[78.7, 20.6]</td>\n",
       "      <td>[78.7, 20.6]</td>\n",
       "      <td>10</td>\n",
       "      <td>Manchester City WFC</td>\n",
       "      <td>136</td>\n",
       "      <td>0.000000</td>\n",
       "      <td>ManCity_Tottenham</td>\n",
       "      <td>145</td>\n",
       "      <td>0.089495</td>\n",
       "      <td>78.7</td>\n",
       "      <td>39.4</td>\n",
       "      <td>78.7</td>\n",
       "      <td>39.4</td>\n",
       "      <td>20.6</td>\n",
       "      <td>20.6</td>\n",
       "      <td>1</td>\n",
       "    </tr>\n",
       "    <tr>\n",
       "      <th>136</th>\n",
       "      <td>Pass</td>\n",
       "      <td>[78.7, 20.6]</td>\n",
       "      <td>[93.9, 5.0]</td>\n",
       "      <td>10</td>\n",
       "      <td>Manchester City WFC</td>\n",
       "      <td>137</td>\n",
       "      <td>0.000000</td>\n",
       "      <td>ManCity_Tottenham</td>\n",
       "      <td>146</td>\n",
       "      <td>0.089495</td>\n",
       "      <td>78.7</td>\n",
       "      <td>39.4</td>\n",
       "      <td>93.9</td>\n",
       "      <td>55.0</td>\n",
       "      <td>20.6</td>\n",
       "      <td>5.0</td>\n",
       "      <td>1</td>\n",
       "    </tr>\n",
       "    <tr>\n",
       "      <th>138</th>\n",
       "      <td>Carry</td>\n",
       "      <td>[93.9, 5.0]</td>\n",
       "      <td>[115.1, 13.0]</td>\n",
       "      <td>10</td>\n",
       "      <td>Manchester City WFC</td>\n",
       "      <td>139</td>\n",
       "      <td>0.000000</td>\n",
       "      <td>ManCity_Tottenham</td>\n",
       "      <td>147</td>\n",
       "      <td>0.089495</td>\n",
       "      <td>93.9</td>\n",
       "      <td>55.0</td>\n",
       "      <td>115.1</td>\n",
       "      <td>47.0</td>\n",
       "      <td>5.0</td>\n",
       "      <td>13.0</td>\n",
       "      <td>1</td>\n",
       "    </tr>\n",
       "    <tr>\n",
       "      <th>139</th>\n",
       "      <td>Pass</td>\n",
       "      <td>[115.1, 13.0]</td>\n",
       "      <td>[112.5, 34.2]</td>\n",
       "      <td>10</td>\n",
       "      <td>Manchester City WFC</td>\n",
       "      <td>140</td>\n",
       "      <td>0.000000</td>\n",
       "      <td>ManCity_Tottenham</td>\n",
       "      <td>153</td>\n",
       "      <td>0.089495</td>\n",
       "      <td>115.1</td>\n",
       "      <td>47.0</td>\n",
       "      <td>112.5</td>\n",
       "      <td>25.8</td>\n",
       "      <td>13.0</td>\n",
       "      <td>34.2</td>\n",
       "      <td>1</td>\n",
       "    </tr>\n",
       "    <tr>\n",
       "      <th>141</th>\n",
       "      <td>Shot</td>\n",
       "      <td>[112.5, 34.2, 0.5]</td>\n",
       "      <td>[120.0, 29.5, 0.9]</td>\n",
       "      <td>10</td>\n",
       "      <td>Manchester City WFC</td>\n",
       "      <td>142</td>\n",
       "      <td>0.089495</td>\n",
       "      <td>ManCity_Tottenham</td>\n",
       "      <td>154</td>\n",
       "      <td>0.089495</td>\n",
       "      <td>112.5</td>\n",
       "      <td>25.8</td>\n",
       "      <td>120.0</td>\n",
       "      <td>0.0</td>\n",
       "      <td>34.2</td>\n",
       "      <td>40.0</td>\n",
       "      <td>1</td>\n",
       "    </tr>\n",
       "  </tbody>\n",
       "</table>\n",
       "</div>"
      ],
      "text/plain": [
       "    type.name            location        end_location  possesion_chain  \\\n",
       "127      Pass        [96.5, 43.5]        [92.4, 49.7]               10   \n",
       "129     Carry        [92.4, 49.7]        [92.4, 49.7]               10   \n",
       "130      Pass        [92.4, 49.7]        [85.1, 54.9]               10   \n",
       "132     Carry        [85.1, 54.9]        [85.1, 54.9]               10   \n",
       "133      Pass        [85.1, 54.9]        [78.7, 20.6]               10   \n",
       "135     Carry        [78.7, 20.6]        [78.7, 20.6]               10   \n",
       "136      Pass        [78.7, 20.6]         [93.9, 5.0]               10   \n",
       "138     Carry         [93.9, 5.0]       [115.1, 13.0]               10   \n",
       "139      Pass       [115.1, 13.0]       [112.5, 34.2]               10   \n",
       "141      Shot  [112.5, 34.2, 0.5]  [120.0, 29.5, 0.9]               10   \n",
       "\n",
       "               team.name  index  shot.statsbomb_xg         match_game  \\\n",
       "127  Manchester City WFC    128           0.000000  ManCity_Tottenham   \n",
       "129  Manchester City WFC    130           0.000000  ManCity_Tottenham   \n",
       "130  Manchester City WFC    131           0.000000  ManCity_Tottenham   \n",
       "132  Manchester City WFC    133           0.000000  ManCity_Tottenham   \n",
       "133  Manchester City WFC    134           0.000000  ManCity_Tottenham   \n",
       "135  Manchester City WFC    136           0.000000  ManCity_Tottenham   \n",
       "136  Manchester City WFC    137           0.000000  ManCity_Tottenham   \n",
       "138  Manchester City WFC    139           0.000000  ManCity_Tottenham   \n",
       "139  Manchester City WFC    140           0.000000  ManCity_Tottenham   \n",
       "141  Manchester City WFC    142           0.089495  ManCity_Tottenham   \n",
       "\n",
       "     seconds     xGoal     x0    c0     x1    c1    y0    y1  end_shot  \n",
       "127      141  0.089495   96.5  16.5   92.4  10.3  43.5  49.7         1  \n",
       "129      141  0.089495   92.4  10.3   92.4  10.3  49.7  49.7         1  \n",
       "130      142  0.089495   92.4  10.3   85.1   5.1  49.7  54.9         1  \n",
       "132      143  0.089495   85.1   5.1   85.1   5.1  54.9  54.9         1  \n",
       "133      144  0.089495   85.1   5.1   78.7  39.4  54.9  20.6         1  \n",
       "135      145  0.089495   78.7  39.4   78.7  39.4  20.6  20.6         1  \n",
       "136      146  0.089495   78.7  39.4   93.9  55.0  20.6   5.0         1  \n",
       "138      147  0.089495   93.9  55.0  115.1  47.0   5.0  13.0         1  \n",
       "139      153  0.089495  115.1  47.0  112.5  25.8  13.0  34.2         1  \n",
       "141      154  0.089495  112.5  25.8  120.0   0.0  34.2  40.0         1  "
      ]
     },
     "execution_count": 129,
     "metadata": {},
     "output_type": "execute_result"
    }
   ],
   "source": [
    "shot_patterns_df[match_games[0]][shot_patterns_df[match_games[0]]['possesion_chain']==10]"
   ]
  },
  {
   "cell_type": "code",
   "execution_count": 127,
   "id": "a2c6048d-2d0f-4366-986b-6f8a7f79493a",
   "metadata": {
    "tags": []
   },
   "outputs": [
    {
     "data": {
      "image/png": "[encoded data removed]",
      "text/plain": [
       "<Figure size 1240.19x900 with 3 Axes>"
      ]
     },
     "metadata": {},
     "output_type": "display_data"
    }
   ],
   "source": [
    "#plot possesion chain that ended with shot\n",
    "chain = shot_patterns_df[example_match].loc[shot_patterns_df[example_match][\"possesion_chain\"] == 10]\n",
    "#get passes\n",
    "passes = chain.loc[chain[\"type.name\"].isin([\"Pass\"])]\n",
    "#get events different than pass\n",
    "not_pass = chain.loc[chain[\"type.name\"] != \"Pass\"].iloc[:-1]\n",
    "#shot is the last event of the chain (or should be)\n",
    "shot = chain.iloc[-1]\n",
    "#plot\n",
    "pitch = Pitch(line_color='black',pitch_type='custom', pitch_length=120, pitch_width=80, line_zorder = 2)\n",
    "fig, ax = pitch.grid(grid_height=0.9, title_height=0.06, axis=False,\n",
    "                     endnote_height=0.04, title_space=0, endnote_space=0)\n",
    "#passes\n",
    "pitch.arrows(passes.x0, passes.y0,\n",
    "            passes.x1, passes.y1, color = \"blue\", ax=ax['pitch'], zorder =  3)\n",
    "#shot\n",
    "pitch.arrows(shot.x0, shot.y0,\n",
    "            shot.x1, shot.y1, color = \"red\", ax=ax['pitch'], zorder =  3)\n",
    "#other passes like arrows\n",
    "pitch.lines(not_pass.x0, not_pass.y0, not_pass.x1, not_pass.y1, color = \"grey\", lw = 1.5, ls = 'dotted', ax=ax['pitch'])\n",
    "ax['title'].text(0.5, 0.5, 'Passes leading to a shot', ha='center', va='center', fontsize=30)\n",
    "plt.show()"
   ]
  },
  {
   "cell_type": "markdown",
   "id": "7e84efba-8074-4fb3-b1fc-5cf78f5ae12a",
   "metadata": {},
   "source": [
    "## Possesion chain that did not end with a shot"
   ]
  },
  {
   "cell_type": "code",
   "execution_count": 32,
   "id": "d7153a70-f9fa-461f-b33f-f2b22b7d6bc2",
   "metadata": {
    "tags": []
   },
   "outputs": [],
   "source": [
    "not_pass_index = {match_game:np.setdiff1d(df_isolated_chains[match_game]['possesion_chain'].unique(),chains_index[match_game]) for match_game in match_games}\n"
   ]
  },
  {
   "cell_type": "code",
   "execution_count": 33,
   "id": "19130db1-eae4-40b2-b09a-d26e71265c17",
   "metadata": {
    "tags": []
   },
   "outputs": [],
   "source": [
    "not_pass_patterns_df = \\\n",
    "{\n",
    "    match_game:\n",
    "    df_isolated_chains[match_game][df_isolated_chains[match_game]['possesion_chain'].isin(not_pass_index[match_game])][\n",
    "        ['type.name','location','end_location','possesion_chain','team.name','index','match_game']\n",
    "    ]\n",
    "    for match_game in match_games\n",
    "}"
   ]
  },
  {
   "cell_type": "code",
   "execution_count": 34,
   "id": "59f9ff7a-af56-43dc-932d-844b83cc80d6",
   "metadata": {
    "tags": []
   },
   "outputs": [],
   "source": [
    "def prepare_coordinates_not_pass(not_pass_patterns_df):\n",
    "    #columns with coordinates\n",
    "    not_pass_patterns_df = not_pass_patterns_df[~not_pass_patterns_df['end_location'].isna()]\n",
    "    not_pass_patterns_df[\"x0\"] = not_pass_patterns_df.location.apply(lambda cell: (cell[0]))\n",
    "    not_pass_patterns_df[\"c0\"] = not_pass_patterns_df.location.apply(lambda cell: abs(60 - cell[1]))\n",
    "    not_pass_patterns_df[\"x1\"] = not_pass_patterns_df.end_location.apply(lambda cell: (cell[0]))\n",
    "    not_pass_patterns_df[\"c1\"] = not_pass_patterns_df.end_location.apply(lambda cell: abs(60 - cell[1]))\n",
    "\n",
    "    not_pass_patterns_df[\"y0\"] = not_pass_patterns_df.location.apply(lambda cell: (cell[1]))\n",
    "    not_pass_patterns_df[\"y1\"] = not_pass_patterns_df.end_location.apply(lambda cell: (cell[1]))\n",
    "    not_pass_patterns_df['end_shot'] = 0 \n",
    "    return not_pass_patterns_df"
   ]
  },
  {
   "cell_type": "code",
   "execution_count": 35,
   "id": "71ec47c8-a438-4fc5-bebf-1a979a7e9d8d",
   "metadata": {
    "tags": []
   },
   "outputs": [],
   "source": [
    "not_pass_patterns_df = \\\n",
    "{\n",
    "    match_game:\n",
    "    prepare_coordinates_not_pass(not_pass_patterns_df[match_game]) \n",
    "    for match_game in not_pass_patterns_df.keys()\n",
    "}"
   ]
  },
  {
   "cell_type": "code",
   "execution_count": 36,
   "id": "f1c78aa9-acb8-4c08-a9ff-f8df1d73141f",
   "metadata": {
    "tags": []
   },
   "outputs": [
    {
     "data": {
      "image/png": "[encoded data removed]",
      "text/plain": [
       "<Figure size 1240.19x900 with 3 Axes>"
      ]
     },
     "metadata": {},
     "output_type": "display_data"
    }
   ],
   "source": [
    "#plot possesion chain that ended with shot\n",
    "chain = not_pass_patterns_df[example_match].loc[not_pass_patterns_df[example_match][\"possesion_chain\"] == not_pass_index[example_match][18]]\n",
    "passes = chain.loc[chain[\"type.name\"].isin([\"Pass\", \"Foul Committed\"])].iloc[:-1]\n",
    "not_pass = chain.loc[(chain[\"type.name\"] != \"Pass\") & (chain[\"type.name\"] != \"Foul Committed\")].iloc[:-1]\n",
    "bad_pass = chain.iloc[-1]\n",
    "#we could have used better\n",
    "pitch = Pitch(line_color='black',pitch_type='custom', pitch_length=120, pitch_width=80, line_zorder = 2)\n",
    "fig, ax = pitch.grid(grid_height=0.9, title_height=0.06, axis=False,\n",
    "                     endnote_height=0.04, title_space=0, endnote_space=0)\n",
    "pitch.arrows(passes.x0, passes.y0,\n",
    "            passes.x1, passes.y1, color = \"blue\", ax=ax['pitch'], zorder =  3)\n",
    "pitch.arrows(bad_pass.x0, bad_pass.y0,\n",
    "            bad_pass.x1, bad_pass.y1, color = \"purple\", ax=ax['pitch'], zorder =  3)\n",
    "pitch.scatter(bad_pass.x1, bad_pass.y1, marker = 'x', color = \"red\", ax=ax['pitch'], zorder =  3, s= 200)\n",
    "pitch.lines(not_pass.x0, not_pass.y0, not_pass.x1, not_pass.y1, color = \"grey\", lw = 1.5, ls = 'dotted', ax=ax['pitch'])\n",
    "ax['title'].text(0.5, 0.5, 'Passes not ending in a shot', ha='center', va='center', fontsize=30)\n",
    "plt.show()\n"
   ]
  },
  {
   "cell_type": "markdown",
   "id": "2cb00d2a-fa15-4d6c-b56f-299e0d9d3617",
   "metadata": {
    "tags": []
   },
   "source": [
    "## Preparing variables for models"
   ]
  },
  {
   "cell_type": "code",
   "execution_count": 37,
   "id": "9f78df1e-0fc2-4732-8a50-7123a6f5362f",
   "metadata": {
    "tags": []
   },
   "outputs": [],
   "source": [
    "df_poss_chain = pd.concat([df_isolated_chains[match_game] for match_game in match_games])"
   ]
  },
  {
   "cell_type": "code",
   "execution_count": 38,
   "id": "01795a6c-7d16-4c52-8771-2875b28f081a",
   "metadata": {
    "tags": []
   },
   "outputs": [
    {
     "data": {
      "text/plain": [
       "(11083, 150)"
      ]
     },
     "execution_count": 38,
     "metadata": {},
     "output_type": "execute_result"
    }
   ],
   "source": [
    "df_poss_chain.shape"
   ]
  },
  {
   "cell_type": "code",
   "execution_count": 39,
   "id": "85d54f29-d066-4740-bbd6-009b02169fc2",
   "metadata": {
    "tags": []
   },
   "outputs": [],
   "source": [
    "df_poss_chain_shot = prepare_coordinates(df_poss_chain[df_poss_chain['shot_end']==1])\n",
    "\n",
    "df_poss_chain_not_shot = prepare_coordinates_not_pass(df_poss_chain[df_poss_chain['shot_end']==0])\n",
    "\n",
    "df_coordinates = pd.concat([df_poss_chain_shot,df_poss_chain_not_shot])"
   ]
  },
  {
   "cell_type": "code",
   "execution_count": 40,
   "id": "3774e06a-cbb2-4c76-aca7-733f1c3d03fa",
   "metadata": {
    "tags": []
   },
   "outputs": [
    {
     "data": {
      "text/plain": [
       "(6771, 157)"
      ]
     },
     "execution_count": 40,
     "metadata": {},
     "output_type": "execute_result"
    }
   ],
   "source": [
    "df_coordinates.shape"
   ]
  },
  {
   "cell_type": "code",
   "execution_count": 41,
   "id": "ccca2a59-c5c7-43b4-a546-65b3588f20b8",
   "metadata": {
    "tags": []
   },
   "outputs": [
    {
     "data": {
      "text/html": [
       "<div>\n",
       "<style scoped>\n",
       "    .dataframe tbody tr th:only-of-type {\n",
       "        vertical-align: middle;\n",
       "    }\n",
       "\n",
       "    .dataframe tbody tr th {\n",
       "        vertical-align: top;\n",
       "    }\n",
       "\n",
       "    .dataframe thead th {\n",
       "        text-align: right;\n",
       "    }\n",
       "</style>\n",
       "<table border=\"1\" class=\"dataframe\">\n",
       "  <thead>\n",
       "    <tr style=\"text-align: right;\">\n",
       "      <th></th>\n",
       "      <th>c0c0c1</th>\n",
       "      <th>c0c1c1</th>\n",
       "      <th>c1c1c1</th>\n",
       "    </tr>\n",
       "  </thead>\n",
       "  <tbody>\n",
       "    <tr>\n",
       "      <th>16</th>\n",
       "      <td>46677.573</td>\n",
       "      <td>65872.089</td>\n",
       "      <td>92959.677</td>\n",
       "    </tr>\n",
       "    <tr>\n",
       "      <th>17</th>\n",
       "      <td>114917.040</td>\n",
       "      <td>142060.800</td>\n",
       "      <td>175616.000</td>\n",
       "    </tr>\n",
       "    <tr>\n",
       "      <th>19</th>\n",
       "      <td>169030.400</td>\n",
       "      <td>162691.760</td>\n",
       "      <td>156590.819</td>\n",
       "    </tr>\n",
       "  </tbody>\n",
       "</table>\n",
       "</div>"
      ],
      "text/plain": [
       "        c0c0c1      c0c1c1      c1c1c1\n",
       "16   46677.573   65872.089   92959.677\n",
       "17  114917.040  142060.800  175616.000\n",
       "19  169030.400  162691.760  156590.819"
      ]
     },
     "execution_count": 41,
     "metadata": {},
     "output_type": "execute_result"
    }
   ],
   "source": [
    "#model variables\n",
    "var = [\"x0\", \"x1\", \"c0\", \"c1\"]\n",
    "\n",
    "#combinations\n",
    "inputs = []\n",
    "#one variable combinations\n",
    "inputs.extend(combinations_with_replacement(var, 1))\n",
    "#2 variable combinations\n",
    "inputs.extend(combinations_with_replacement(var, 2))\n",
    "#3 variable combinations\n",
    "inputs.extend(combinations_with_replacement(var, 3))\n",
    "\n",
    "#make new columns\n",
    "for i in inputs:\n",
    "    #columns length 1 already exist\n",
    "    if len(i) > 1:\n",
    "        #column name\n",
    "        column = ''\n",
    "        x = 1\n",
    "        for c in i:\n",
    "            #add column name to be x0x1c0 for example\n",
    "            column += c\n",
    "            #multiply values in column\n",
    "            x = x*df_coordinates[c]\n",
    "        #create a new column in df\n",
    "        df_coordinates[column] = x\n",
    "        #add column to model variables\n",
    "        var.append(column)\n",
    "#investigate 3 columns\n",
    "df_coordinates[var[-3:]].head(3)"
   ]
  },
  {
   "cell_type": "markdown",
   "id": "f7ab35bb-07bd-4539-8cbc-4331503cf81c",
   "metadata": {},
   "source": [
    "## Calculating action-based Expected Threat values for passes\n",
    "- XGB Classifier\n",
    "- Using it we predict probability of a chain ending with a shot.\n",
    "- Then, on chains that ended with a shot, we fit a linear regression to calculate the probability that a shot ended with a goal.\n",
    "- Product of these 2 values is our action-based Expected Threat statistic"
   ]
  },
  {
   "cell_type": "code",
   "execution_count": 42,
   "id": "3fa78af4-160b-4671-a885-257563b81629",
   "metadata": {
    "tags": []
   },
   "outputs": [],
   "source": [
    "### TRAINING, it's not perfect ML procedure, but results in AUC 0.2 higher than Logistic Regression ###\n",
    "passes = df_coordinates.loc[ df_coordinates[\"type.name\"].isin([\"Pass\"])]\n",
    "X = passes[var].values\n",
    "y = passes[\"end_shot\"].values"
   ]
  },
  {
   "cell_type": "code",
   "execution_count": 43,
   "id": "c029ea6b-8bd3-4dfd-9895-6a71ec5d7a92",
   "metadata": {
    "tags": []
   },
   "outputs": [
    {
     "data": {
      "text/plain": [
       "Counter({1: 359, 0: 3287})"
      ]
     },
     "execution_count": 43,
     "metadata": {},
     "output_type": "execute_result"
    }
   ],
   "source": [
    "from collections import Counter\n",
    "Counter(y)"
   ]
  },
  {
   "cell_type": "code",
   "execution_count": 44,
   "id": "ac3a6519-dab0-4156-b76c-755a1019b137",
   "metadata": {
    "tags": []
   },
   "outputs": [
    {
     "data": {
      "text/html": [
       "<style>#sk-container-id-1 {color: black;background-color: white;}#sk-container-id-1 pre{padding: 0;}#sk-container-id-1 div.sk-toggleable {background-color: white;}#sk-container-id-1 label.sk-toggleable__label {cursor: pointer;display: block;width: 100%;margin-bottom: 0;padding: 0.3em;box-sizing: border-box;text-align: center;}#sk-container-id-1 label.sk-toggleable__label-arrow:before {content: \"▸\";float: left;margin-right: 0.25em;color: #696969;}#sk-container-id-1 label.sk-toggleable__label-arrow:hover:before {color: black;}#sk-container-id-1 div.sk-estimator:hover label.sk-toggleable__label-arrow:before {color: black;}#sk-container-id-1 div.sk-toggleable__content {max-height: 0;max-width: 0;overflow: hidden;text-align: left;background-color: #f0f8ff;}#sk-container-id-1 div.sk-toggleable__content pre {margin: 0.2em;color: black;border-radius: 0.25em;background-color: #f0f8ff;}#sk-container-id-1 input.sk-toggleable__control:checked~div.sk-toggleable__content {max-height: 200px;max-width: 100%;overflow: auto;}#sk-container-id-1 input.sk-toggleable__control:checked~label.sk-toggleable__label-arrow:before {content: \"▾\";}#sk-container-id-1 div.sk-estimator input.sk-toggleable__control:checked~label.sk-toggleable__label {background-color: #d4ebff;}#sk-container-id-1 div.sk-label input.sk-toggleable__control:checked~label.sk-toggleable__label {background-color: #d4ebff;}#sk-container-id-1 input.sk-hidden--visually {border: 0;clip: rect(1px 1px 1px 1px);clip: rect(1px, 1px, 1px, 1px);height: 1px;margin: -1px;overflow: hidden;padding: 0;position: absolute;width: 1px;}#sk-container-id-1 div.sk-estimator {font-family: monospace;background-color: #f0f8ff;border: 1px dotted black;border-radius: 0.25em;box-sizing: border-box;margin-bottom: 0.5em;}#sk-container-id-1 div.sk-estimator:hover {background-color: #d4ebff;}#sk-container-id-1 div.sk-parallel-item::after {content: \"\";width: 100%;border-bottom: 1px solid gray;flex-grow: 1;}#sk-container-id-1 div.sk-label:hover label.sk-toggleable__label {background-color: #d4ebff;}#sk-container-id-1 div.sk-serial::before {content: \"\";position: absolute;border-left: 1px solid gray;box-sizing: border-box;top: 0;bottom: 0;left: 50%;z-index: 0;}#sk-container-id-1 div.sk-serial {display: flex;flex-direction: column;align-items: center;background-color: white;padding-right: 0.2em;padding-left: 0.2em;position: relative;}#sk-container-id-1 div.sk-item {position: relative;z-index: 1;}#sk-container-id-1 div.sk-parallel {display: flex;align-items: stretch;justify-content: center;background-color: white;position: relative;}#sk-container-id-1 div.sk-item::before, #sk-container-id-1 div.sk-parallel-item::before {content: \"\";position: absolute;border-left: 1px solid gray;box-sizing: border-box;top: 0;bottom: 0;left: 50%;z-index: -1;}#sk-container-id-1 div.sk-parallel-item {display: flex;flex-direction: column;z-index: 1;position: relative;background-color: white;}#sk-container-id-1 div.sk-parallel-item:first-child::after {align-self: flex-end;width: 50%;}#sk-container-id-1 div.sk-parallel-item:last-child::after {align-self: flex-start;width: 50%;}#sk-container-id-1 div.sk-parallel-item:only-child::after {width: 0;}#sk-container-id-1 div.sk-dashed-wrapped {border: 1px dashed gray;margin: 0 0.4em 0.5em 0.4em;box-sizing: border-box;padding-bottom: 0.4em;background-color: white;}#sk-container-id-1 div.sk-label label {font-family: monospace;font-weight: bold;display: inline-block;line-height: 1.2em;}#sk-container-id-1 div.sk-label-container {text-align: center;}#sk-container-id-1 div.sk-container {/* jupyter's `normalize.less` sets `[hidden] { display: none; }` but bootstrap.min.css set `[hidden] { display: none !important; }` so we also need the `!important` here to be able to override the default hidden behavior on the sphinx rendered scikit-learn.org. See: https://github.com/scikit-learn/scikit-learn/issues/21755 */display: inline-block !important;position: relative;}#sk-container-id-1 div.sk-text-repr-fallback {display: none;}</style><div id=\"sk-container-id-1\" class=\"sk-top-container\"><div class=\"sk-text-repr-fallback\"><pre>XGBClassifier(base_score=None, booster=None, callbacks=None, ccp_alpha=0,\n",
       "              colsample_bylevel=None, colsample_bynode=None,\n",
       "              colsample_bytree=None, early_stopping_rounds=None,\n",
       "              enable_categorical=False, eval_metric=None, feature_types=None,\n",
       "              gamma=None, gpu_id=None, grow_policy=None, importance_type=None,\n",
       "              interaction_constraints=None, learning_rate=None, max_bin=None,\n",
       "              max_cat_threshold=None, max_cat_to_onehot=None,\n",
       "              max_delta_step=None, max_depth=4, max_leaves=None,\n",
       "              min_child_weight=None, min_samples_leaf=10, missing=nan,\n",
       "              monotone_constraints=None, n_estimators=100, n_jobs=None,\n",
       "              num_parallel_tree=None, ...)</pre><b>In a Jupyter environment, please rerun this cell to show the HTML representation or trust the notebook. <br />On GitHub, the HTML representation is unable to render, please try loading this page with nbviewer.org.</b></div><div class=\"sk-container\" hidden><div class=\"sk-item\"><div class=\"sk-estimator sk-toggleable\"><input class=\"sk-toggleable__control sk-hidden--visually\" id=\"sk-estimator-id-1\" type=\"checkbox\" checked><label for=\"sk-estimator-id-1\" class=\"sk-toggleable__label sk-toggleable__label-arrow\">XGBClassifier</label><div class=\"sk-toggleable__content\"><pre>XGBClassifier(base_score=None, booster=None, callbacks=None, ccp_alpha=0,\n",
       "              colsample_bylevel=None, colsample_bynode=None,\n",
       "              colsample_bytree=None, early_stopping_rounds=None,\n",
       "              enable_categorical=False, eval_metric=None, feature_types=None,\n",
       "              gamma=None, gpu_id=None, grow_policy=None, importance_type=None,\n",
       "              interaction_constraints=None, learning_rate=None, max_bin=None,\n",
       "              max_cat_threshold=None, max_cat_to_onehot=None,\n",
       "              max_delta_step=None, max_depth=4, max_leaves=None,\n",
       "              min_child_weight=None, min_samples_leaf=10, missing=nan,\n",
       "              monotone_constraints=None, n_estimators=100, n_jobs=None,\n",
       "              num_parallel_tree=None, ...)</pre></div></div></div></div></div>"
      ],
      "text/plain": [
       "XGBClassifier(base_score=None, booster=None, callbacks=None, ccp_alpha=0,\n",
       "              colsample_bylevel=None, colsample_bynode=None,\n",
       "              colsample_bytree=None, early_stopping_rounds=None,\n",
       "              enable_categorical=False, eval_metric=None, feature_types=None,\n",
       "              gamma=None, gpu_id=None, grow_policy=None, importance_type=None,\n",
       "              interaction_constraints=None, learning_rate=None, max_bin=None,\n",
       "              max_cat_threshold=None, max_cat_to_onehot=None,\n",
       "              max_delta_step=None, max_depth=4, max_leaves=None,\n",
       "              min_child_weight=None, min_samples_leaf=10, missing=nan,\n",
       "              monotone_constraints=None, n_estimators=100, n_jobs=None,\n",
       "              num_parallel_tree=None, ...)"
      ]
     },
     "execution_count": 44,
     "metadata": {},
     "output_type": "execute_result"
    }
   ],
   "source": [
    "X_train, X_test, y_train, y_test = train_test_split(X, y, test_size = 0.1, random_state = 123, stratify = y)\n",
    "xgb = XGBClassifier(n_estimators = 100, ccp_alpha=0, max_depth=4, min_samples_leaf=10,\n",
    "                      random_state=123)\n",
    "\n",
    "# Set the scale_pos_weight parameter to handle class imbalance\n",
    "scale_pos_weight = sum(y_train == 0) / sum(y_train == 1)\n",
    "xgb.set_params(scale_pos_weight=scale_pos_weight)"
   ]
  },
  {
   "cell_type": "code",
   "execution_count": 45,
   "id": "442ad63e-2943-44ea-b3ce-7cf416e1b8f9",
   "metadata": {
    "tags": []
   },
   "outputs": [],
   "source": [
    "# X_train, X_test, y_train, y_test = train_test_split(X, y, test_size = 0.1, random_state = 123, stratify = y)\n",
    "# xgb = XGBRegressor(n_estimators = 100, ccp_alpha=0, max_depth=4, min_samples_leaf=10,\n",
    "#                       random_state=123)"
   ]
  },
  {
   "cell_type": "code",
   "execution_count": 46,
   "id": "21449b75-4397-480e-a1e1-9d08ae020f93",
   "metadata": {
    "tags": []
   },
   "outputs": [
    {
     "name": "stdout",
     "output_type": "stream",
     "text": [
      "0.8466834087033879 0.019488787954199525\n",
      "[22:55:49] WARNING: /Users/runner/work/xgboost/xgboost/python-package/build/temp.macosx-11.0-arm64-cpython-38/xgboost/src/learner.cc:767: \n",
      "Parameters: { \"ccp_alpha\", \"min_samples_leaf\" } are not used.\n",
      "\n",
      "0.9740932642487047\n",
      "0.8164383561643835\n"
     ]
    }
   ],
   "source": [
    "from sklearn.model_selection import cross_val_score\n",
    "scores = cross_val_score(estimator = xgb, X = X_train, y = y_train, cv = 10, n_jobs = -1)\n",
    "print(np.mean(scores), np.std(scores))\n",
    "xgb.fit(X_train, y_train)\n",
    "print(xgb.score(X_train, y_train))\n",
    "y_pred = xgb.predict(X_test)\n",
    "print(xgb.score(X_test, y_test))"
   ]
  },
  {
   "cell_type": "code",
   "execution_count": 47,
   "id": "c307afad-d0b7-4826-bd7f-0882c9a62b7d",
   "metadata": {
    "tags": []
   },
   "outputs": [],
   "source": [
    "y_pr = xgb.predict(X_test)"
   ]
  },
  {
   "cell_type": "code",
   "execution_count": 48,
   "id": "e52b058d-add0-4e2f-99cc-520514a33db7",
   "metadata": {
    "tags": []
   },
   "outputs": [
    {
     "name": "stdout",
     "output_type": "stream",
     "text": [
      "              precision    recall  f1-score   support\n",
      "\n",
      "           0       0.92      0.87      0.90       329\n",
      "           1       0.21      0.31      0.25        36\n",
      "\n",
      "    accuracy                           0.82       365\n",
      "   macro avg       0.56      0.59      0.57       365\n",
      "weighted avg       0.85      0.82      0.83       365\n",
      "\n",
      "\n",
      "\n",
      "[[287  42]\n",
      " [ 25  11]]\n"
     ]
    }
   ],
   "source": [
    "from sklearn.metrics import classification_report,confusion_matrix\n",
    "print(classification_report(y_pred=y_pr,y_true=y_test))\n",
    "print('\\n')\n",
    "print(confusion_matrix(y_pred=y_pr,y_true=y_test))"
   ]
  },
  {
   "cell_type": "code",
   "execution_count": 135,
   "id": "c6673ca7-3cc3-4b1a-9f98-bd8d4a140256",
   "metadata": {
    "tags": []
   },
   "outputs": [],
   "source": [
    "#predict if ended with shot\n",
    "passes = df_coordinates.loc[df_coordinates[\"type.name\"].isin([\"Pass\"])]\n",
    "X = passes[var].values\n",
    "y = passes[\"shot_end\"].values\n",
    "model = xgb\n",
    "#predict probability of shot ended\n",
    "y_pred_proba = model.predict_proba(X)[::,1]"
   ]
  },
  {
   "cell_type": "code",
   "execution_count": 136,
   "id": "691c161a-776b-4c9e-bc40-7d44bf50c754",
   "metadata": {
    "tags": []
   },
   "outputs": [],
   "source": [
    "passes[\"shot_prob\"] = y_pred_proba\n",
    "#OLS\n",
    "shot_ended = passes.loc[passes[\"end_shot\"] == 1]\n",
    "X2 = shot_ended[var].values\n",
    "y2 = shot_ended[\"xG\"].values\n",
    "lr = LinearRegression()\n",
    "lr.fit(X2, y2)\n",
    "y_pred = lr.predict(X)\n",
    "passes[\"xG_pred\"] = y_pred\n",
    "#calculate xGchain\n",
    "passes[\"xT\"] = passes[\"xG_pred\"]*passes[\"shot_prob\"]"
   ]
  },
  {
   "cell_type": "markdown",
   "id": "021d905a-3ab2-4021-a7d4-db4f3cc374e1",
   "metadata": {},
   "source": [
    "## Making a plot of pass values"
   ]
  },
  {
   "cell_type": "code",
   "execution_count": null,
   "id": "9c4ecdaa-61cc-44a3-9afe-b5c75182da38",
   "metadata": {},
   "outputs": [],
   "source": []
  },
  {
   "cell_type": "code",
   "execution_count": 149,
   "id": "00b5c157-e903-45ca-87e4-a639de3ab36d",
   "metadata": {
    "tags": []
   },
   "outputs": [
    {
     "data": {
      "text/html": [
       "<div>\n",
       "<style scoped>\n",
       "    .dataframe tbody tr th:only-of-type {\n",
       "        vertical-align: middle;\n",
       "    }\n",
       "\n",
       "    .dataframe tbody tr th {\n",
       "        vertical-align: top;\n",
       "    }\n",
       "\n",
       "    .dataframe thead th {\n",
       "        text-align: right;\n",
       "    }\n",
       "</style>\n",
       "<table border=\"1\" class=\"dataframe\">\n",
       "  <thead>\n",
       "    <tr style=\"text-align: right;\">\n",
       "      <th></th>\n",
       "      <th>possesion_chain</th>\n",
       "      <th>xT</th>\n",
       "      <th>match_game</th>\n",
       "    </tr>\n",
       "  </thead>\n",
       "  <tbody>\n",
       "    <tr>\n",
       "      <th>14410</th>\n",
       "      <td>16</td>\n",
       "      <td>0.241608</td>\n",
       "      <td>ManCity_Arsenal</td>\n",
       "    </tr>\n",
       "    <tr>\n",
       "      <th>8335</th>\n",
       "      <td>90</td>\n",
       "      <td>0.236655</td>\n",
       "      <td>ManCity_Liverpool</td>\n",
       "    </tr>\n",
       "    <tr>\n",
       "      <th>11026</th>\n",
       "      <td>55</td>\n",
       "      <td>0.204543</td>\n",
       "      <td>ManCity_Brighton</td>\n",
       "    </tr>\n",
       "    <tr>\n",
       "      <th>12359</th>\n",
       "      <td>138</td>\n",
       "      <td>0.186126</td>\n",
       "      <td>ManCity_Brighton</td>\n",
       "    </tr>\n",
       "    <tr>\n",
       "      <th>5883</th>\n",
       "      <td>172</td>\n",
       "      <td>0.173898</td>\n",
       "      <td>ManCity_AstonVilla</td>\n",
       "    </tr>\n",
       "    <tr>\n",
       "      <th>20535</th>\n",
       "      <td>178</td>\n",
       "      <td>0.173517</td>\n",
       "      <td>ManCity_LeicesterCity</td>\n",
       "    </tr>\n",
       "    <tr>\n",
       "      <th>20676</th>\n",
       "      <td>190</td>\n",
       "      <td>0.164204</td>\n",
       "      <td>ManCity_LeicesterCity</td>\n",
       "    </tr>\n",
       "    <tr>\n",
       "      <th>567</th>\n",
       "      <td>47</td>\n",
       "      <td>0.163481</td>\n",
       "      <td>ManCity_Tottenham</td>\n",
       "    </tr>\n",
       "    <tr>\n",
       "      <th>9451</th>\n",
       "      <td>182</td>\n",
       "      <td>0.163094</td>\n",
       "      <td>ManCity_Liverpool</td>\n",
       "    </tr>\n",
       "    <tr>\n",
       "      <th>9111</th>\n",
       "      <td>156</td>\n",
       "      <td>0.137931</td>\n",
       "      <td>ManCity_Liverpool</td>\n",
       "    </tr>\n",
       "    <tr>\n",
       "      <th>5757</th>\n",
       "      <td>164</td>\n",
       "      <td>0.134121</td>\n",
       "      <td>ManCity_AstonVilla</td>\n",
       "    </tr>\n",
       "    <tr>\n",
       "      <th>19269</th>\n",
       "      <td>88</td>\n",
       "      <td>0.133968</td>\n",
       "      <td>ManCity_LeicesterCity</td>\n",
       "    </tr>\n",
       "    <tr>\n",
       "      <th>8435</th>\n",
       "      <td>100</td>\n",
       "      <td>0.121713</td>\n",
       "      <td>ManCity_Liverpool</td>\n",
       "    </tr>\n",
       "    <tr>\n",
       "      <th>18090</th>\n",
       "      <td>11</td>\n",
       "      <td>0.120880</td>\n",
       "      <td>ManCity_LeicesterCity</td>\n",
       "    </tr>\n",
       "    <tr>\n",
       "      <th>12256</th>\n",
       "      <td>128</td>\n",
       "      <td>0.119349</td>\n",
       "      <td>ManCity_Brighton</td>\n",
       "    </tr>\n",
       "    <tr>\n",
       "      <th>3571</th>\n",
       "      <td>305</td>\n",
       "      <td>0.114989</td>\n",
       "      <td>ManCity_Tottenham</td>\n",
       "    </tr>\n",
       "    <tr>\n",
       "      <th>513</th>\n",
       "      <td>45</td>\n",
       "      <td>0.109377</td>\n",
       "      <td>ManCity_Tottenham</td>\n",
       "    </tr>\n",
       "    <tr>\n",
       "      <th>12700</th>\n",
       "      <td>168</td>\n",
       "      <td>0.100133</td>\n",
       "      <td>ManCity_Brighton</td>\n",
       "    </tr>\n",
       "    <tr>\n",
       "      <th>5780</th>\n",
       "      <td>166</td>\n",
       "      <td>0.099350</td>\n",
       "      <td>ManCity_AstonVilla</td>\n",
       "    </tr>\n",
       "    <tr>\n",
       "      <th>17019</th>\n",
       "      <td>245</td>\n",
       "      <td>0.096886</td>\n",
       "      <td>ManCity_Arsenal</td>\n",
       "    </tr>\n",
       "    <tr>\n",
       "      <th>787</th>\n",
       "      <td>57</td>\n",
       "      <td>0.076298</td>\n",
       "      <td>ManCity_Tottenham</td>\n",
       "    </tr>\n",
       "    <tr>\n",
       "      <th>18081</th>\n",
       "      <td>11</td>\n",
       "      <td>0.075098</td>\n",
       "      <td>ManCity_LeicesterCity</td>\n",
       "    </tr>\n",
       "    <tr>\n",
       "      <th>1491</th>\n",
       "      <td>117</td>\n",
       "      <td>0.069585</td>\n",
       "      <td>ManCity_Tottenham</td>\n",
       "    </tr>\n",
       "    <tr>\n",
       "      <th>794</th>\n",
       "      <td>57</td>\n",
       "      <td>0.054241</td>\n",
       "      <td>ManCity_Tottenham</td>\n",
       "    </tr>\n",
       "    <tr>\n",
       "      <th>7405</th>\n",
       "      <td>18</td>\n",
       "      <td>0.053187</td>\n",
       "      <td>ManCity_Liverpool</td>\n",
       "    </tr>\n",
       "    <tr>\n",
       "      <th>7400</th>\n",
       "      <td>17</td>\n",
       "      <td>0.052321</td>\n",
       "      <td>ManCity_Liverpool</td>\n",
       "    </tr>\n",
       "    <tr>\n",
       "      <th>16955</th>\n",
       "      <td>238</td>\n",
       "      <td>0.049853</td>\n",
       "      <td>ManCity_Arsenal</td>\n",
       "    </tr>\n",
       "    <tr>\n",
       "      <th>130</th>\n",
       "      <td>10</td>\n",
       "      <td>0.048795</td>\n",
       "      <td>ManCity_Tottenham</td>\n",
       "    </tr>\n",
       "    <tr>\n",
       "      <th>11489</th>\n",
       "      <td>84</td>\n",
       "      <td>0.048332</td>\n",
       "      <td>ManCity_Brighton</td>\n",
       "    </tr>\n",
       "    <tr>\n",
       "      <th>20464</th>\n",
       "      <td>172</td>\n",
       "      <td>0.030501</td>\n",
       "      <td>ManCity_LeicesterCity</td>\n",
       "    </tr>\n",
       "    <tr>\n",
       "      <th>3565</th>\n",
       "      <td>305</td>\n",
       "      <td>0.011169</td>\n",
       "      <td>ManCity_Tottenham</td>\n",
       "    </tr>\n",
       "  </tbody>\n",
       "</table>\n",
       "</div>"
      ],
      "text/plain": [
       "       possesion_chain        xT             match_game\n",
       "14410               16  0.241608        ManCity_Arsenal\n",
       "8335                90  0.236655      ManCity_Liverpool\n",
       "11026               55  0.204543       ManCity_Brighton\n",
       "12359              138  0.186126       ManCity_Brighton\n",
       "5883               172  0.173898     ManCity_AstonVilla\n",
       "20535              178  0.173517  ManCity_LeicesterCity\n",
       "20676              190  0.164204  ManCity_LeicesterCity\n",
       "567                 47  0.163481      ManCity_Tottenham\n",
       "9451               182  0.163094      ManCity_Liverpool\n",
       "9111               156  0.137931      ManCity_Liverpool\n",
       "5757               164  0.134121     ManCity_AstonVilla\n",
       "19269               88  0.133968  ManCity_LeicesterCity\n",
       "8435               100  0.121713      ManCity_Liverpool\n",
       "18090               11  0.120880  ManCity_LeicesterCity\n",
       "12256              128  0.119349       ManCity_Brighton\n",
       "3571               305  0.114989      ManCity_Tottenham\n",
       "513                 45  0.109377      ManCity_Tottenham\n",
       "12700              168  0.100133       ManCity_Brighton\n",
       "5780               166  0.099350     ManCity_AstonVilla\n",
       "17019              245  0.096886        ManCity_Arsenal\n",
       "787                 57  0.076298      ManCity_Tottenham\n",
       "18081               11  0.075098  ManCity_LeicesterCity\n",
       "1491               117  0.069585      ManCity_Tottenham\n",
       "794                 57  0.054241      ManCity_Tottenham\n",
       "7405                18  0.053187      ManCity_Liverpool\n",
       "7400                17  0.052321      ManCity_Liverpool\n",
       "16955              238  0.049853        ManCity_Arsenal\n",
       "130                 10  0.048795      ManCity_Tottenham\n",
       "11489               84  0.048332       ManCity_Brighton\n",
       "20464              172  0.030501  ManCity_LeicesterCity\n",
       "3565               305  0.011169      ManCity_Tottenham"
      ]
     },
     "execution_count": 149,
     "metadata": {},
     "output_type": "execute_result"
    }
   ],
   "source": [
    "passes[(passes['player.name']=='Chloe Kelly')& (passes['end_shot']==1)][['possesion_chain','xT','match_game']].sort_values(by='xT',ascending = False)\n",
    "\n"
   ]
  },
  {
   "cell_type": "code",
   "execution_count": 150,
   "id": "96618654-ce50-43be-900b-13ecf38e6be1",
   "metadata": {
    "tags": []
   },
   "outputs": [
    {
     "data": {
      "image/png": "[encoded data removed]",
      "text/plain": [
       "<Figure size 1240.19x900 with 3 Axes>"
      ]
     },
     "metadata": {},
     "output_type": "display_data"
    }
   ],
   "source": [
    "possession_example = chains_index['ManCity_Tottenham'][9]\n",
    "possession_example = 16\n",
    "match_game_example = 'ManCity_Arsenal'\n",
    "chain = df_coordinates.loc[ (df_coordinates[\"possesion_chain\"] == possession_example) & (df_coordinates['match_game']==match_game_example)]\n",
    "\n",
    "#get passes\n",
    "passes_in = passes.loc[ \n",
    "    (passes[\"possesion_chain\"] == possession_example) & (passes['match_game']==match_game_example)\n",
    "]\n",
    "\n",
    "max_value = passes_in[\"xT\"].max()\n",
    "#get events different than pass\n",
    "not_pass = chain.loc[chain[\"type.name\"] != \"Pass\"].iloc[:-1]\n",
    "#shot is the last event of the chain (or should be)\n",
    "shot = chain.iloc[-1]\n",
    "\n",
    "#plot\n",
    "pitch = Pitch(line_color='black',pitch_type='custom', pitch_length=120, pitch_width=80, line_zorder = 2)\n",
    "fig, ax = pitch.grid(grid_height=0.9, title_height=0.06, axis=False,\n",
    "                     endnote_height=0.04, title_space=0, endnote_space=0)\n",
    "#add size adjusted arrows\n",
    "for i, row in passes_in.iterrows():\n",
    "    value = row[\"xT\"]\n",
    "    #adjust the line width so that the more passes, the wider the line\n",
    "    line_width = (value / max_value * 10)\n",
    "    #get angle\n",
    "    angle = np.arctan((row.y1-row.y0)/(row.x1-row.x0))*180/np.pi\n",
    "    #plot lines on the pitch\n",
    "    pitch.arrows(row.x0, row.y0, row.x1, row.y1,\n",
    "                        alpha=0.6, width=line_width, zorder=2, color=\"blue\", ax = ax[\"pitch\"])\n",
    "    #annotate text\n",
    "    ax[\"pitch\"].text((row.x0+row.x1-8)/2, (row.y0+row.y1-4)/2, str(value)[:5], fontweight = \"bold\", color = \"blue\", zorder = 4, fontsize = 20, rotation = int(angle))\n",
    "\n",
    "#shot\n",
    "pitch.arrows(shot.x0, shot.y0,\n",
    "            shot.x1, shot.y1, width=line_width, color = \"red\", ax=ax['pitch'], zorder =  3)\n",
    "#other passes like arrows\n",
    "pitch.lines(not_pass.x0, not_pass.y0, not_pass.x1, not_pass.y1, color = \"grey\", lw = 1.5, ls = 'dotted', ax=ax['pitch'])\n",
    "ax['title'].text(0.5, 0.5, 'Passes leading to a shot', ha='center', va='center', fontsize=30)\n",
    "plt.show()"
   ]
  },
  {
   "cell_type": "markdown",
   "id": "6490e7b2-a262-4790-a879-b399a1ae1176",
   "metadata": {
    "tags": []
   },
   "source": [
    "## Finding out players with highest action-based Expected Threat"
   ]
  },
  {
   "cell_type": "code",
   "execution_count": 56,
   "id": "304d396e-fb2d-44a8-b0e6-920000b1a98d",
   "metadata": {
    "tags": []
   },
   "outputs": [],
   "source": [
    "summary = passes[[\"player.id\", \"player.name\" , \"xT\", \"possesion_chain\"]].groupby([\"player.id\", \"player.name\"]).sum().reset_index()"
   ]
  },
  {
   "cell_type": "code",
   "execution_count": 57,
   "id": "f937853e-2451-42cd-8a53-b0e359a529ea",
   "metadata": {
    "tags": []
   },
   "outputs": [],
   "source": [
    "summary = passes.groupby([\"player.id\", \"player.name\"]).agg({\n",
    "    \"xT\": [\"sum\"],\n",
    "    \"possesion_chain\" : [\"nunique\"]\n",
    "})"
   ]
  },
  {
   "cell_type": "code",
   "execution_count": 58,
   "id": "6995c5a7-0323-46e9-b151-bb47dceac270",
   "metadata": {
    "tags": []
   },
   "outputs": [],
   "source": [
    "# Rename columns for clarity\n",
    "summary.columns = [\"xT\",\"pass_count\"]\n",
    "summary.reset_index(inplace=True)"
   ]
  },
  {
   "cell_type": "code",
   "execution_count": 68,
   "id": "c69ebbca-70ef-4ac2-8869-60cb49adb003",
   "metadata": {
    "tags": []
   },
   "outputs": [],
   "source": [
    "summary['player.name'] = summary['player.name'].apply(lambda fullname: fullname.title())"
   ]
  },
  {
   "cell_type": "markdown",
   "id": "89a85242-b8d1-4001-a523-28e3b863b5d6",
   "metadata": {
    "tags": []
   },
   "source": [
    "### Retrieve the minutes played by each player for each match"
   ]
  },
  {
   "cell_type": "code",
   "execution_count": 69,
   "id": "4d738827-7ee5-4df1-a9db-c0bfa4fa187e",
   "metadata": {
    "tags": []
   },
   "outputs": [],
   "source": [
    "def collect_json(pattern):\n",
    "    # Use glob to find all files that match the pattern\n",
    "    file_list = glob.glob(pattern)\n",
    "\n",
    "    match_game = '_'.join(file_list[0].split('/')[-1].split('_')[:2])\n",
    "\n",
    "    json_dic = {}\n",
    "    for file in file_list:\n",
    "        # Open the file and load its contents into a dictionary\n",
    "        with open(file, 'r') as f:\n",
    "            data = json.load(f)\n",
    "            match_game = '_'.join(file.split('/')[-1].split('_')[:2])\n",
    "            json_dic[match_game] = {\n",
    "                data[0]['team_name'] : data[0],\n",
    "                data[1]['team_name'] : data[1]\n",
    "            }\n",
    "    return json_dic"
   ]
  },
  {
   "cell_type": "code",
   "execution_count": 70,
   "id": "bb687850-dafe-4aba-a802-fc1bf970f1e7",
   "metadata": {
    "tags": []
   },
   "outputs": [],
   "source": [
    "lineups_dic = collect_json(pattern='../data/StatsBomb/Data/*_lineups.json')"
   ]
  },
  {
   "cell_type": "code",
   "execution_count": 71,
   "id": "ca219108-eb06-4abc-87bc-63e6da1b5dff",
   "metadata": {
    "tags": []
   },
   "outputs": [],
   "source": [
    "players_dic_list = []\n",
    "for match in lineups_dic.keys():\n",
    "    for team in lineups_dic[match].keys():\n",
    "        for player in lineups_dic[match][team]['lineup']:\n",
    "            for position in player['positions']:\n",
    "                # print(f\"{match} {team} {player['player_name']} {position['position']} {position['from']} {position['to'] if position['to'] is not None else '01:35:00.000'}\")\n",
    "                players_dic_list.append(\n",
    "                    {\n",
    "                        'match' : match,\n",
    "                        'team' : team,\n",
    "                        'player_name' : player['player_name'],\n",
    "                        'position' : position['position'],\n",
    "                        'from' : position['from'],\n",
    "                        'to' : position['to'] if position['to'] is not None else '01:35:00.000'\n",
    "                    }\n",
    "                )\n",
    "            "
   ]
  },
  {
   "cell_type": "code",
   "execution_count": 72,
   "id": "d1aa3e9a-12b4-41f6-9021-94db19b00c4d",
   "metadata": {
    "tags": []
   },
   "outputs": [],
   "source": [
    "# convert list of dictionaries to DataFrame\n",
    "players_df = pd.DataFrame(players_dic_list)\n",
    "\n",
    "# convert timestamp column to timedelta format\n",
    "players_df['from_timedelta'] = pd.to_timedelta(players_df['from'])\n",
    "players_df['to_timedelta'] = pd.to_timedelta(players_df['to'])\n",
    "\n",
    "# calculate total seconds elapsed since midnight\n",
    "players_df['from_seconds'] = players_df['from_timedelta'].dt.total_seconds()\n",
    "players_df['to_seconds'] = players_df['to_timedelta'].dt.total_seconds()\n",
    "\n",
    "# convert seconds to minutes\n",
    "players_df['from_minutes'] = players_df['from_seconds'] / 60\n",
    "players_df['to_minutes'] = players_df['to_seconds'] / 60\n",
    "\n",
    "players_df['minutes_played'] = players_df['to_minutes'].astype(int) - players_df['from_minutes'].astype(int)\n",
    "players_df['player_name'] = players_df['player_name'].apply(lambda name: name.title())"
   ]
  },
  {
   "cell_type": "code",
   "execution_count": 73,
   "id": "15c81bc9-4f61-4afa-b339-e96e0e626207",
   "metadata": {
    "tags": []
   },
   "outputs": [],
   "source": [
    "players_df_minutes = players_df[['match','team','player_name','position','minutes_played']]"
   ]
  },
  {
   "cell_type": "code",
   "execution_count": 74,
   "id": "ecc63d0e-f842-46f2-8759-10c69383e271",
   "metadata": {
    "tags": []
   },
   "outputs": [],
   "source": [
    "minutes_player = players_df_minutes.groupby(['team','player_name']).sum(['minutes_played']).reset_index()"
   ]
  },
  {
   "cell_type": "code",
   "execution_count": 75,
   "id": "a36bb36f-cfc8-4cdc-86e5-7be33f1b55f5",
   "metadata": {
    "tags": []
   },
   "outputs": [],
   "source": [
    "summary_players_minutes = \\\n",
    "pd.merge(\n",
    "    summary,\n",
    "    minutes_player,\n",
    "    left_on='player.name',\n",
    "    right_on='player_name',\n",
    "    how='left'\n",
    ")"
   ]
  },
  {
   "cell_type": "code",
   "execution_count": 76,
   "id": "dc52dd57-80da-4b6e-b7d7-ec8db77d604a",
   "metadata": {
    "tags": []
   },
   "outputs": [
    {
     "data": {
      "text/html": [
       "<div>\n",
       "<style scoped>\n",
       "    .dataframe tbody tr th:only-of-type {\n",
       "        vertical-align: middle;\n",
       "    }\n",
       "\n",
       "    .dataframe tbody tr th {\n",
       "        vertical-align: top;\n",
       "    }\n",
       "\n",
       "    .dataframe thead th {\n",
       "        text-align: right;\n",
       "    }\n",
       "</style>\n",
       "<table border=\"1\" class=\"dataframe\">\n",
       "  <thead>\n",
       "    <tr style=\"text-align: right;\">\n",
       "      <th></th>\n",
       "      <th>player.id</th>\n",
       "      <th>player.name</th>\n",
       "      <th>xT</th>\n",
       "      <th>pass_count</th>\n",
       "      <th>team</th>\n",
       "      <th>player_name</th>\n",
       "      <th>minutes_played</th>\n",
       "    </tr>\n",
       "  </thead>\n",
       "  <tbody>\n",
       "    <tr>\n",
       "      <th>0</th>\n",
       "      <td>4637.0</td>\n",
       "      <td>Ellie Roebuck</td>\n",
       "      <td>0.649022</td>\n",
       "      <td>95</td>\n",
       "      <td>Manchester City WFC</td>\n",
       "      <td>Ellie Roebuck</td>\n",
       "      <td>570</td>\n",
       "    </tr>\n",
       "    <tr>\n",
       "      <th>1</th>\n",
       "      <td>4638.0</td>\n",
       "      <td>Drew Spence</td>\n",
       "      <td>0.530666</td>\n",
       "      <td>18</td>\n",
       "      <td>Tottenham Hotspur Women</td>\n",
       "      <td>Drew Spence</td>\n",
       "      <td>83</td>\n",
       "    </tr>\n",
       "    <tr>\n",
       "      <th>2</th>\n",
       "      <td>4649.0</td>\n",
       "      <td>Esme Beth Morgan</td>\n",
       "      <td>3.056029</td>\n",
       "      <td>93</td>\n",
       "      <td>Manchester City WFC</td>\n",
       "      <td>Esme Beth Morgan</td>\n",
       "      <td>282</td>\n",
       "    </tr>\n",
       "    <tr>\n",
       "      <th>3</th>\n",
       "      <td>4848.0</td>\n",
       "      <td>Ashleigh Neville</td>\n",
       "      <td>0.491476</td>\n",
       "      <td>20</td>\n",
       "      <td>Tottenham Hotspur Women</td>\n",
       "      <td>Ashleigh Neville</td>\n",
       "      <td>95</td>\n",
       "    </tr>\n",
       "    <tr>\n",
       "      <th>4</th>\n",
       "      <td>4865.0</td>\n",
       "      <td>Josie Green</td>\n",
       "      <td>0.060473</td>\n",
       "      <td>10</td>\n",
       "      <td>Leicester City WFC</td>\n",
       "      <td>Josie Green</td>\n",
       "      <td>68</td>\n",
       "    </tr>\n",
       "    <tr>\n",
       "      <th>...</th>\n",
       "      <td>...</td>\n",
       "      <td>...</td>\n",
       "      <td>...</td>\n",
       "      <td>...</td>\n",
       "      <td>...</td>\n",
       "      <td>...</td>\n",
       "      <td>...</td>\n",
       "    </tr>\n",
       "    <tr>\n",
       "      <th>95</th>\n",
       "      <td>135759.0</td>\n",
       "      <td>Shannon O’Brien</td>\n",
       "      <td>0.140021</td>\n",
       "      <td>6</td>\n",
       "      <td>Leicester City WFC</td>\n",
       "      <td>Shannon O’Brien</td>\n",
       "      <td>95</td>\n",
       "    </tr>\n",
       "    <tr>\n",
       "      <th>96</th>\n",
       "      <td>191851.0</td>\n",
       "      <td>Julie Blakstad</td>\n",
       "      <td>1.020455</td>\n",
       "      <td>26</td>\n",
       "      <td>Manchester City WFC</td>\n",
       "      <td>Julie Blakstad</td>\n",
       "      <td>121</td>\n",
       "    </tr>\n",
       "    <tr>\n",
       "      <th>97</th>\n",
       "      <td>221888.0</td>\n",
       "      <td>Kerstin Yasmijn Casparij</td>\n",
       "      <td>2.719362</td>\n",
       "      <td>111</td>\n",
       "      <td>Manchester City WFC</td>\n",
       "      <td>Kerstin Yasmijn Casparij</td>\n",
       "      <td>395</td>\n",
       "    </tr>\n",
       "    <tr>\n",
       "      <th>98</th>\n",
       "      <td>276443.0</td>\n",
       "      <td>Kathrine Møller Kühl</td>\n",
       "      <td>0.211311</td>\n",
       "      <td>10</td>\n",
       "      <td>Arsenal WFC</td>\n",
       "      <td>Kathrine Møller Kühl</td>\n",
       "      <td>28</td>\n",
       "    </tr>\n",
       "    <tr>\n",
       "      <th>99</th>\n",
       "      <td>353330.0</td>\n",
       "      <td>Lenna Gunning-Williams</td>\n",
       "      <td>0.034601</td>\n",
       "      <td>1</td>\n",
       "      <td>Tottenham Hotspur Women</td>\n",
       "      <td>Lenna Gunning-Williams</td>\n",
       "      <td>4</td>\n",
       "    </tr>\n",
       "  </tbody>\n",
       "</table>\n",
       "<p>100 rows × 7 columns</p>\n",
       "</div>"
      ],
      "text/plain": [
       "    player.id               player.name        xT  pass_count  \\\n",
       "0      4637.0             Ellie Roebuck  0.649022          95   \n",
       "1      4638.0               Drew Spence  0.530666          18   \n",
       "2      4649.0          Esme Beth Morgan  3.056029          93   \n",
       "3      4848.0          Ashleigh Neville  0.491476          20   \n",
       "4      4865.0               Josie Green  0.060473          10   \n",
       "..        ...                       ...       ...         ...   \n",
       "95   135759.0           Shannon O’Brien  0.140021           6   \n",
       "96   191851.0            Julie Blakstad  1.020455          26   \n",
       "97   221888.0  Kerstin Yasmijn Casparij  2.719362         111   \n",
       "98   276443.0      Kathrine Møller Kühl  0.211311          10   \n",
       "99   353330.0    Lenna Gunning-Williams  0.034601           1   \n",
       "\n",
       "                       team               player_name  minutes_played  \n",
       "0       Manchester City WFC             Ellie Roebuck             570  \n",
       "1   Tottenham Hotspur Women               Drew Spence              83  \n",
       "2       Manchester City WFC          Esme Beth Morgan             282  \n",
       "3   Tottenham Hotspur Women          Ashleigh Neville              95  \n",
       "4        Leicester City WFC               Josie Green              68  \n",
       "..                      ...                       ...             ...  \n",
       "95       Leicester City WFC           Shannon O’Brien              95  \n",
       "96      Manchester City WFC            Julie Blakstad             121  \n",
       "97      Manchester City WFC  Kerstin Yasmijn Casparij             395  \n",
       "98              Arsenal WFC      Kathrine Møller Kühl              28  \n",
       "99  Tottenham Hotspur Women    Lenna Gunning-Williams               4  \n",
       "\n",
       "[100 rows x 7 columns]"
      ]
     },
     "execution_count": 76,
     "metadata": {},
     "output_type": "execute_result"
    }
   ],
   "source": [
    "summary_players_minutes"
   ]
  },
  {
   "cell_type": "markdown",
   "id": "681a93d5-7ea4-4816-9b87-67ff05ef0518",
   "metadata": {},
   "source": [
    "### Calculate xThreat per 90 minutes (Filtering out players who played less than 90 minutes)"
   ]
  },
  {
   "cell_type": "code",
   "execution_count": 77,
   "id": "30fe0fe1-c4e8-416f-bfbc-65ed99525a8b",
   "metadata": {
    "tags": []
   },
   "outputs": [],
   "source": [
    "summary_players_minutes_p90 = summary_players_minutes.loc[summary_players_minutes[\"minutes_played\"] > 90]\n",
    "#calculating per 90\n",
    "summary_players_minutes_p90[\"xT_p90\"] = summary_players_minutes_p90[\"xT\"]*90/summary_players_minutes_p90[\"minutes_played\"]"
   ]
  },
  {
   "cell_type": "code",
   "execution_count": 78,
   "id": "892b23ce-63a3-4e26-8949-401fc203375a",
   "metadata": {
    "tags": []
   },
   "outputs": [],
   "source": [
    "#adjust per possesion\n",
    "summary_players_minutes_p90[\"xT_adjusted_per_90\"] = (summary_players_minutes_p90[\"xT\"]/summary_players_minutes_p90[\"pass_count\"])*90/summary_players_minutes_p90[\"minutes_played\"]\n",
    "\n"
   ]
  },
  {
   "cell_type": "code",
   "execution_count": 79,
   "id": "7c22430f-a154-419c-a14f-553d084c5d9a",
   "metadata": {
    "tags": []
   },
   "outputs": [],
   "source": [
    "summary_xT_p90 = summary_players_minutes_p90[['team','player.name','minutes_played','xT','xT_p90','xT_adjusted_per_90','pass_count']].sort_values(by='xT_p90',ascending=False).head(10)\n"
   ]
  },
  {
   "cell_type": "code",
   "execution_count": 80,
   "id": "5d06f06f-7cb6-42cc-8c0f-4b09c4c28f78",
   "metadata": {
    "tags": []
   },
   "outputs": [
    {
     "data": {
      "text/html": [
       "<div>\n",
       "<style scoped>\n",
       "    .dataframe tbody tr th:only-of-type {\n",
       "        vertical-align: middle;\n",
       "    }\n",
       "\n",
       "    .dataframe tbody tr th {\n",
       "        vertical-align: top;\n",
       "    }\n",
       "\n",
       "    .dataframe thead th {\n",
       "        text-align: right;\n",
       "    }\n",
       "</style>\n",
       "<table border=\"1\" class=\"dataframe\">\n",
       "  <thead>\n",
       "    <tr style=\"text-align: right;\">\n",
       "      <th></th>\n",
       "      <th>team</th>\n",
       "      <th>player.name</th>\n",
       "      <th>minutes_played</th>\n",
       "      <th>xT</th>\n",
       "      <th>xT_p90</th>\n",
       "      <th>xT_adjusted_per_90</th>\n",
       "      <th>pass_count</th>\n",
       "    </tr>\n",
       "  </thead>\n",
       "  <tbody>\n",
       "    <tr>\n",
       "      <th>27</th>\n",
       "      <td>Manchester City WFC</td>\n",
       "      <td>Chloe Kelly</td>\n",
       "      <td>457</td>\n",
       "      <td>6.368118</td>\n",
       "      <td>1.254115</td>\n",
       "      <td>0.012541</td>\n",
       "      <td>100</td>\n",
       "    </tr>\n",
       "    <tr>\n",
       "      <th>24</th>\n",
       "      <td>Manchester City WFC</td>\n",
       "      <td>Lauren Hemp</td>\n",
       "      <td>449</td>\n",
       "      <td>5.477096</td>\n",
       "      <td>1.097859</td>\n",
       "      <td>0.011436</td>\n",
       "      <td>96</td>\n",
       "    </tr>\n",
       "    <tr>\n",
       "      <th>2</th>\n",
       "      <td>Manchester City WFC</td>\n",
       "      <td>Esme Beth Morgan</td>\n",
       "      <td>282</td>\n",
       "      <td>3.056029</td>\n",
       "      <td>0.975328</td>\n",
       "      <td>0.010487</td>\n",
       "      <td>93</td>\n",
       "    </tr>\n",
       "    <tr>\n",
       "      <th>25</th>\n",
       "      <td>Aston Villa</td>\n",
       "      <td>Lucy Staniforth</td>\n",
       "      <td>95</td>\n",
       "      <td>1.001734</td>\n",
       "      <td>0.949012</td>\n",
       "      <td>0.025649</td>\n",
       "      <td>37</td>\n",
       "    </tr>\n",
       "    <tr>\n",
       "      <th>10</th>\n",
       "      <td>Manchester City WFC</td>\n",
       "      <td>Hayley Emma Raso</td>\n",
       "      <td>113</td>\n",
       "      <td>1.186384</td>\n",
       "      <td>0.944908</td>\n",
       "      <td>0.042950</td>\n",
       "      <td>22</td>\n",
       "    </tr>\n",
       "    <tr>\n",
       "      <th>16</th>\n",
       "      <td>Manchester City WFC</td>\n",
       "      <td>Alex Greenwood</td>\n",
       "      <td>556</td>\n",
       "      <td>5.558932</td>\n",
       "      <td>0.899827</td>\n",
       "      <td>0.005113</td>\n",
       "      <td>176</td>\n",
       "    </tr>\n",
       "    <tr>\n",
       "      <th>81</th>\n",
       "      <td>Manchester City WFC</td>\n",
       "      <td>Ingrid Filippa Angeldal</td>\n",
       "      <td>291</td>\n",
       "      <td>2.829549</td>\n",
       "      <td>0.875118</td>\n",
       "      <td>0.010939</td>\n",
       "      <td>80</td>\n",
       "    </tr>\n",
       "    <tr>\n",
       "      <th>96</th>\n",
       "      <td>Manchester City WFC</td>\n",
       "      <td>Julie Blakstad</td>\n",
       "      <td>121</td>\n",
       "      <td>1.020455</td>\n",
       "      <td>0.759016</td>\n",
       "      <td>0.029193</td>\n",
       "      <td>26</td>\n",
       "    </tr>\n",
       "    <tr>\n",
       "      <th>22</th>\n",
       "      <td>Aston Villa</td>\n",
       "      <td>Kenza Dali</td>\n",
       "      <td>95</td>\n",
       "      <td>0.794650</td>\n",
       "      <td>0.752826</td>\n",
       "      <td>0.026887</td>\n",
       "      <td>28</td>\n",
       "    </tr>\n",
       "    <tr>\n",
       "      <th>80</th>\n",
       "      <td>Manchester City WFC</td>\n",
       "      <td>Deyna Cristina Castellanos Naujenis</td>\n",
       "      <td>318</td>\n",
       "      <td>2.618978</td>\n",
       "      <td>0.741220</td>\n",
       "      <td>0.013004</td>\n",
       "      <td>57</td>\n",
       "    </tr>\n",
       "  </tbody>\n",
       "</table>\n",
       "</div>"
      ],
      "text/plain": [
       "                   team                          player.name  minutes_played  \\\n",
       "27  Manchester City WFC                          Chloe Kelly             457   \n",
       "24  Manchester City WFC                          Lauren Hemp             449   \n",
       "2   Manchester City WFC                     Esme Beth Morgan             282   \n",
       "25          Aston Villa                      Lucy Staniforth              95   \n",
       "10  Manchester City WFC                     Hayley Emma Raso             113   \n",
       "16  Manchester City WFC                       Alex Greenwood             556   \n",
       "81  Manchester City WFC              Ingrid Filippa Angeldal             291   \n",
       "96  Manchester City WFC                       Julie Blakstad             121   \n",
       "22          Aston Villa                           Kenza Dali              95   \n",
       "80  Manchester City WFC  Deyna Cristina Castellanos Naujenis             318   \n",
       "\n",
       "          xT    xT_p90  xT_adjusted_per_90  pass_count  \n",
       "27  6.368118  1.254115            0.012541         100  \n",
       "24  5.477096  1.097859            0.011436          96  \n",
       "2   3.056029  0.975328            0.010487          93  \n",
       "25  1.001734  0.949012            0.025649          37  \n",
       "10  1.186384  0.944908            0.042950          22  \n",
       "16  5.558932  0.899827            0.005113         176  \n",
       "81  2.829549  0.875118            0.010939          80  \n",
       "96  1.020455  0.759016            0.029193          26  \n",
       "22  0.794650  0.752826            0.026887          28  \n",
       "80  2.618978  0.741220            0.013004          57  "
      ]
     },
     "execution_count": 80,
     "metadata": {},
     "output_type": "execute_result"
    }
   ],
   "source": [
    "summary_xT_p90"
   ]
  },
  {
   "cell_type": "code",
   "execution_count": 81,
   "id": "45c9d8a7-0157-4a2a-a233-61cde76cbce9",
   "metadata": {
    "tags": []
   },
   "outputs": [],
   "source": [
    "players_positions = players_df_minutes[['player_name','position']].drop_duplicates(subset=['player_name'],keep='first')"
   ]
  },
  {
   "cell_type": "code",
   "execution_count": 82,
   "id": "ddbf73b9-cf62-4299-b5b8-37265a1a4fe9",
   "metadata": {
    "tags": []
   },
   "outputs": [
    {
     "data": {
      "text/html": [
       "<div>\n",
       "<style scoped>\n",
       "    .dataframe tbody tr th:only-of-type {\n",
       "        vertical-align: middle;\n",
       "    }\n",
       "\n",
       "    .dataframe tbody tr th {\n",
       "        vertical-align: top;\n",
       "    }\n",
       "\n",
       "    .dataframe thead th {\n",
       "        text-align: right;\n",
       "    }\n",
       "</style>\n",
       "<table border=\"1\" class=\"dataframe\">\n",
       "  <thead>\n",
       "    <tr style=\"text-align: right;\">\n",
       "      <th></th>\n",
       "      <th>team</th>\n",
       "      <th>player.name</th>\n",
       "      <th>minutes_played</th>\n",
       "      <th>xT</th>\n",
       "      <th>xT_p90</th>\n",
       "      <th>xT_adjusted_per_90</th>\n",
       "      <th>pass_count</th>\n",
       "      <th>player_name</th>\n",
       "      <th>position</th>\n",
       "    </tr>\n",
       "  </thead>\n",
       "  <tbody>\n",
       "    <tr>\n",
       "      <th>0</th>\n",
       "      <td>Manchester City WFC</td>\n",
       "      <td>Chloe Kelly</td>\n",
       "      <td>457</td>\n",
       "      <td>6.368118</td>\n",
       "      <td>1.254115</td>\n",
       "      <td>0.012541</td>\n",
       "      <td>100</td>\n",
       "      <td>Chloe Kelly</td>\n",
       "      <td>Right Wing</td>\n",
       "    </tr>\n",
       "    <tr>\n",
       "      <th>1</th>\n",
       "      <td>Manchester City WFC</td>\n",
       "      <td>Lauren Hemp</td>\n",
       "      <td>449</td>\n",
       "      <td>5.477096</td>\n",
       "      <td>1.097859</td>\n",
       "      <td>0.011436</td>\n",
       "      <td>96</td>\n",
       "      <td>Lauren Hemp</td>\n",
       "      <td>Left Wing</td>\n",
       "    </tr>\n",
       "    <tr>\n",
       "      <th>2</th>\n",
       "      <td>Manchester City WFC</td>\n",
       "      <td>Esme Beth Morgan</td>\n",
       "      <td>282</td>\n",
       "      <td>3.056029</td>\n",
       "      <td>0.975328</td>\n",
       "      <td>0.010487</td>\n",
       "      <td>93</td>\n",
       "      <td>Esme Beth Morgan</td>\n",
       "      <td>Right Center Back</td>\n",
       "    </tr>\n",
       "    <tr>\n",
       "      <th>3</th>\n",
       "      <td>Aston Villa</td>\n",
       "      <td>Lucy Staniforth</td>\n",
       "      <td>95</td>\n",
       "      <td>1.001734</td>\n",
       "      <td>0.949012</td>\n",
       "      <td>0.025649</td>\n",
       "      <td>37</td>\n",
       "      <td>Lucy Staniforth</td>\n",
       "      <td>Right Defensive Midfield</td>\n",
       "    </tr>\n",
       "    <tr>\n",
       "      <th>4</th>\n",
       "      <td>Manchester City WFC</td>\n",
       "      <td>Hayley Emma Raso</td>\n",
       "      <td>113</td>\n",
       "      <td>1.186384</td>\n",
       "      <td>0.944908</td>\n",
       "      <td>0.042950</td>\n",
       "      <td>22</td>\n",
       "      <td>Hayley Emma Raso</td>\n",
       "      <td>Right Wing</td>\n",
       "    </tr>\n",
       "    <tr>\n",
       "      <th>5</th>\n",
       "      <td>Manchester City WFC</td>\n",
       "      <td>Alex Greenwood</td>\n",
       "      <td>556</td>\n",
       "      <td>5.558932</td>\n",
       "      <td>0.899827</td>\n",
       "      <td>0.005113</td>\n",
       "      <td>176</td>\n",
       "      <td>Alex Greenwood</td>\n",
       "      <td>Left Center Back</td>\n",
       "    </tr>\n",
       "    <tr>\n",
       "      <th>6</th>\n",
       "      <td>Manchester City WFC</td>\n",
       "      <td>Ingrid Filippa Angeldal</td>\n",
       "      <td>291</td>\n",
       "      <td>2.829549</td>\n",
       "      <td>0.875118</td>\n",
       "      <td>0.010939</td>\n",
       "      <td>80</td>\n",
       "      <td>Ingrid Filippa Angeldal</td>\n",
       "      <td>Right Center Midfield</td>\n",
       "    </tr>\n",
       "    <tr>\n",
       "      <th>7</th>\n",
       "      <td>Manchester City WFC</td>\n",
       "      <td>Julie Blakstad</td>\n",
       "      <td>121</td>\n",
       "      <td>1.020455</td>\n",
       "      <td>0.759016</td>\n",
       "      <td>0.029193</td>\n",
       "      <td>26</td>\n",
       "      <td>Julie Blakstad</td>\n",
       "      <td>Left Wing</td>\n",
       "    </tr>\n",
       "    <tr>\n",
       "      <th>8</th>\n",
       "      <td>Aston Villa</td>\n",
       "      <td>Kenza Dali</td>\n",
       "      <td>95</td>\n",
       "      <td>0.794650</td>\n",
       "      <td>0.752826</td>\n",
       "      <td>0.026887</td>\n",
       "      <td>28</td>\n",
       "      <td>Kenza Dali</td>\n",
       "      <td>Left Defensive Midfield</td>\n",
       "    </tr>\n",
       "    <tr>\n",
       "      <th>9</th>\n",
       "      <td>Manchester City WFC</td>\n",
       "      <td>Deyna Cristina Castellanos Naujenis</td>\n",
       "      <td>318</td>\n",
       "      <td>2.618978</td>\n",
       "      <td>0.741220</td>\n",
       "      <td>0.013004</td>\n",
       "      <td>57</td>\n",
       "      <td>Deyna Cristina Castellanos Naujenis</td>\n",
       "      <td>Left Center Midfield</td>\n",
       "    </tr>\n",
       "  </tbody>\n",
       "</table>\n",
       "</div>"
      ],
      "text/plain": [
       "                  team                          player.name  minutes_played  \\\n",
       "0  Manchester City WFC                          Chloe Kelly             457   \n",
       "1  Manchester City WFC                          Lauren Hemp             449   \n",
       "2  Manchester City WFC                     Esme Beth Morgan             282   \n",
       "3          Aston Villa                      Lucy Staniforth              95   \n",
       "4  Manchester City WFC                     Hayley Emma Raso             113   \n",
       "5  Manchester City WFC                       Alex Greenwood             556   \n",
       "6  Manchester City WFC              Ingrid Filippa Angeldal             291   \n",
       "7  Manchester City WFC                       Julie Blakstad             121   \n",
       "8          Aston Villa                           Kenza Dali              95   \n",
       "9  Manchester City WFC  Deyna Cristina Castellanos Naujenis             318   \n",
       "\n",
       "         xT    xT_p90  xT_adjusted_per_90  pass_count  \\\n",
       "0  6.368118  1.254115            0.012541         100   \n",
       "1  5.477096  1.097859            0.011436          96   \n",
       "2  3.056029  0.975328            0.010487          93   \n",
       "3  1.001734  0.949012            0.025649          37   \n",
       "4  1.186384  0.944908            0.042950          22   \n",
       "5  5.558932  0.899827            0.005113         176   \n",
       "6  2.829549  0.875118            0.010939          80   \n",
       "7  1.020455  0.759016            0.029193          26   \n",
       "8  0.794650  0.752826            0.026887          28   \n",
       "9  2.618978  0.741220            0.013004          57   \n",
       "\n",
       "                           player_name                  position  \n",
       "0                          Chloe Kelly                Right Wing  \n",
       "1                          Lauren Hemp                 Left Wing  \n",
       "2                     Esme Beth Morgan         Right Center Back  \n",
       "3                      Lucy Staniforth  Right Defensive Midfield  \n",
       "4                     Hayley Emma Raso                Right Wing  \n",
       "5                       Alex Greenwood          Left Center Back  \n",
       "6              Ingrid Filippa Angeldal     Right Center Midfield  \n",
       "7                       Julie Blakstad                 Left Wing  \n",
       "8                           Kenza Dali   Left Defensive Midfield  \n",
       "9  Deyna Cristina Castellanos Naujenis      Left Center Midfield  "
      ]
     },
     "execution_count": 82,
     "metadata": {},
     "output_type": "execute_result"
    }
   ],
   "source": [
    "pd.merge(\n",
    "    summary_xT_p90,\n",
    "    players_positions,\n",
    "    left_on='player.name',\n",
    "    right_on='player_name',\n",
    "    how = 'inner'\n",
    ")"
   ]
  }
 ],
 "metadata": {
  "kernelspec": {
   "display_name": "Python 3 (ipykernel)",
   "language": "python",
   "name": "python3"
  },
  "language_info": {
   "codemirror_mode": {
    "name": "ipython",
    "version": 3
   },
   "file_extension": ".py",
   "mimetype": "text/x-python",
   "name": "python",
   "nbconvert_exporter": "python",
   "pygments_lexer": "ipython3",
   "version": "3.11.1"
  }
 },
 "nbformat": 4,
 "nbformat_minor": 5
}
