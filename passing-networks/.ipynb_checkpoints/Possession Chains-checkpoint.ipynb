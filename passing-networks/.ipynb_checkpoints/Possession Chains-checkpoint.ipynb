{
 "cells": [
  {
   "cell_type": "markdown",
   "id": "13374de5-8cae-4e22-b14c-0bf2a4210c51",
   "metadata": {
    "tags": []
   },
   "source": [
    "## Import required libraries"
   ]
  },
  {
   "cell_type": "code",
   "execution_count": 1,
   "id": "5d9d5888-c095-40a5-aea0-e10300dc48ee",
   "metadata": {
    "tags": []
   },
   "outputs": [],
   "source": [
    "import pandas as pd\n",
    "import numpy as np\n",
    "import json\n",
    "# plotting\n",
    "import os\n",
    "import pathlib\n",
    "import warnings\n",
    "import statsmodels.api as sm\n",
    "import statsmodels.formula.api as smf\n",
    "from mplsoccer import Pitch\n",
    "import matplotlib.pyplot as plt\n",
    "import glob\n",
    "import math\n",
    "\n",
    "pd.options.mode.chained_assignment = None\n",
    "warnings.filterwarnings('ignore')"
   ]
  },
  {
   "cell_type": "markdown",
   "id": "ba84d3c3-aeb2-4cfc-a6af-064e4ee1fb10",
   "metadata": {},
   "source": [
    "## Import all events per Man City's matches"
   ]
  },
  {
   "cell_type": "code",
   "execution_count": 2,
   "id": "8e39a7ee-7c18-42a7-86af-f7a54c42a3e7",
   "metadata": {
    "tags": []
   },
   "outputs": [],
   "source": [
    "# Define the wildcard pattern to match the file names\n",
    "pattern = '../data/StatsBomb/Data/*_events.json'\n",
    "# Use glob to find all files that match the pattern\n",
    "file_list = glob.glob(pattern)"
   ]
  },
  {
   "cell_type": "code",
   "execution_count": 3,
   "id": "8ad34391-fd26-4382-9ea8-f8f73a56b1c0",
   "metadata": {
    "tags": []
   },
   "outputs": [],
   "source": [
    "match_game = '_'.join(file_list[0].split('/')[-1].split('_')[:2])"
   ]
  },
  {
   "cell_type": "code",
   "execution_count": 4,
   "id": "f1f47b97-a168-42f3-a26b-571d58e22462",
   "metadata": {
    "tags": []
   },
   "outputs": [],
   "source": [
    "df_list = []\n",
    "for file in file_list:\n",
    "    # Open the file and load its contents into a dictionary\n",
    "    with open(file, 'r') as f:\n",
    "        data = json.load(f)\n",
    "        match_game = '_'.join(file.split('/')[-1].split('_')[:2])\n",
    "        df_game = pd.json_normalize(data)\n",
    "        df_game['match_game'] = match_game\n",
    "        # Convert the list of JSON values to a DataFrame\n",
    "        df_list.append(df_game)"
   ]
  },
  {
   "cell_type": "code",
   "execution_count": 5,
   "id": "b69d59e8-ebef-4b71-8e1b-c4e3d86d5fd7",
   "metadata": {
    "tags": []
   },
   "outputs": [],
   "source": [
    "df = pd.concat(df_list,ignore_index = True)"
   ]
  },
  {
   "cell_type": "code",
   "execution_count": 6,
   "id": "4531a7e8-da81-4526-9412-d2f128c64836",
   "metadata": {
    "tags": []
   },
   "outputs": [
    {
     "data": {
      "text/plain": [
       "match_game           \n",
       "ManCity_Brighton         3976\n",
       "ManCity_Tottenham        3777\n",
       "ManCity_Arsenal          3629\n",
       "ManCity_LeicesterCity    3475\n",
       "ManCity_AstonVilla       3392\n",
       "ManCity_Liverpool        3083\n",
       "dtype: int64"
      ]
     },
     "execution_count": 6,
     "metadata": {},
     "output_type": "execute_result"
    }
   ],
   "source": [
    "df[['match_game']].value_counts()"
   ]
  },
  {
   "cell_type": "markdown",
   "id": "529ce279-87d8-4a89-975e-17d9b73b5fe8",
   "metadata": {
    "tags": []
   },
   "source": [
    "## Preparing data\n",
    "\n",
    "First we see create a new column with the next event. We create a column with 1 if the ball was kicked out - to mark when the chain should be stopped. We filter out Interruptions since there was an ball out of the pitch or foul before them. Then, we filter lost duels, since Wyscout duels are saved twice - for both team either defensive or offensive. We filter out events “Out of ball” since we can get this information from other column. Then, we filter out events by goalkeepers, since shots were made before.\n",
    "\n",
    "\n",
    "- Create a new column with the next event\n",
    "- Create a column with 1 if the ball was kicked out - to mark when the chain should be stopped\n",
    "- Filter out Interruptions since there was an ball out of the pitch or foul before them"
   ]
  },
  {
   "cell_type": "code",
   "execution_count": 7,
   "id": "80f2cf17-19e1-4277-96a5-64e7d938ce1e",
   "metadata": {
    "tags": []
   },
   "outputs": [],
   "source": [
    "next_event = df.shift(-1, fill_value=0)"
   ]
  },
  {
   "cell_type": "code",
   "execution_count": 8,
   "id": "b866d2dd-d686-4c2b-8e6a-cf3fdae73a93",
   "metadata": {
    "tags": []
   },
   "outputs": [],
   "source": [
    "df[\"nextEvent\"] = next_event[\"type.name\"]\n",
    "df['kickedOut'] = np.where(next_event['out']==True,1,0)"
   ]
  },
  {
   "cell_type": "code",
   "execution_count": 9,
   "id": "173d89ac-9a30-49f0-a162-03cca63d7f76",
   "metadata": {
    "tags": []
   },
   "outputs": [],
   "source": [
    "# # Interceptions out\n",
    "# #interruptions out\n",
    "# interruption = df.loc[df[\"type.name\"] == \"Interception\"]\n",
    "# df = df.drop(interruption.index)\n",
    "\n",
    "# # filter ball out of the field - I can get this anyways\n",
    "# out_of_ball = df.loc[df[\"out\"] == True]\n",
    "# df = df.drop(out_of_ball.index)\n",
    "\n",
    "# # save attempts can be dropped\n",
    "# goalies = df.loc[df[\"type.name\"]=='Goal Keeper']\n",
    "# df = df.drop(goalies.index)\n",
    "\n",
    "# ball_receipt = df[df['type.name']=='Ball Receipt*']\n",
    "# df = df.drop(ball_receipt.index)\n",
    "\n",
    "# pressure = df[df['type.name']=='Pressure']\n",
    "# df = df.drop(pressure.index)\n",
    "\n",
    "# block = df[df['type.name']=='Block']\n",
    "# df = df.drop(block.index)\n",
    "\n",
    "# miscontrol = df[df['type.name']=='Miscontrol']\n",
    "# df = df.drop(miscontrol.index)\n",
    "\n",
    "# ball_recovery = df[df['type.name']=='Ball Recovery']\n",
    "# df = df.drop(ball_recovery.index)\n",
    "\n",
    "# starting_halfs = df[(df['type.name'] == 'Starting XI') | \n",
    "#                     (df['type.name'] == 'Half Start') | \n",
    "#                     (df['type.name'] == 'Half End')]\n",
    "\n",
    "# df = df.drop(starting_halfs.index)"
   ]
  },
  {
   "cell_type": "code",
   "execution_count": 10,
   "id": "cca9a796-6e83-4b83-9998-e7a82ecc2863",
   "metadata": {
    "tags": []
   },
   "outputs": [
    {
     "data": {
      "text/plain": [
       "Pass                 5860\n",
       "Ball Receipt*        5395\n",
       "Carry                4922\n",
       "Pressure             1970\n",
       "Ball Recovery         628\n",
       "Duel                  375\n",
       "Clearance             267\n",
       "Block                 256\n",
       "Dribble               217\n",
       "Goal Keeper           208\n",
       "Shot                  178\n",
       "Miscontrol            166\n",
       "Interception          157\n",
       "Dispossessed          148\n",
       "Dribbled Past         136\n",
       "Foul Committed        101\n",
       "Foul Won               98\n",
       "Injury Stoppage        42\n",
       "Substitution           40\n",
       "50/50                  39\n",
       "Half Start             24\n",
       "Half End               24\n",
       "Referee Ball-Drop      23\n",
       "Starting XI            12\n",
       "Tactical Shift         11\n",
       "Shield                  9\n",
       "Player Off              9\n",
       "Player On               9\n",
       "Error                   4\n",
       "Own Goal For            1\n",
       "Own Goal Against        1\n",
       "Offside                 1\n",
       "Bad Behaviour           1\n",
       "Name: type.name, dtype: int64"
      ]
     },
     "execution_count": 10,
     "metadata": {},
     "output_type": "execute_result"
    }
   ],
   "source": [
    "df['type.name'].value_counts()"
   ]
  },
  {
   "cell_type": "code",
   "execution_count": 11,
   "id": "92581b90-d881-4622-a5ea-371c11e6cac8",
   "metadata": {
    "tags": []
   },
   "outputs": [],
   "source": [
    "cl_df = \\\n",
    "df[\n",
    "df['type.name'].isin([\n",
    "    'Carry',\n",
    "    'Pass',\n",
    "    'Duel',\n",
    "    'Dribble',\n",
    "    'Clearance',\n",
    "    'Shot',\n",
    "    'Foul',\n",
    "    'Foul Committed',\n",
    "    'Injury Stoppage',\n",
    "    'Foul',\n",
    "    'Substitution',\n",
    "    'Offside',\n",
    "    'Interception',\n",
    "    'Ball Recovery',\n",
    "    'Ball Receipt*'\n",
    "])\n",
    "]"
   ]
  },
  {
   "cell_type": "markdown",
   "id": "61d47679-8002-47c9-9b0c-07c125778213",
   "metadata": {},
   "source": [
    "## Isolating possesion chain\n",
    "- Isolate possesion chain with the rule that if the ball was touched once by a different team, it should not change the results.\n",
    "- If there was a foul, ball kicked out of the field the chain is stopped.\n",
    "- For others in the ball, if the ball was properly intercepted that is, the next team is the one that made the next event, we stop the chain.\n",
    "- Otherwise, if the ball was only touched, but did not change possesion, we treat a pass as an accurate one.\n",
    "- This is an approximate of true possesion chain."
   ]
  },
  {
   "cell_type": "code",
   "execution_count": 12,
   "id": "71d2500d-cf0a-41ea-8ba0-91df97292235",
   "metadata": {
    "tags": []
   },
   "outputs": [
    {
     "data": {
      "text/plain": [
       "ManCity_Brighton         3425\n",
       "ManCity_Tottenham        3219\n",
       "ManCity_Arsenal          3060\n",
       "ManCity_LeicesterCity    3004\n",
       "ManCity_AstonVilla       2833\n",
       "ManCity_Liverpool        2642\n",
       "Name: match_game, dtype: int64"
      ]
     },
     "execution_count": 12,
     "metadata": {},
     "output_type": "execute_result"
    }
   ],
   "source": [
    "cl_df['match_game'].value_counts()"
   ]
  },
  {
   "cell_type": "code",
   "execution_count": 13,
   "id": "9471aaea-7091-4194-b01e-f81570415796",
   "metadata": {
    "tags": []
   },
   "outputs": [],
   "source": [
    "city_spurs = cl_df[cl_df['match_game']=='ManCity_Tottenham']"
   ]
  },
  {
   "cell_type": "code",
   "execution_count": 14,
   "id": "e5c6a8bc-92b7-4c0d-8a6a-37e1834b0560",
   "metadata": {
    "tags": []
   },
   "outputs": [
    {
     "data": {
      "text/plain": [
       "(3219, 143)"
      ]
     },
     "execution_count": 14,
     "metadata": {},
     "output_type": "execute_result"
    }
   ],
   "source": [
    "city_spurs.shape"
   ]
  },
  {
   "cell_type": "code",
   "execution_count": 15,
   "id": "f7fcec39-8b15-4929-a502-67eaf1db8018",
   "metadata": {
    "tags": []
   },
   "outputs": [],
   "source": [
    "def isolateChains(df):\n",
    "    \"\"\"\n",
    "    Parameters\n",
    "    ----------\n",
    "    df : dataframe\n",
    "        dataframe with StatsBomb event data.\n",
    "\n",
    "    Returns\n",
    "    -------\n",
    "    df: dataframe\n",
    "        dataframe with isolated possesion chains\n",
    "\n",
    "    \"\"\"\n",
    "    df[\"nextTeamName\"] = df.shift(-1, fill_value=0)[\"team.name\"]\n",
    "    #potential +0s\n",
    "    chain_team = df.iloc[0][\"team.name\"]\n",
    "    period = df.iloc[0][\"period\"]\n",
    "    stop_criterion = 0\n",
    "    chain = 0\n",
    "    df[\"possesion_chain\"] = 0\n",
    "    df[\"possesion_chain_team\"] = 0\n",
    "\n",
    "    for i, row in df.iterrows():\n",
    "        #add value\n",
    "        df.at[i, \"possesion_chain\"] = chain\n",
    "        df.at[i, \"possesion_chain_team\"] = chain_team\n",
    "        # if pass not accurate/lost duel, add 1 to stop criterion\n",
    "        if row[\"type.name\"] == \"Pass\" or row[\"type.name\"] == \"Duel\":\n",
    "            # import pdb;pdb.set_trace()\n",
    "            if row[\"team.name\"] == chain_team and row['duel.outcome.name'] in ['Lost In Play','Lost Out','Success Out']:\n",
    "                stop_criterion += 1\n",
    "            if row[\"team.name\"] != chain_team and row[\"type.name\"] == \"Duel\":\n",
    "                if 'Success' in str(row['duel.outcome.name']):\n",
    "                    stop_criterion += 1\n",
    "            if row[\"team.name\"] != chain_team and str(row['pass.outcome.name'])=='nan':\n",
    "                    stop_criterion += 1\n",
    "        #if ball intercepted properly add 2\n",
    "        if row[\"type.name\"] == \"Interception\":\n",
    "               if row[\"team.name\"] == row[\"nextTeamName\"]:\n",
    "                    stop_criterion += 2\n",
    "        if row['type.name'] == 'Ball Recovery':\n",
    "             if row[\"team.name\"] != chain_team:\n",
    "                    stop_criterion+=1\n",
    "        if row['type.name'] == 'Carry':\n",
    "             if row[\"team.name\"] != chain_team:\n",
    "                    stop_criterion+=1    \n",
    "        # #if ball intercepted properly add 2\n",
    "        if row[\"type.name\"] == \"Interception\":\n",
    "               if row[\"team.name\"] == row[\"nextTeamName\"]:\n",
    "                    stop_criterion += 2\n",
    "        #if shot, add 2 to stop criteriom\n",
    "        if row[\"type.name\"] in [\"Shot\", \"Foul\", \"Offside\"]:\n",
    "            stop_criterion += 2\n",
    "        #if ball out of field, add 2\n",
    "        if row[\"out\"]==True:\n",
    "            stop_criterion += 2\n",
    "        if stop_criterion == 1 and row['team.name'] == chain_team:\n",
    "            stop_criterion = 0 \n",
    "        #criterion for stopping when half ended\n",
    "        if row[\"period\"] != period:\n",
    "                chain += 1\n",
    "                stop_criterion = 0\n",
    "                chain_team = row['team.name']\n",
    "                period = row[\"period\"]\n",
    "                df.at[i, \"possesion_chain\"] = chain\n",
    "                df.at[i, \"possesion_chain_team\"] = chain_team\n",
    "        #possesion chain ended\n",
    "        if stop_criterion >= 2:\n",
    "            chain += 1\n",
    "            stop_criterion = 0\n",
    "            chain_team = row['nextTeamName']\n",
    "    return df\n"
   ]
  },
  {
   "cell_type": "code",
   "execution_count": 16,
   "id": "07241932-dfa5-41b6-8a9d-0b82646d3627",
   "metadata": {
    "tags": []
   },
   "outputs": [
    {
     "data": {
      "text/plain": [
       "Pass               5860\n",
       "Ball Receipt*      5395\n",
       "Carry              4922\n",
       "Ball Recovery       628\n",
       "Duel                375\n",
       "Clearance           267\n",
       "Dribble             217\n",
       "Shot                178\n",
       "Interception        157\n",
       "Foul Committed      101\n",
       "Injury Stoppage      42\n",
       "Substitution         40\n",
       "Offside               1\n",
       "Name: type.name, dtype: int64"
      ]
     },
     "execution_count": 16,
     "metadata": {},
     "output_type": "execute_result"
    }
   ],
   "source": [
    "cl_df['type.name'].value_counts()"
   ]
  },
  {
   "cell_type": "code",
   "execution_count": 17,
   "id": "c704eb27-fac7-4753-a477-454e32498d8c",
   "metadata": {
    "tags": []
   },
   "outputs": [],
   "source": [
    "def isolateChains(df):\n",
    "    \"\"\"\n",
    "    Parameters\n",
    "    ----------\n",
    "    df : dataframe\n",
    "        dataframe with StatsBomb event data.\n",
    "\n",
    "    Returns\n",
    "    -------\n",
    "    df: dataframe\n",
    "        dataframe with isolated possesion chains\n",
    "\n",
    "    \"\"\"\n",
    "    df[\"nextTeamName\"] = df.shift(-1, fill_value=0)[\"team.name\"]\n",
    "    #potential +0s\n",
    "    chain_team = df.iloc[0][\"team.name\"]\n",
    "    period = df.iloc[0][\"period\"]\n",
    "    stop_criterion = 0\n",
    "    chain = 0\n",
    "    df[\"possesion_chain\"] = 0\n",
    "    df[\"possesion_chain_team\"] = 0\n",
    "\n",
    "    for i, row in df.iterrows():\n",
    "        # if (row['index']==283):\n",
    "        #     import pdb;pdb.set_trace()\n",
    "        #add value\n",
    "        df.at[i, \"possesion_chain\"] = chain\n",
    "        df.at[i, \"possesion_chain_team\"] = chain_team\n",
    "\n",
    "        if row['team.name'] != chain_team:\n",
    "            stop_criterion+=1\n",
    "        if row[\"type.name\"] in [\"Shot\", \"Foul Committed\", \"Offside\",'Injury Stoppage','Substitution']:\n",
    "            stop_criterion += 2\n",
    "        if row['type.name'] == 'Ball Receipt*':\n",
    "            if row['ball_receipt.outcome.name'] == 'Incomplete':\n",
    "                stop_criterion +=2\n",
    "        #if ball out of field, add 2\n",
    "        if row[\"out\"]==True:\n",
    "            stop_criterion += 2\n",
    "        # if the ball was properly intercepted that is, the next team is the one that made the next event, we stop the chain.         \n",
    "        if row['type.name']=='Interception':\n",
    "            if row['team.name']!=row['nextTeamName']:\n",
    "                stop_criterion +=2\n",
    "            else:\n",
    "                # if the ball was only touched, but did not change possesion, we treat a pass as an accurate one.\n",
    "                stop_criterion = 0\n",
    "  \n",
    "        if stop_criterion == 1 and row['team.name'] == chain_team:\n",
    "            stop_criterion = 0 \n",
    "        #criterion for stopping when half ended\n",
    "        \n",
    "        if row[\"period\"] != period:\n",
    "                chain += 1\n",
    "                stop_criterion = 0\n",
    "                chain_team = row['team.name']\n",
    "                period = row[\"period\"]\n",
    "                df.at[i, \"possesion_chain\"] = chain\n",
    "                df.at[i, \"possesion_chain_team\"] = chain_team\n",
    "        #possesion chain ended\n",
    "        if stop_criterion >= 2:\n",
    "            chain += 1\n",
    "            stop_criterion = 0\n",
    "            chain_team = row['nextTeamName']\n",
    "    return df\n"
   ]
  },
  {
   "cell_type": "code",
   "execution_count": 18,
   "id": "9aba4e02-dbfc-4c41-9da2-23403bffbe3d",
   "metadata": {
    "tags": []
   },
   "outputs": [],
   "source": [
    "df_isolated = isolateChains(city_spurs)"
   ]
  },
  {
   "cell_type": "code",
   "execution_count": 19,
   "id": "7f11e0a6-f1c2-4426-9251-342f5cb82860",
   "metadata": {
    "tags": []
   },
   "outputs": [
    {
     "data": {
      "text/html": [
       "<div>\n",
       "<style scoped>\n",
       "    .dataframe tbody tr th:only-of-type {\n",
       "        vertical-align: middle;\n",
       "    }\n",
       "\n",
       "    .dataframe tbody tr th {\n",
       "        vertical-align: top;\n",
       "    }\n",
       "\n",
       "    .dataframe thead th {\n",
       "        text-align: right;\n",
       "    }\n",
       "</style>\n",
       "<table border=\"1\" class=\"dataframe\">\n",
       "  <thead>\n",
       "    <tr style=\"text-align: right;\">\n",
       "      <th></th>\n",
       "      <th>type.name</th>\n",
       "      <th>possesion_chain</th>\n",
       "      <th>team.name</th>\n",
       "      <th>index</th>\n",
       "    </tr>\n",
       "  </thead>\n",
       "  <tbody>\n",
       "    <tr>\n",
       "      <th>164</th>\n",
       "      <td>Pass</td>\n",
       "      <td>15</td>\n",
       "      <td>Tottenham Hotspur Women</td>\n",
       "      <td>165</td>\n",
       "    </tr>\n",
       "    <tr>\n",
       "      <th>165</th>\n",
       "      <td>Ball Receipt*</td>\n",
       "      <td>15</td>\n",
       "      <td>Tottenham Hotspur Women</td>\n",
       "      <td>166</td>\n",
       "    </tr>\n",
       "  </tbody>\n",
       "</table>\n",
       "</div>"
      ],
      "text/plain": [
       "         type.name  possesion_chain                team.name  index\n",
       "164           Pass               15  Tottenham Hotspur Women    165\n",
       "165  Ball Receipt*               15  Tottenham Hotspur Women    166"
      ]
     },
     "execution_count": 19,
     "metadata": {},
     "output_type": "execute_result"
    }
   ],
   "source": [
    "#investigate a chain\n",
    "df_isolated.loc[df_isolated[\"possesion_chain\"] == 15][[\"type.name\", \"possesion_chain\",'team.name','index']]"
   ]
  },
  {
   "cell_type": "markdown",
   "id": "e59e88b9-db52-4823-9666-58e8e867ee1c",
   "metadata": {},
   "source": [
    "## Calculating xG value"
   ]
  },
  {
   "cell_type": "code",
   "execution_count": 20,
   "id": "571d8b42-6dd9-4790-8ef6-a800d7b32e0e",
   "metadata": {
    "tags": []
   },
   "outputs": [],
   "source": [
    "chains_index = df_isolated[df_isolated['type.name']=='Shot']['possesion_chain'].unique()"
   ]
  },
  {
   "cell_type": "code",
   "execution_count": 21,
   "id": "1ebea87b-e33c-4b20-8cfe-36ac72aa1d57",
   "metadata": {
    "tags": []
   },
   "outputs": [],
   "source": [
    "shot = city_spurs[city_spurs['type.name']=='Shot']"
   ]
  },
  {
   "cell_type": "code",
   "execution_count": 22,
   "id": "46a63a3f-06aa-44d8-9db5-cdb2b6c48de0",
   "metadata": {
    "tags": []
   },
   "outputs": [],
   "source": [
    "df_isolated['end_location'] = df_isolated['carry.end_location'].fillna(df_isolated['shot.end_location']).fillna(df['pass.end_location'])"
   ]
  },
  {
   "cell_type": "code",
   "execution_count": 23,
   "id": "4c762c53-c0b8-48e7-861b-2fc631e3d559",
   "metadata": {
    "tags": []
   },
   "outputs": [],
   "source": [
    "shot_patterns = df_isolated[df_isolated['possesion_chain'].isin(chains_index)][['type.name','location','end_location','possesion_chain','team.name','index','shot.statsbomb_xg']]"
   ]
  },
  {
   "cell_type": "code",
   "execution_count": 24,
   "id": "e862fa2a-7a33-4c40-b4d6-dd34f879fcfe",
   "metadata": {
    "tags": []
   },
   "outputs": [],
   "source": [
    "shot_patterns['shot.statsbomb_xg'] = shot_patterns['shot.statsbomb_xg'].fillna(0.0)"
   ]
  },
  {
   "cell_type": "code",
   "execution_count": 25,
   "id": "e9dfaaf7-746c-4158-bc26-3f6ebf765078",
   "metadata": {
    "tags": []
   },
   "outputs": [],
   "source": [
    "patterns_list = []\n",
    "for c_index in chains_index:\n",
    "    temp_df = shot_patterns[shot_patterns['possesion_chain']==c_index]\n",
    "    temp_df['xGoal'] = max(temp_df['shot.statsbomb_xg'])\n",
    "    patterns_list.append(temp_df)"
   ]
  },
  {
   "cell_type": "code",
   "execution_count": 26,
   "id": "96bcf1bc-6f48-4c4f-8d3b-995e74d6c9c3",
   "metadata": {
    "tags": []
   },
   "outputs": [],
   "source": [
    "shot_patterns_df = pd.concat(patterns_list)"
   ]
  },
  {
   "cell_type": "code",
   "execution_count": 27,
   "id": "8970c534-e6f0-490b-afe5-42c8833feb98",
   "metadata": {
    "tags": []
   },
   "outputs": [
    {
     "data": {
      "text/html": [
       "<div>\n",
       "<style scoped>\n",
       "    .dataframe tbody tr th:only-of-type {\n",
       "        vertical-align: middle;\n",
       "    }\n",
       "\n",
       "    .dataframe tbody tr th {\n",
       "        vertical-align: top;\n",
       "    }\n",
       "\n",
       "    .dataframe thead th {\n",
       "        text-align: right;\n",
       "    }\n",
       "</style>\n",
       "<table border=\"1\" class=\"dataframe\">\n",
       "  <thead>\n",
       "    <tr style=\"text-align: right;\">\n",
       "      <th></th>\n",
       "      <th>type.name</th>\n",
       "      <th>location</th>\n",
       "      <th>end_location</th>\n",
       "      <th>possesion_chain</th>\n",
       "      <th>team.name</th>\n",
       "      <th>index</th>\n",
       "      <th>shot.statsbomb_xg</th>\n",
       "      <th>xGoal</th>\n",
       "    </tr>\n",
       "  </thead>\n",
       "  <tbody>\n",
       "  </tbody>\n",
       "</table>\n",
       "</div>"
      ],
      "text/plain": [
       "Empty DataFrame\n",
       "Columns: [type.name, location, end_location, possesion_chain, team.name, index, shot.statsbomb_xg, xGoal]\n",
       "Index: []"
      ]
     },
     "execution_count": 27,
     "metadata": {},
     "output_type": "execute_result"
    }
   ],
   "source": [
    "shot_patterns_df[shot_patterns_df['possesion_chain']==166]"
   ]
  },
  {
   "cell_type": "markdown",
   "id": "43016b83-2ca9-4493-8703-ac4a81989f43",
   "metadata": {},
   "source": [
    "## Preparing data for modelling"
   ]
  },
  {
   "cell_type": "code",
   "execution_count": 28,
   "id": "94053f39-f86a-4dbd-8177-8e45565d7fa3",
   "metadata": {
    "tags": []
   },
   "outputs": [],
   "source": [
    "shot_patterns_df_copy = shot_patterns_df.copy()"
   ]
  },
  {
   "cell_type": "code",
   "execution_count": 29,
   "id": "18f9669d-6e1d-446e-836d-bece47c85aac",
   "metadata": {
    "tags": []
   },
   "outputs": [],
   "source": [
    "# #columns with coordinates\n",
    "# shot_patterns_df = shot_patterns_df[~shot_patterns_df['end_location'].isna()]\n",
    "# shot_patterns_df[\"x0\"] = shot_patterns_df.location.apply(lambda cell: (cell[0]) * 120/100)\n",
    "# shot_patterns_df[\"c0\"] = shot_patterns_df.location.apply(lambda cell: abs(50 - cell[1]) * 80/100)\n",
    "# shot_patterns_df[\"x1\"] = shot_patterns_df.end_location.apply(lambda cell: (cell[0]) * 120/100)\n",
    "# shot_patterns_df[\"c1\"] = shot_patterns_df.end_location.apply(lambda cell: abs(50 - cell[1]) * 80/100)\n",
    "# #assign (105, 0) to end of the shot\n",
    "# shot_patterns_df.loc[df[\"type.name\"] == \"Shot\", \"x1\"] = 120\n",
    "# shot_patterns_df.loc[df[\"type.name\"] == \"Shot\", \"c1\"] = 0\n",
    "\n",
    "# #for plotting\n",
    "# shot_patterns_df[\"y0\"] = shot_patterns_df.location.apply(lambda cell: (100 - cell[1]) * 80/100)\n",
    "# shot_patterns_df[\"y1\"] = shot_patterns_df.end_location.apply(lambda cell: (100 - cell[1]) * 80/100)\n",
    "# shot_patterns_df.loc[df[\"type.name\"] == \"Shot\", \"y1\"] = 40"
   ]
  },
  {
   "cell_type": "code",
   "execution_count": 30,
   "id": "5f6c74e8-145d-4f02-b1ad-dcbaf571acf1",
   "metadata": {
    "tags": []
   },
   "outputs": [],
   "source": [
    "#columns with coordinates\n",
    "shot_patterns_df = shot_patterns_df[~shot_patterns_df['end_location'].isna()]\n",
    "shot_patterns_df[\"x0\"] = shot_patterns_df.location.apply(lambda cell: (cell[0]))\n",
    "shot_patterns_df[\"c0\"] = shot_patterns_df.location.apply(lambda cell: abs(60 - cell[1]))\n",
    "shot_patterns_df[\"x1\"] = shot_patterns_df.end_location.apply(lambda cell: (cell[0]))\n",
    "shot_patterns_df[\"c1\"] = shot_patterns_df.end_location.apply(lambda cell: abs(60 - cell[1]))\n",
    "#assign (105, 0) to end of the shot\n",
    "shot_patterns_df.loc[df[\"type.name\"] == \"Shot\", \"x1\"] = 120\n",
    "shot_patterns_df.loc[df[\"type.name\"] == \"Shot\", \"c1\"] = 0\n",
    "\n",
    "#for plotting\n",
    "shot_patterns_df[\"y0\"] = shot_patterns_df.location.apply(lambda cell: (cell[1]))\n",
    "shot_patterns_df[\"y1\"] = shot_patterns_df.end_location.apply(lambda cell: (cell[1]))\n",
    "shot_patterns_df.loc[df[\"type.name\"] == \"Shot\", \"y1\"] = 40"
   ]
  },
  {
   "cell_type": "markdown",
   "id": "4171c80d-d697-45e0-b9ad-c1cb00dbc85e",
   "metadata": {
    "tags": []
   },
   "source": [
    "## Possesion chain that ended with a shot"
   ]
  },
  {
   "cell_type": "code",
   "execution_count": 31,
   "id": "afb01c80-0ab8-4087-b34f-44d4420b73ce",
   "metadata": {
    "tags": []
   },
   "outputs": [
    {
     "data": {
      "text/plain": [
       "array([  1,  10,  17,  19,  21,  27,  33,  43,  44,  45,  47,  55,  57,\n",
       "        73,  84,  96, 117, 121, 134, 140, 145, 150, 209, 210, 230, 239,\n",
       "       279, 280, 282, 283, 284, 293, 297, 305, 318, 323])"
      ]
     },
     "execution_count": 31,
     "metadata": {},
     "output_type": "execute_result"
    }
   ],
   "source": [
    "chains_index"
   ]
  },
  {
   "cell_type": "code",
   "execution_count": 32,
   "id": "b684afca-2bc7-4188-b85d-7ed2e23f30e4",
   "metadata": {
    "tags": []
   },
   "outputs": [
    {
     "data": {
      "text/plain": [
       "Carry            173\n",
       "Pass             169\n",
       "Ball Receipt*    167\n",
       "Shot              36\n",
       "Ball Recovery     18\n",
       "Dribble           12\n",
       "Duel               9\n",
       "Clearance          3\n",
       "Interception       3\n",
       "Name: type.name, dtype: int64"
      ]
     },
     "execution_count": 32,
     "metadata": {},
     "output_type": "execute_result"
    }
   ],
   "source": [
    "shot_patterns_df_copy['type.name'].value_counts()"
   ]
  },
  {
   "cell_type": "code",
   "execution_count": 39,
   "id": "a2c6048d-2d0f-4366-986b-6f8a7f79493a",
   "metadata": {
    "tags": []
   },
   "outputs": [
    {
     "data": {
      "image/png": "[encoded data removed]",
      "text/plain": [
       "<Figure size 1240.19x900 with 3 Axes>"
      ]
     },
     "metadata": {},
     "output_type": "display_data"
    }
   ],
   "source": [
    "#plot possesion chain that ended with shot\n",
    "chain = shot_patterns_df.loc[shot_patterns_df[\"possesion_chain\"] == 55]\n",
    "#get passes\n",
    "passes = chain.loc[chain[\"type.name\"].isin([\"Pass\"])]\n",
    "#get events different than pass\n",
    "not_pass = chain.loc[chain[\"type.name\"] != \"Pass\"].iloc[:-1]\n",
    "#shot is the last event of the chain (or should be)\n",
    "shot = chain.iloc[-1]\n",
    "#plot\n",
    "pitch = Pitch(line_color='black',pitch_type='custom', pitch_length=120, pitch_width=80, line_zorder = 2)\n",
    "fig, ax = pitch.grid(grid_height=0.9, title_height=0.06, axis=False,\n",
    "                     endnote_height=0.04, title_space=0, endnote_space=0)\n",
    "#passes\n",
    "pitch.arrows(passes.x0, passes.y0,\n",
    "            passes.x1, passes.y1, color = \"blue\", ax=ax['pitch'], zorder =  3)\n",
    "#shot\n",
    "pitch.arrows(shot.x0, shot.y0,\n",
    "            shot.x1, shot.y1, color = \"red\", ax=ax['pitch'], zorder =  3)\n",
    "#other passes like arrows\n",
    "pitch.lines(not_pass.x0, not_pass.y0, not_pass.x1, not_pass.y1, color = \"grey\", lw = 1.5, ls = 'dotted', ax=ax['pitch'])\n",
    "ax['title'].text(0.5, 0.5, 'Passes leading to a shot', ha='center', va='center', fontsize=30)\n",
    "plt.show()"
   ]
  },
  {
   "cell_type": "markdown",
   "id": "7e84efba-8074-4fb3-b1fc-5cf78f5ae12a",
   "metadata": {},
   "source": [
    "## Possesion chain that did not end with a shot"
   ]
  },
  {
   "cell_type": "code",
   "execution_count": 40,
   "id": "d7153a70-f9fa-461f-b33f-f2b22b7d6bc2",
   "metadata": {
    "tags": []
   },
   "outputs": [],
   "source": [
    "n1 = df_isolated['possesion_chain'].unique() \n",
    "n2 =  chains_index\n",
    "not_pass_index = np.setdiff1d(n1, n2)"
   ]
  },
  {
   "cell_type": "code",
   "execution_count": 41,
   "id": "19130db1-eae4-40b2-b09a-d26e71265c17",
   "metadata": {
    "tags": []
   },
   "outputs": [],
   "source": [
    "not_pass_patterns_df = df_isolated[df_isolated['possesion_chain'].isin(not_pass_index)][['type.name','location','end_location','possesion_chain','team.name','index']]\n",
    "\n"
   ]
  },
  {
   "cell_type": "code",
   "execution_count": 42,
   "id": "59f9ff7a-af56-43dc-932d-844b83cc80d6",
   "metadata": {
    "tags": []
   },
   "outputs": [],
   "source": [
    "#columns with coordinates\n",
    "not_pass_patterns_df = not_pass_patterns_df[~not_pass_patterns_df['end_location'].isna()]\n",
    "not_pass_patterns_df[\"x0\"] = not_pass_patterns_df.location.apply(lambda cell: (cell[0]))\n",
    "not_pass_patterns_df[\"c0\"] = not_pass_patterns_df.location.apply(lambda cell: abs(60 - cell[1]))\n",
    "not_pass_patterns_df[\"x1\"] = not_pass_patterns_df.end_location.apply(lambda cell: (cell[0]))\n",
    "not_pass_patterns_df[\"c1\"] = not_pass_patterns_df.end_location.apply(lambda cell: abs(60 - cell[1]))\n",
    "# #assign (105, 0) to end of the shot\n",
    "# not_pass_patterns_df.loc[df[\"type.name\"] == \"Shot\", \"x1\"] = 120\n",
    "# not_pass_patterns_df.loc[df[\"type.name\"] == \"Shot\", \"c1\"] = 0\n",
    "\n",
    "#for plotting\n",
    "not_pass_patterns_df[\"y0\"] = not_pass_patterns_df.location.apply(lambda cell: (cell[1]))\n",
    "not_pass_patterns_df[\"y1\"] = not_pass_patterns_df.end_location.apply(lambda cell: (cell[1]))\n",
    "# not_pass_patterns_df.loc[df[\"type.name\"] == \"Shot\", \"y1\"] = 40"
   ]
  },
  {
   "cell_type": "code",
   "execution_count": 66,
   "id": "f1c78aa9-acb8-4c08-a9ff-f8df1d73141f",
   "metadata": {
    "tags": []
   },
   "outputs": [
    {
     "data": {
      "image/png": "[encoded data removed]",
      "text/plain": [
       "<Figure size 1240.19x900 with 3 Axes>"
      ]
     },
     "metadata": {},
     "output_type": "display_data"
    }
   ],
   "source": [
    "#plot possesion chain that ended with shot\n",
    "chain = not_pass_patterns_df.loc[not_pass_patterns_df[\"possesion_chain\"] == not_pass_index[7]]\n",
    "passes = chain.loc[chain[\"type.name\"].isin([\"Pass\", \"Foul Committed\"])].iloc[:-1]\n",
    "not_pass = chain.loc[(chain[\"type.name\"] != \"Pass\") & (chain[\"type.name\"] != \"Foul Committed\")].iloc[:-1]\n",
    "bad_pass = chain.iloc[-1]\n",
    "#we could have used better\n",
    "pitch = Pitch(line_color='black',pitch_type='custom', pitch_length=120, pitch_width=80, line_zorder = 2)\n",
    "fig, ax = pitch.grid(grid_height=0.9, title_height=0.06, axis=False,\n",
    "                     endnote_height=0.04, title_space=0, endnote_space=0)\n",
    "pitch.arrows(passes.x0, passes.y0,\n",
    "            passes.x1, passes.y1, color = \"blue\", ax=ax['pitch'], zorder =  3)\n",
    "pitch.arrows(bad_pass.x0, bad_pass.y0,\n",
    "            bad_pass.x1, bad_pass.y1, color = \"purple\", ax=ax['pitch'], zorder =  3)\n",
    "pitch.scatter(bad_pass.x1, bad_pass.y1, marker = 'x', color = \"red\", ax=ax['pitch'], zorder =  3, s= 200)\n",
    "pitch.lines(not_pass.x0, not_pass.y0, not_pass.x1, not_pass.y1, color = \"grey\", lw = 1.5, ls = 'dotted', ax=ax['pitch'])\n",
    "ax['title'].text(0.5, 0.5, 'Passes not ending in a shot', ha='center', va='center', fontsize=30)\n",
    "plt.show()\n"
   ]
  }
 ],
 "metadata": {
  "kernelspec": {
   "display_name": "Python 3 (ipykernel)",
   "language": "python",
   "name": "python3"
  },
  "language_info": {
   "codemirror_mode": {
    "name": "ipython",
    "version": 3
   },
   "file_extension": ".py",
   "mimetype": "text/x-python",
   "name": "python",
   "nbconvert_exporter": "python",
   "pygments_lexer": "ipython3",
   "version": "3.11.1"
  }
 },
 "nbformat": 4,
 "nbformat_minor": 5
}
